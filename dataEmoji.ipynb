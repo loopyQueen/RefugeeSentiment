{
 "cells": [
  {
   "cell_type": "markdown",
   "metadata": {},
   "source": [
    "Copyright (c) <2022>, <Regina Nockerts>\n",
    "All rights reserved.\n",
    "\n",
    "This source code is licensed under the BSD-style license found in the\n",
    "LICENSE file in the root directory of this source tree. \n",
    "\n",
    "Sources\n",
    "- Sentiment of Emojis, Nova et. al."
   ]
  },
  {
   "cell_type": "code",
   "execution_count": 8,
   "metadata": {},
   "outputs": [],
   "source": [
    "import pandas as pd\n",
    "import numpy as np\n",
    "import os.path\n",
    "from nlpUtils import aardvark as aa \n",
    "import emoji  # https://pypi.org/project/emoji/\n",
    "from vaderSentiment.vaderSentiment import SentimentIntensityAnalyzer\n"
   ]
  },
  {
   "cell_type": "code",
   "execution_count": 23,
   "metadata": {},
   "outputs": [
    {
     "data": {
      "text/plain": [
       "<module 'nlpUtils.aardvark' from 'c:\\\\Users\\\\rnocker\\\\Desktop\\\\python\\\\thesisAgain\\\\nlpUtils\\\\aardvark.py'>"
      ]
     },
     "execution_count": 23,
     "metadata": {},
     "output_type": "execute_result"
    }
   ],
   "source": [
    "import importlib\n",
    "importlib.reload(aa)"
   ]
  },
  {
   "cell_type": "markdown",
   "metadata": {},
   "source": [
    "# _____________ FUNCTIONS ____________\n",
    "### NOTE: change the sentiment intensity dictionary in aardvark.py"
   ]
  },
  {
   "cell_type": "code",
   "execution_count": 5,
   "metadata": {},
   "outputs": [],
   "source": [
    "# FROM aardvark\n",
    "# create the sentiment intensity dictionary object: sid = SentimentIntensityAnalyzer()  \n",
    "    # NOTE: this NEEDS to stay outside of the functions. I will be modifying it.\n",
    "# creates the sentiment intensity dictionary: aa.vader_sid(tweet)\n",
    "# gets the compound score: aa.vader_sent_compound(tweet)\n",
    "# gets the classification of the compund score using the authors' suggested cutoff points: aa.vader_pred(tweet, pos_cut, neg_cut)\n"
   ]
  },
  {
   "cell_type": "markdown",
   "metadata": {},
   "source": [
    "# Setup\n",
    "Assumes that you are coming from dataCleaningB"
   ]
  },
  {
   "cell_type": "code",
   "execution_count": 9,
   "metadata": {},
   "outputs": [
    {
     "name": "stdout",
     "output_type": "stream",
     "text": [
      "(1211, 10)\n",
      "(200084, 5)\n",
      "\n",
      "['id_stable', 'Date', 'Content', 'ContentClean', 'Labels', 'label_sent', 'y_sent', 'label_stance', 'y_stance', 'Flag']\n"
     ]
    }
   ],
   "source": [
    "# Import the file that results from dataCleaningB\n",
    "tweets_clean = pd.read_csv(os.path.join('archiveData', \"cleanB_tweets_clean.csv\"), header=0, index_col=0)\n",
    "tweets_unlabeled = pd.read_csv(os.path.join('archiveData', \"cleanB_tweets_unlabeled.csv\"), header=0, index_col=0)\n",
    "\n",
    "print(tweets_clean.shape)\n",
    "print(tweets_unlabeled.shape)\n",
    "print()\n",
    "print(list(tweets_clean.columns))"
   ]
  },
  {
   "cell_type": "markdown",
   "metadata": {},
   "source": [
    "# How does emoji package handle this?"
   ]
  },
  {
   "cell_type": "code",
   "execution_count": 10,
   "metadata": {},
   "outputs": [
    {
     "name": "stdout",
     "output_type": "stream",
     "text": [
      "Python is 👍\n",
      "Python is :thumbs_up:\n",
      "Python is:thumbs_up:\n",
      "True\n"
     ]
    }
   ],
   "source": [
    "print(emoji.emojize('Python is :thumbs_up:'))\n",
    "print(emoji.demojize('Python is 👍'))\n",
    "print(emoji.demojize('Python is👍'))\n",
    "print(emoji.is_emoji(\"👍\"))"
   ]
  },
  {
   "cell_type": "markdown",
   "metadata": {},
   "source": [
    "# Emojis\n",
    "\n",
    "First, what emojis do we have?"
   ]
  },
  {
   "cell_type": "code",
   "execution_count": 11,
   "metadata": {},
   "outputs": [],
   "source": [
    "# Find all emoji in both the labeled and unlabeled sets\n",
    "a = aa.emoji_df(tweets_clean)\n",
    "b = aa.emoji_df(tweets_unlabeled)\n",
    "emoji_list = a+b\n",
    "emoji_list = list(dict.fromkeys(emoji_list))  # gets rid of duplicates\n",
    "\n",
    "# Translate them into text using the emoji package\n",
    "demoji_list = []\n",
    "for i in emoji_list: \n",
    "    demoji_list.append(emoji.demojize(i))\n",
    "\n",
    "# Turn the two lists into a dataframe\n",
    "emoji_df_full = pd.DataFrame(zip(emoji_list, demoji_list), columns=[\"emoji\", \"demoji\"])\n",
    "emoji_df_full"
   ]
  },
  {
   "cell_type": "markdown",
   "metadata": {},
   "source": [
    "Then, what score does VADER give the emoji versus the demoji?"
   ]
  },
  {
   "cell_type": "code",
   "execution_count": 5,
   "metadata": {},
   "outputs": [
    {
     "name": "stdout",
     "output_type": "stream",
     "text": [
      "0.3612\n",
      "0.3612\n",
      "0.3612\n",
      "0.0\n"
     ]
    }
   ],
   "source": [
    "print(aa.vader_sent_compound(\"😀\"))\n",
    "print(aa.vader_sent_compound(\"grinning face\"))\n",
    "print(aa.vader_sent_compound(\"grinning\"))\n",
    "print(aa.vader_sent_compound(\"face\"))"
   ]
  },
  {
   "cell_type": "code",
   "execution_count": 6,
   "metadata": {},
   "outputs": [
    {
     "data": {
      "text/html": [
       "<div>\n",
       "<style scoped>\n",
       "    .dataframe tbody tr th:only-of-type {\n",
       "        vertical-align: middle;\n",
       "    }\n",
       "\n",
       "    .dataframe tbody tr th {\n",
       "        vertical-align: top;\n",
       "    }\n",
       "\n",
       "    .dataframe thead th {\n",
       "        text-align: right;\n",
       "    }\n",
       "</style>\n",
       "<table border=\"1\" class=\"dataframe\">\n",
       "  <thead>\n",
       "    <tr style=\"text-align: right;\">\n",
       "      <th></th>\n",
       "      <th>emoji</th>\n",
       "      <th>demoji</th>\n",
       "      <th>VaderEmojiScore</th>\n",
       "      <th>VaderDEmojiScore</th>\n",
       "    </tr>\n",
       "  </thead>\n",
       "  <tbody>\n",
       "    <tr>\n",
       "      <th>0</th>\n",
       "      <td>🚨</td>\n",
       "      <td>:police_car_light:</td>\n",
       "      <td>0.0000</td>\n",
       "      <td>0.0</td>\n",
       "    </tr>\n",
       "    <tr>\n",
       "      <th>1</th>\n",
       "      <td>🙏</td>\n",
       "      <td>:folded_hands:</td>\n",
       "      <td>0.0000</td>\n",
       "      <td>0.0</td>\n",
       "    </tr>\n",
       "    <tr>\n",
       "      <th>2</th>\n",
       "      <td>🤷</td>\n",
       "      <td>:person_shrugging:</td>\n",
       "      <td>0.0000</td>\n",
       "      <td>0.0</td>\n",
       "    </tr>\n",
       "    <tr>\n",
       "      <th>3</th>\n",
       "      <td>🙄</td>\n",
       "      <td>:face_with_rolling_eyes:</td>\n",
       "      <td>0.0000</td>\n",
       "      <td>0.0</td>\n",
       "    </tr>\n",
       "    <tr>\n",
       "      <th>4</th>\n",
       "      <td>😂</td>\n",
       "      <td>:face_with_tears_of_joy:</td>\n",
       "      <td>0.4404</td>\n",
       "      <td>0.0</td>\n",
       "    </tr>\n",
       "    <tr>\n",
       "      <th>...</th>\n",
       "      <td>...</td>\n",
       "      <td>...</td>\n",
       "      <td>...</td>\n",
       "      <td>...</td>\n",
       "    </tr>\n",
       "    <tr>\n",
       "      <th>1101</th>\n",
       "      <td>🦾</td>\n",
       "      <td>:mechanical_arm:</td>\n",
       "      <td>0.0000</td>\n",
       "      <td>0.0</td>\n",
       "    </tr>\n",
       "    <tr>\n",
       "      <th>1102</th>\n",
       "      <td>🏃🏾‍♂️</td>\n",
       "      <td>:man_running_medium-dark_skin_tone:</td>\n",
       "      <td>0.0000</td>\n",
       "      <td>0.0</td>\n",
       "    </tr>\n",
       "    <tr>\n",
       "      <th>1103</th>\n",
       "      <td>🚑</td>\n",
       "      <td>:ambulance:</td>\n",
       "      <td>0.0000</td>\n",
       "      <td>0.0</td>\n",
       "    </tr>\n",
       "    <tr>\n",
       "      <th>1104</th>\n",
       "      <td>🎃</td>\n",
       "      <td>:jack-o-lantern:</td>\n",
       "      <td>0.0000</td>\n",
       "      <td>0.0</td>\n",
       "    </tr>\n",
       "    <tr>\n",
       "      <th>1105</th>\n",
       "      <td>®️</td>\n",
       "      <td>:registered:</td>\n",
       "      <td>0.0000</td>\n",
       "      <td>0.0</td>\n",
       "    </tr>\n",
       "  </tbody>\n",
       "</table>\n",
       "<p>1106 rows × 4 columns</p>\n",
       "</div>"
      ],
      "text/plain": [
       "      emoji                               demoji  VaderEmojiScore  \\\n",
       "0         🚨                   :police_car_light:           0.0000   \n",
       "1         🙏                       :folded_hands:           0.0000   \n",
       "2         🤷                   :person_shrugging:           0.0000   \n",
       "3         🙄             :face_with_rolling_eyes:           0.0000   \n",
       "4         😂             :face_with_tears_of_joy:           0.4404   \n",
       "...     ...                                  ...              ...   \n",
       "1101      🦾                     :mechanical_arm:           0.0000   \n",
       "1102  🏃🏾‍♂️  :man_running_medium-dark_skin_tone:           0.0000   \n",
       "1103      🚑                          :ambulance:           0.0000   \n",
       "1104      🎃                     :jack-o-lantern:           0.0000   \n",
       "1105     ®️                         :registered:           0.0000   \n",
       "\n",
       "      VaderDEmojiScore  \n",
       "0                  0.0  \n",
       "1                  0.0  \n",
       "2                  0.0  \n",
       "3                  0.0  \n",
       "4                  0.0  \n",
       "...                ...  \n",
       "1101               0.0  \n",
       "1102               0.0  \n",
       "1103               0.0  \n",
       "1104               0.0  \n",
       "1105               0.0  \n",
       "\n",
       "[1106 rows x 4 columns]"
      ]
     },
     "execution_count": 6,
     "metadata": {},
     "output_type": "execute_result"
    }
   ],
   "source": [
    "emoji_df_full[\"VaderEmojiScore\"] = emoji_df_full[\"emoji\"].apply(aa.vader_sent_compound)\n",
    "emoji_df_full[\"VaderDEmojiScore\"] = emoji_df_full[\"demoji\"].apply(aa.vader_sent_compound)\n",
    "emoji_df_full"
   ]
  },
  {
   "cell_type": "code",
   "execution_count": 7,
   "metadata": {},
   "outputs": [
    {
     "name": "stdout",
     "output_type": "stream",
     "text": [
      "⚠️ :warning: -0.34\n",
      "🔥 :fire: -0.34\n",
      "💥 :collision: -0.3612\n",
      "✨ :sparkles: 0.3182\n",
      "💤 :zzz: -0.296\n",
      "🃏 :joker: 0.128\n",
      "💫 :dizzy: -0.2263\n",
      "💣 :bomb: -0.4939\n",
      "👻 :ghost: -0.3182\n",
      "⚠ :warning: -0.34\n",
      "❇️ :sparkle: 0.4215\n"
     ]
    }
   ],
   "source": [
    "for i, score in enumerate(emoji_df_full[\"VaderDEmojiScore\"]):\n",
    "    if score != 0:\n",
    "        print(emoji_df_full[\"emoji\"].iloc[i], emoji_df_full[\"demoji\"].iloc[i], emoji_df_full[\"VaderDEmojiScore\"].iloc[i])"
   ]
  },
  {
   "cell_type": "markdown",
   "metadata": {},
   "source": [
    "So, that only worked for a very small number of emoji. The translation between the two must not be the same. Sigh.\n",
    "\n",
    "VADER does a basic swap of emoji for text using a dictionary. Lets See how VADER translates them. "
   ]
  },
  {
   "cell_type": "code",
   "execution_count": 8,
   "metadata": {},
   "outputs": [
    {
     "data": {
      "text/html": [
       "<div>\n",
       "<style scoped>\n",
       "    .dataframe tbody tr th:only-of-type {\n",
       "        vertical-align: middle;\n",
       "    }\n",
       "\n",
       "    .dataframe tbody tr th {\n",
       "        vertical-align: top;\n",
       "    }\n",
       "\n",
       "    .dataframe thead th {\n",
       "        text-align: right;\n",
       "    }\n",
       "</style>\n",
       "<table border=\"1\" class=\"dataframe\">\n",
       "  <thead>\n",
       "    <tr style=\"text-align: right;\">\n",
       "      <th></th>\n",
       "      <th>emoji</th>\n",
       "      <th>translation</th>\n",
       "    </tr>\n",
       "  </thead>\n",
       "  <tbody>\n",
       "    <tr>\n",
       "      <th>0</th>\n",
       "      <td>😀</td>\n",
       "      <td>grinning face</td>\n",
       "    </tr>\n",
       "    <tr>\n",
       "      <th>1</th>\n",
       "      <td>😁</td>\n",
       "      <td>beaming face with smiling eyes</td>\n",
       "    </tr>\n",
       "    <tr>\n",
       "      <th>2</th>\n",
       "      <td>😂</td>\n",
       "      <td>face with tears of joy</td>\n",
       "    </tr>\n",
       "    <tr>\n",
       "      <th>3</th>\n",
       "      <td>🤣</td>\n",
       "      <td>rolling on the floor laughing</td>\n",
       "    </tr>\n",
       "    <tr>\n",
       "      <th>4</th>\n",
       "      <td>😃</td>\n",
       "      <td>grinning face with big eyes</td>\n",
       "    </tr>\n",
       "  </tbody>\n",
       "</table>\n",
       "</div>"
      ],
      "text/plain": [
       "  emoji                     translation\n",
       "0     😀                   grinning face\n",
       "1     😁  beaming face with smiling eyes\n",
       "2     😂          face with tears of joy\n",
       "3     🤣   rolling on the floor laughing\n",
       "4     😃     grinning face with big eyes"
      ]
     },
     "execution_count": 8,
     "metadata": {},
     "output_type": "execute_result"
    }
   ],
   "source": [
    "e_df = pd.read_csv(\"data/VaderEmojiTranslate.txt\", encoding=\"utf-8\", header=0, sep=\"\t\")\n",
    "e_df.head()"
   ]
  },
  {
   "cell_type": "code",
   "execution_count": 9,
   "metadata": {},
   "outputs": [
    {
     "name": "stdout",
     "output_type": "stream",
     "text": [
      "0.3612\n",
      "0.3612\n",
      "0.3612\n",
      "0.0\n",
      "\n",
      "0.4404\n",
      "0.4404\n",
      "0.0\n",
      "0.0\n",
      "-0.2263\n",
      "0.0\n",
      "0.5859\n",
      "0.3596\n"
     ]
    }
   ],
   "source": [
    "print(aa.vader_sent_compound(\"😀\"))\n",
    "print(aa.vader_sent_compound(\"grinning face\"))\n",
    "print(aa.vader_sent_compound(\"grinning\"))\n",
    "print(aa.vader_sent_compound(\"face\"))\n",
    "print()\n",
    "print(aa.vader_sent_compound(\"😂\"))\n",
    "print(aa.vader_sent_compound(\"face with tears of joy\"))\n",
    "print(aa.vader_sent_compound(\"face\"))\n",
    "print(aa.vader_sent_compound(\"with\"))\n",
    "print(aa.vader_sent_compound(\"tears\"))\n",
    "print(aa.vader_sent_compound(\"of\"))\n",
    "print(aa.vader_sent_compound(\"joy\"))\n",
    "print(aa.vader_sent_compound(\"face\") + aa.vader_sent_compound(\"with\") + aa.vader_sent_compound(\"tears\") + aa.vader_sent_compound(\"of\") + aa.vader_sent_compound(\"joy\"))"
   ]
  },
  {
   "cell_type": "markdown",
   "metadata": {},
   "source": [
    "Unfortunaely, VADER is not recognizing the emoji translations as special set phrases. Instead it is doing a straightforward swap of emoji for text and then treating the the text the same as any other text. So you can't update the emoji-phrase as a whole in the lexicon; you have to update words within it. And if you do that, those words' sentiment score will change for ALL text, not just the emoji swap-text. So. That's not ideal.\n",
    "\n",
    "So, we can either just adopt this approach. Which seems ok - it should hurt VADER more than BERT (bert can probably learn to recognize them as set phrases). \n",
    "\n",
    "Or we can build a set of special set terms (ex: 😂 --> emoji-tears-joy).\n",
    "\n",
    "First we need to see if our emojis really aren't in the VADER dictionary. Which seems weird."
   ]
  },
  {
   "cell_type": "code",
   "execution_count": 10,
   "metadata": {},
   "outputs": [
    {
     "name": "stdout",
     "output_type": "stream",
     "text": [
      "🙄 : face with rolling eyes\n",
      "🚨 : police car light\n"
     ]
    }
   ],
   "source": [
    "for i, emoji in enumerate(e_df[\"emoji\"]):\n",
    "    if emoji == \"🚨\":  # demoji: :police_car_light:\n",
    "        print(e_df[\"emoji\"].iloc[i], \":\", e_df[\"translation\"].iloc[i])\n",
    "    if emoji == \"🙄\":  # demoji: :face_with_rolling_eyes:\n",
    "        print(e_df[\"emoji\"].iloc[i], \":\", e_df[\"translation\"].iloc[i])"
   ]
  },
  {
   "cell_type": "markdown",
   "metadata": {},
   "source": [
    "Ok, so they are in there. It's just that the words as words don't have a lot of emotional valence.\n",
    "\n",
    "And the text is just the same as the demoji version, only without the underscores... Which is would make option two (building set terms) easier. "
   ]
  },
  {
   "cell_type": "code",
   "execution_count": 11,
   "metadata": {},
   "outputs": [
    {
     "name": "stdout",
     "output_type": "stream",
     "text": [
      "0.0\n",
      "0.0\n",
      "0.0\n",
      "0.0\n",
      "0.0\n",
      "0.0\n"
     ]
    }
   ],
   "source": [
    "print(aa.vader_sent_compound(\"🙄\"))\n",
    "print(aa.vader_sent_compound(\"face with rolling eyes\"))\n",
    "print(aa.vader_sent_compound(\"face\"))\n",
    "print(aa.vader_sent_compound(\"with\"))\n",
    "print(aa.vader_sent_compound(\"rolling\"))\n",
    "print(aa.vader_sent_compound(\"eyes\"))\n"
   ]
  },
  {
   "cell_type": "markdown",
   "metadata": {},
   "source": [
    "Just swapping out the emoji for text is clearly not working because the emoji clearly has sentiment that is being lost when you just take the words as individual words.\n",
    "\n",
    "So, let's build a dataframe that we can use to swap the emoji for text codes that we can then assign sentiment to in the VADER lexicon and let BERT learn.\n",
    "\n",
    "We already said that the VADER approach isn't ideal. So let's look at a dictionary that was specifically built to give sentiment scores to emoji: emosent."
   ]
  },
  {
   "cell_type": "code",
   "execution_count": 12,
   "metadata": {},
   "outputs": [],
   "source": [
    "emoji_df_full.drop(\"VaderDEmojiScore\", axis=1, inplace=True)"
   ]
  },
  {
   "cell_type": "code",
   "execution_count": 13,
   "metadata": {},
   "outputs": [
    {
     "data": {
      "text/html": [
       "<div>\n",
       "<style scoped>\n",
       "    .dataframe tbody tr th:only-of-type {\n",
       "        vertical-align: middle;\n",
       "    }\n",
       "\n",
       "    .dataframe tbody tr th {\n",
       "        vertical-align: top;\n",
       "    }\n",
       "\n",
       "    .dataframe thead th {\n",
       "        text-align: right;\n",
       "    }\n",
       "</style>\n",
       "<table border=\"1\" class=\"dataframe\">\n",
       "  <thead>\n",
       "    <tr style=\"text-align: right;\">\n",
       "      <th></th>\n",
       "      <th>emoji</th>\n",
       "      <th>demoji</th>\n",
       "      <th>VaderEmojiScore</th>\n",
       "      <th>emosentScore</th>\n",
       "    </tr>\n",
       "  </thead>\n",
       "  <tbody>\n",
       "    <tr>\n",
       "      <th>0</th>\n",
       "      <td>🚨</td>\n",
       "      <td>:police_car_light:</td>\n",
       "      <td>0.0000</td>\n",
       "      <td>0.673</td>\n",
       "    </tr>\n",
       "    <tr>\n",
       "      <th>1</th>\n",
       "      <td>🙏</td>\n",
       "      <td>:folded_hands:</td>\n",
       "      <td>0.0000</td>\n",
       "      <td>0.418</td>\n",
       "    </tr>\n",
       "    <tr>\n",
       "      <th>2</th>\n",
       "      <td>🤷</td>\n",
       "      <td>:person_shrugging:</td>\n",
       "      <td>0.0000</td>\n",
       "      <td></td>\n",
       "    </tr>\n",
       "    <tr>\n",
       "      <th>3</th>\n",
       "      <td>🙄</td>\n",
       "      <td>:face_with_rolling_eyes:</td>\n",
       "      <td>0.0000</td>\n",
       "      <td></td>\n",
       "    </tr>\n",
       "    <tr>\n",
       "      <th>4</th>\n",
       "      <td>😂</td>\n",
       "      <td>:face_with_tears_of_joy:</td>\n",
       "      <td>0.4404</td>\n",
       "      <td>0.221</td>\n",
       "    </tr>\n",
       "  </tbody>\n",
       "</table>\n",
       "</div>"
      ],
      "text/plain": [
       "  emoji                    demoji  VaderEmojiScore emosentScore\n",
       "0     🚨        :police_car_light:           0.0000        0.673\n",
       "1     🙏            :folded_hands:           0.0000        0.418\n",
       "2     🤷        :person_shrugging:           0.0000             \n",
       "3     🙄  :face_with_rolling_eyes:           0.0000             \n",
       "4     😂  :face_with_tears_of_joy:           0.4404        0.221"
      ]
     },
     "execution_count": 13,
     "metadata": {},
     "output_type": "execute_result"
    }
   ],
   "source": [
    "emoji_df_full[\"emosentScore\"] = emoji_df_full[\"emoji\"].apply(aa.emosent_score)\n",
    "emoji_df_full.head()"
   ]
  },
  {
   "cell_type": "code",
   "execution_count": 14,
   "metadata": {},
   "outputs": [
    {
     "data": {
      "text/plain": [
       "          638\n",
       "0.0        21\n",
       "1.0        18\n",
       "0.333      16\n",
       "0.5         9\n",
       "         ... \n",
       "0.063       1\n",
       "0.179       1\n",
       "0.581       1\n",
       "-0.314      1\n",
       "0.617       1\n",
       "Name: emosentScore, Length: 283, dtype: int64"
      ]
     },
     "execution_count": 14,
     "metadata": {},
     "output_type": "execute_result"
    }
   ],
   "source": [
    "emoji_df_full[\"emosentScore\"].value_counts()"
   ]
  },
  {
   "cell_type": "markdown",
   "metadata": {},
   "source": [
    "So emosent misses 638 emoji and scores another 21 as 0. That's at least a lot better."
   ]
  },
  {
   "cell_type": "code",
   "execution_count": 15,
   "metadata": {},
   "outputs": [
    {
     "data": {
      "text/plain": [
       "('❤️', 3)"
      ]
     },
     "execution_count": 15,
     "metadata": {},
     "output_type": "execute_result"
    }
   ],
   "source": [
    "aa.term_check(\"❤️\", tweets_clean)"
   ]
  },
  {
   "cell_type": "code",
   "execution_count": 16,
   "metadata": {},
   "outputs": [
    {
     "data": {
      "text/plain": [
       "''"
      ]
     },
     "execution_count": 16,
     "metadata": {},
     "output_type": "execute_result"
    }
   ],
   "source": [
    "aa.emosent_score(\"❤️\")"
   ]
  },
  {
   "cell_type": "markdown",
   "metadata": {},
   "source": [
    "It's still missing some pretty basic ones, though. Fixing this is a job for later, I think. \n",
    "\n",
    "For now, I think we can safely substitute the emoji for the demoji in the text. Latter we can refine this dictionary and use it to update the VADER ditionary."
   ]
  },
  {
   "cell_type": "code",
   "execution_count": 17,
   "metadata": {},
   "outputs": [],
   "source": [
    "emoji_df_full.to_csv(os.path.join('data', \"emoji_full.csv\"))"
   ]
  },
  {
   "cell_type": "code",
   "execution_count": 21,
   "metadata": {},
   "outputs": [],
   "source": [
    "# Demojize the dataframes\n",
    "tweets_clean['ContentClean'] = tweets_clean['ContentClean'].apply(emoji.demojize)\n",
    "tweets_unlabeled['ContentClean'] = tweets_unlabeled['ContentClean'].apply(emoji.demojize)\n"
   ]
  },
  {
   "cell_type": "code",
   "execution_count": 22,
   "metadata": {},
   "outputs": [
    {
     "name": "stdout",
     "output_type": "stream",
     "text": [
      "('❤️', 0)\n",
      "0\n",
      "('❤️', 0)\n",
      "0\n"
     ]
    }
   ],
   "source": [
    "# Check if there are any emoji left\n",
    "print(aa.term_check(\"❤️\", tweets_clean))\n",
    "emoji_tweets_temp = []\n",
    "for i, tweet in enumerate(tweets_clean[\"ContentClean\"]):\n",
    "    for e in emoji_list:\n",
    "        if e in tweet:\n",
    "            emoji_tweets_temp.append(i)\n",
    "print(len(emoji_tweets_temp))\n",
    "\n",
    "print(aa.term_check(\"❤️\", tweets_unlabeled))\n",
    "emoji_tweets_temp = []\n",
    "for i, tweet in enumerate(tweets_unlabeled[\"ContentClean\"]):\n",
    "    for e in emoji_list:\n",
    "        if e in tweet:\n",
    "            emoji_tweets_temp.append(i)\n",
    "print(len(emoji_tweets_temp))"
   ]
  },
  {
   "cell_type": "markdown",
   "metadata": {},
   "source": [
    "So, the different models will need to handle these text codes differently.\n",
    "\n",
    "For VADER, I will have to create a dictionary of these codes as \"words\" that can be added to the lexicon.\n",
    "* keep the scores from the emosent library as the prioirity\n",
    "* Use the VADER score as a backup\n",
    "* Manually check the results to make sure they are reasonable and identify ones to customize.\n",
    "\n",
    "For BERT, make sure that the codes do not get coded as [UKN]. After that, I think the model can take over."
   ]
  },
  {
   "cell_type": "markdown",
   "metadata": {},
   "source": [
    "## _____________ ##\n",
    "# Save to go back to dataCleaningB"
   ]
  },
  {
   "cell_type": "code",
   "execution_count": 24,
   "metadata": {},
   "outputs": [],
   "source": [
    "emoji_df_full.to_csv(os.path.join('data', \"emoji_full.csv\"))\n",
    "tweets_clean.to_csv(os.path.join('archiveData', \"demoji_tweets_clean.csv\"))\n",
    "tweets_unlabeled.to_csv(os.path.join('archiveData', \"demoji_tweets_unlabeled.csv\"))"
   ]
  }
 ],
 "metadata": {
  "interpreter": {
   "hash": "2522cab69aef9135531abc74cfe3f2456cb406a72442e0865122b8d4f66eb9dc"
  },
  "kernelspec": {
   "display_name": "Python 3.9.12 ('base')",
   "language": "python",
   "name": "python3"
  },
  "language_info": {
   "codemirror_mode": {
    "name": "ipython",
    "version": 3
   },
   "file_extension": ".py",
   "mimetype": "text/x-python",
   "name": "python",
   "nbconvert_exporter": "python",
   "pygments_lexer": "ipython3",
   "version": "3.9.12"
  },
  "orig_nbformat": 4
 },
 "nbformat": 4,
 "nbformat_minor": 2
}
