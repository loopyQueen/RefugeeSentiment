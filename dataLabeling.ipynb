{
 "cells": [
  {
   "cell_type": "markdown",
   "metadata": {},
   "source": [
    "Copyright (c) <2022>, <Regina Nockerts>\n",
    "All rights reserved.\n",
    "\n",
    "This source code is licensed under the BSD-style license found in the\n",
    "LICENSE file in the root directory of this source tree. \n",
    "\n",
    "\n",
    "# Labeling the Training Dataset\n",
    "\n",
    "### Data Viewer\n",
    "If you want to explore the dataframe after you load it, use the data viewer: double-click on the variable name in the list on the right. \n",
    "* Might be useful if you want to see the uncleaned version of the tweet.\n",
    "* It can be hard to see, but the columns *are* resizable\n",
    "* You can scroll within a selected cell. \n",
    "* Unfortunately, you cannot make changes there.\n",
    "\n",
    "### Setup\n",
    "First, load the necessary packages."
   ]
  },
  {
   "cell_type": "code",
   "execution_count": 3,
   "metadata": {},
   "outputs": [],
   "source": [
    "import pandas as pd\n",
    "import numpy as np\n",
    "import os.path\n",
    "from nlpUtils import aardvark as aa"
   ]
  },
  {
   "cell_type": "code",
   "execution_count": 5,
   "metadata": {},
   "outputs": [],
   "source": [
    "# IF any of the functions change:\n",
    "# import importlib\n",
    "# importlib.reload(aa)"
   ]
  },
  {
   "cell_type": "markdown",
   "metadata": {},
   "source": [
    "### Load the dataset you want to work on\n",
    "When finished, mark it as \"DONE, Name\" and comment out the line again. "
   ]
  },
  {
   "cell_type": "code",
   "execution_count": 9,
   "metadata": {},
   "outputs": [],
   "source": [
    "# data_labeled_01 = pd.read_csv(os.path.join('dataLabelSets', \"data_labeled_01b.csv\"), header=0, index_col=0)\n",
    "# data_labeled_02 = pd.read_csv(os.path.join('dataLabelSets', \"data_labeled_02b.csv\"), header=0, index_col=0)\n",
    "# data_labeled_03 = pd.read_csv(os.path.join('dataLabelSets', \"data_labeled_03b.csv\"), header=0, index_col=0)\n",
    "# data_labeled_04 = pd.read_csv(os.path.join('dataLabelSets', \"data_labeled_04b.csv\"), header=0, index_col=0)\n",
    "# data_labeled_05 = pd.read_csv(os.path.join('dataLabelSets', \"data_labeled_05b.csv\"), header=0, index_col=0)\n",
    "# data_labeled_06 = pd.read_csv(os.path.join('dataLabelSets', \"data_labeled_06b.csv\"), header=0, index_col=0)\n",
    "# data_labeled_07 = pd.read_csv(os.path.join('dataLabelSets', \"data_labeled_07b.csv\"), header=0, index_col=0)\n",
    "# data_labeled_08 = pd.read_csv(os.path.join('dataLabelSets', \"data_labeled_08b.csv\"), header=0, index_col=0)\n",
    "# data_labeled_09 = pd.read_csv(os.path.join('dataLabelSets', \"data_labeled_09b.csv\"), header=0, index_col=0)\n",
    "# data_labeled_10 = pd.read_csv(os.path.join('dataLabelSets', \"data_labeled_10b.csv\"), header=0, index_col=0)\n",
    "# data_labeled_11 = pd.read_csv(os.path.join('dataLabelSets', \"data_labeled_11b.csv\"), header=0, index_col=0)\n",
    "# data_labeled_12 = pd.read_csv(os.path.join('dataLabelSets', \"data_labeled_12b.csv\"), header=0, index_col=0)\n",
    "# data_labeled_13 = pd.read_csv(os.path.join('dataLabelSets', \"data_labeled_13b.csv\"), header=0, index_col=0)\n",
    "# data_labeled_14 = pd.read_csv(os.path.join('dataLabelSets', \"data_labeled_14b.csv\"), header=0, index_col=0)\n",
    "# data_labeled_15 = pd.read_csv(os.path.join('dataLabelSets', \"data_labeled_15b.csv\"), header=0, index_col=0)\n",
    "# data_labeled_16 = pd.read_csv(os.path.join('dataLabelSets', \"data_labeled_16b.csv\"), header=0, index_col=0)\n",
    "# data_labeled_17 = pd.read_csv(os.path.join('dataLabelSets', \"data_labeled_17b.csv\"), header=0, index_col=0)\n",
    "# data_labeled_18 = pd.read_csv(os.path.join('dataLabelSets', \"data_labeled_18b.csv\"), header=0, index_col=0)\n",
    "# data_labeled_19 = pd.read_csv(os.path.join('dataLabelSets', \"data_labeled_19b.csv\"), header=0, index_col=0)\n",
    "# data_labeled_20 = pd.read_csv(os.path.join('dataLabelSets', \"data_labeled_20b.csv\"), header=0, index_col=0)\n",
    "# data_labeled_21 = pd.read_csv(os.path.join('dataLabelSets', \"data_labeled_21b.csv\"), header=0, index_col=0)\n",
    "# data_labeled_22 = pd.read_csv(os.path.join('dataLabelSets', \"data_labeled_22b.csv\"), header=0, index_col=0)\n",
    "# data_labeled_23 = pd.read_csv(os.path.join('dataLabelSets', \"data_labeled_23b.csv\"), header=0, index_col=0)\n",
    "# data_labeled_24 = pd.read_csv(os.path.join('dataLabelSets', \"data_labeled_24b.csv\"), header=0, index_col=0)\n",
    "# data_labeled_25 = pd.read_csv(os.path.join('dataLabelSets', \"data_labeled_25b.csv\"), header=0, index_col=0)\n",
    "# data_labeled_26 = pd.read_csv(os.path.join('dataLabelSets', \"data_labeled_26b.csv\"), header=0, index_col=0)\n",
    "# data_labeled_27 = pd.read_csv(os.path.join('dataLabelSets', \"data_labeled_27b.csv\"), header=0, index_col=0)\n",
    "# data_labeled_28 = pd.read_csv(os.path.join('dataLabelSets', \"data_labeled_28b.csv\"), header=0, index_col=0)\n",
    "# data_labeled_29 = pd.read_csv(os.path.join('dataLabelSets', \"data_labeled_29b.csv\"), header=0, index_col=0)\n",
    "# data_labeled_30 = pd.read_csv(os.path.join('dataLabelSets', \"data_labeled_30b.csv\"), header=0, index_col=0)\n",
    "# data_labeled_31 = pd.read_csv(os.path.join('dataLabelSets', \"data_labeled_31b.csv\"), header=0, index_col=0)\n",
    "# data_labeled_32 = pd.read_csv(os.path.join('dataLabelSets', \"data_labeled_32b.csv\"), header=0, index_col=0)\n",
    "# data_labeled_33 = pd.read_csv(os.path.join('dataLabelSets', \"data_labeled_33b.csv\"), header=0, index_col=0)\n",
    "# data_labeled_34 = pd.read_csv(os.path.join('dataLabelSets', \"data_labeled_34b.csv\"), header=0, index_col=0)\n",
    "# data_labeled_35 = pd.read_csv(os.path.join('dataLabelSets', \"data_labeled_35b.csv\"), header=0, index_col=0)\n",
    "# data_labeled_36 = pd.read_csv(os.path.join('dataLabelSets', \"data_labeled_36b.csv\"), header=0, index_col=0)\n",
    "# data_labeled_37 = pd.read_csv(os.path.join('dataLabelSets', \"data_labeled_37b.csv\"), header=0, index_col=0)\n",
    "# data_labeled_38 = pd.read_csv(os.path.join('dataLabelSets', \"data_labeled_38b.csv\"), header=0, index_col=0)\n",
    "# data_labeled_39 = pd.read_csv(os.path.join('dataLabelSets', \"data_labeled_39b.csv\"), header=0, index_col=0)\n",
    "# data_labeled_40 = pd.read_csv(os.path.join('dataLabelSets', \"data_labeled_40b.csv\"), header=0, index_col=0)\n",
    "# data_labeled_41 = pd.read_csv(os.path.join('dataLabelSets', \"data_labeled_41b.csv\"), header=0, index_col=0)\n",
    "# data_labeled_42 = pd.read_csv(os.path.join('dataLabelSets', \"data_labeled_42b.csv\"), header=0, index_col=0)\n",
    "# data_labeled_43 = pd.read_csv(os.path.join('dataLabelSets', \"data_labeled_43b.csv\"), header=0, index_col=0)\n",
    "# data_labeled_44 = pd.read_csv(os.path.join('dataLabelSets', \"data_labeled_44b.csv\"), header=0, index_col=0)\n",
    "# data_labeled_45 = pd.read_csv(os.path.join('dataLabelSets', \"data_labeled_45b.csv\"), header=0, index_col=0)\n",
    "# data_labeled_46 = pd.read_csv(os.path.join('dataLabelSets', \"data_labeled_46b.csv\"), header=0, index_col=0)\n",
    "# data_labeled_47 = pd.read_csv(os.path.join('dataLabelSets', \"data_labeled_47b.csv\"), header=0, index_col=0)\n",
    "\n",
    "# IN PROGRESS\n",
    "data_labeled_48 = pd.read_csv(os.path.join('dataLabelSets', \"data_labeled_48b.csv\"), header=0, index_col=0)\n",
    "data_labeled_49 = pd.read_csv(os.path.join('dataLabelSets', \"data_labeled_49b.csv\"), header=0, index_col=0)\n",
    "data_labeled_50 = pd.read_csv(os.path.join('dataLabelSets', \"data_labeled_50b.csv\"), header=0, index_col=0)"
   ]
  },
  {
   "cell_type": "code",
   "execution_count": 84,
   "metadata": {},
   "outputs": [],
   "source": [
    "### Run the labeler\n",
    "# UPDATE the variable name in the function call.\n",
    "# You can exit the labeler session at any time by entering \"Esc\".\n",
    "# Enter will skip that tweet / row."
   ]
  },
  {
   "cell_type": "code",
   "execution_count": null,
   "metadata": {},
   "outputs": [],
   "source": []
  },
  {
   "cell_type": "code",
   "execution_count": 10,
   "metadata": {},
   "outputs": [
    {
     "name": "stdout",
     "output_type": "stream",
     "text": [
      "To end the labler session, enter 'ESC'\n"
     ]
    },
    {
     "data": {
      "text/plain": [
       "neutral / neutral         7\n",
       "happy / agree             3\n",
       "disgust / neutral         2\n",
       "plea - fear / refugee     2\n",
       "neutral / agree           2\n",
       "disgust / agree           2\n",
       "angry / agree             1\n",
       "angry / disagree          1\n",
       "plea - disgust / agree    1\n",
       "angry / neutral           1\n",
       "disgust / disagree        1\n",
       "fear / agree              1\n",
       "sad / neutral             1\n",
       "Name: Labels, dtype: int64"
      ]
     },
     "execution_count": 10,
     "metadata": {},
     "output_type": "execute_result"
    }
   ],
   "source": [
    "aa.labeler(data_labeled_48, lab=\"Labels\")\n",
    "\n",
    "\n",
    "\n"
   ]
  },
  {
   "cell_type": "markdown",
   "metadata": {},
   "source": [
    "### Save the data to csv\n",
    "After, mark the line as \"DONE, Name\" and comment that line out again."
   ]
  },
  {
   "cell_type": "code",
   "execution_count": 11,
   "metadata": {},
   "outputs": [],
   "source": [
    "# DONE PLEA: data_labeled_01.to_csv(os.path.join('dataLabelSets', \"data_labeled_01b.csv\"))\n",
    "# DONE PLEA: data_labeled_02.to_csv(os.path.join('dataLabelSets', \"data_labeled_02b.csv\"))\n",
    "# DONE PLEA: data_labeled_03.to_csv(os.path.join('dataLabelSets', \"data_labeled_03b.csv\"))\n",
    "# DONE PLEA: data_labeled_04.to_csv(os.path.join('dataLabelSets', \"data_labeled_04b.csv\"))\n",
    "# DONE PLEA: data_labeled_05.to_csv(os.path.join('dataLabelSets', \"data_labeled_05b.csv\"))\n",
    "# DONE PLEA: data_labeled_06.to_csv(os.path.join('dataLabelSets', \"data_labeled_06b.csv\"))\n",
    "# DONE PLEA: data_labeled_07.to_csv(os.path.join('dataLabelSets', \"data_labeled_07b.csv\"))\n",
    "# DONE PLEA: data_labeled_08.to_csv(os.path.join('dataLabelSets', \"data_labeled_08b.csv\"))\n",
    "# DONE PLEA: data_labeled_09.to_csv(os.path.join('dataLabelSets', \"data_labeled_09b.csv\"))\n",
    "# DONE PLEA: data_labeled_10.to_csv(os.path.join('dataLabelSets', \"data_labeled_10b.csv\"))\n",
    "# DONE PLEA: data_labeled_11.to_csv(os.path.join('dataLabelSets', \"data_labeled_11b.csv\"))\n",
    "# DONE PLEA: data_labeled_12.to_csv(os.path.join('dataLabelSets', \"data_labeled_12b.csv\"))\n",
    "# DONE PLEA: data_labeled_13.to_csv(os.path.join('dataLabelSets', \"data_labeled_13b.csv\"))\n",
    "# DONE PLEA: data_labeled_14.to_csv(os.path.join('dataLabelSets', \"data_labeled_14b.csv\"))\n",
    "# DONE PLEA: data_labeled_15.to_csv(os.path.join('dataLabelSets', \"data_labeled_15b.csv\"))\n",
    "# DONE PLEA: data_labeled_16.to_csv(os.path.join('dataLabelSets', \"data_labeled_16b.csv\"))\n",
    "# DONE PLEA: data_labeled_17.to_csv(os.path.join('dataLabelSets', \"data_labeled_17b.csv\"))\n",
    "# DONE PLEA: data_labeled_18.to_csv(os.path.join('dataLabelSets', \"data_labeled_18b.csv\"))\n",
    "# DONE PLEA: data_labeled_19.to_csv(os.path.join('dataLabelSets', \"data_labeled_19b.csv\"))\n",
    "# DONE PLEA: data_labeled_20.to_csv(os.path.join('dataLabelSets', \"data_labeled_20b.csv\"))\n",
    "# DONE PLEA: data_labeled_21.to_csv(os.path.join('dataLabelSets', \"data_labeled_21b.csv\"))\n",
    "# DONE PLEA: data_labeled_22.to_csv(os.path.join('dataLabelSets', \"data_labeled_22b.csv\"))\n",
    "# DONE PLEA: data_labeled_23.to_csv(os.path.join('dataLabelSets', \"data_labeled_23b.csv\"))\n",
    "# DONE PLEA: data_labeled_24.to_csv(os.path.join('dataLabelSets', \"data_labeled_24b.csv\"))\n",
    "# DONE PLEA: data_labeled_25.to_csv(os.path.join('dataLabelSets', \"data_labeled_25b.csv\"))\n",
    "# DONE PLEA: data_labeled_26.to_csv(os.path.join('dataLabelSets', \"data_labeled_26b.csv\"))\n",
    "# DONE PLEA: data_labeled_27.to_csv(os.path.join('dataLabelSets', \"data_labeled_27b.csv\"))\n",
    "# DONE PLEA: data_labeled_28.to_csv(os.path.join('dataLabelSets', \"data_labeled_28b.csv\"))\n",
    "# DONE PLEA: data_labeled_29.to_csv(os.path.join('dataLabelSets', \"data_labeled_29b.csv\"))\n",
    "# DONE PLEA: data_labeled_30.to_csv(os.path.join('dataLabelSets', \"data_labeled_30b.csv\"))\n",
    "# DONE PLEA: data_labeled_31.to_csv(os.path.join('dataLabelSets', \"data_labeled_31b.csv\"))\n",
    "# DONE PLEA: data_labeled_32.to_csv(os.path.join('dataLabelSets', \"data_labeled_32b.csv\"))\n",
    "# DONE PLEA: data_labeled_33.to_csv(os.path.join('dataLabelSets', \"data_labeled_33b.csv\"))\n",
    "# DONE PLEA: data_labeled_34.to_csv(os.path.join('dataLabelSets', \"data_labeled_34b.csv\"))\n",
    "# DONE PLEA: data_labeled_35.to_csv(os.path.join('dataLabelSets', \"data_labeled_35b.csv\"))\n",
    "# DONE PLEA: data_labeled_36.to_csv(os.path.join('dataLabelSets', \"data_labeled_36b.csv\"))\n",
    "# DONE PLEA: data_labeled_37.to_csv(os.path.join('dataLabelSets', \"data_labeled_37b.csv\"))\n",
    "# DONE PLEA: data_labeled_38.to_csv(os.path.join('dataLabelSets', \"data_labeled_38b.csv\"))\n",
    "# DONE PLEA: data_labeled_39.to_csv(os.path.join('dataLabelSets', \"data_labeled_39b.csv\"))\n",
    "# DONE PLEA: data_labeled_40.to_csv(os.path.join('dataLabelSets', \"data_labeled_40b.csv\"))\n",
    "\n",
    "# DONE PLEA: data_labeled_41.to_csv(os.path.join('dataLabelSets', \"data_labeled_41b.csv\"))\n",
    "# DONE PLEA: data_labeled_42.to_csv(os.path.join('dataLabelSets', \"data_labeled_42b.csv\"))\n",
    "# DONE PLEA: data_labeled_43.to_csv(os.path.join('dataLabelSets', \"data_labeled_43b.csv\"))\n",
    "# DONE PLEA: data_labeled_44.to_csv(os.path.join('dataLabelSets', \"data_labeled_44b.csv\"))\n",
    "# DONE PLEA: data_labeled_45.to_csv(os.path.join('dataLabelSets', \"data_labeled_45b.csv\"))\n",
    "# DONE PLEA: data_labeled_46.to_csv(os.path.join('dataLabelSets', \"data_labeled_46b.csv\"))\n",
    "# DONE PLEA: data_labeled_47.to_csv(os.path.join('dataLabelSets', \"data_labeled_47b.csv\"))\n",
    "# DONE PLEA: data_labeled_48.to_csv(os.path.join('dataLabelSets', \"data_labeled_48b.csv\"))\n",
    "\n",
    "# IN PROGRESS\n",
    "# data_labeled_49.to_csv(os.path.join('dataLabelSets', \"data_labeled_49b.csv\"))\n",
    "# data_labeled_50.to_csv(os.path.join('dataLabelSets', \"data_labeled_50b.csv\"))"
   ]
  }
 ],
 "metadata": {
  "interpreter": {
   "hash": "643bf7b785089bc3a6c1f9276b0146eca64bc1c8216c5f0bb5b87bc75bb900f8"
  },
  "kernelspec": {
   "display_name": "Python 3.8.8 ('base')",
   "language": "python",
   "name": "python3"
  },
  "language_info": {
   "codemirror_mode": {
    "name": "ipython",
    "version": 3
   },
   "file_extension": ".py",
   "mimetype": "text/x-python",
   "name": "python",
   "nbconvert_exporter": "python",
   "pygments_lexer": "ipython3",
   "version": "3.8.8"
  },
  "orig_nbformat": 4
 },
 "nbformat": 4,
 "nbformat_minor": 2
}
