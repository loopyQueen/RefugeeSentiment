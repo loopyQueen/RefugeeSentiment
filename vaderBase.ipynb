{
 "cells": [
  {
   "cell_type": "markdown",
   "metadata": {},
   "source": [
    "Copyright (c) <2022>, <Regina Nockerts>\n",
    "All rights reserved.\n",
    "\n",
    "This source code is licensed under the BSD-style license found in the\n",
    "LICENSE file in the root directory of this source tree. \n",
    "\n",
    "__NOTE__ to the user: In first use, this notebook cannot be run top to bottom. It assumes that you have a bunch of csv files that are created at different points in the notebook."
   ]
  },
  {
   "cell_type": "code",
   "execution_count": 1,
   "metadata": {},
   "outputs": [],
   "source": [
    "import pandas as pd\n",
    "import numpy as np\n",
    "from nlpUtils import aardvark as aa \n",
    "import matplotlib.pyplot as plt\n",
    "%matplotlib inline\n",
    "plt.style.use('fivethirtyeight')\n",
    "import seaborn as sns"
   ]
  },
  {
   "cell_type": "code",
   "execution_count": 2,
   "metadata": {},
   "outputs": [
    {
     "data": {
      "text/plain": [
       "<module 'nlpUtils.aardvark' from 'c:\\\\Users\\\\rnocker\\\\Desktop\\\\python\\\\thesisAgain\\\\nlpUtils\\\\aardvark.py'>"
      ]
     },
     "execution_count": 2,
     "metadata": {},
     "output_type": "execute_result"
    }
   ],
   "source": [
    "import importlib\n",
    "importlib.reload(aa)"
   ]
  },
  {
   "cell_type": "markdown",
   "metadata": {},
   "source": [
    "### NOTE\n",
    "For VADER, I will have to create a dictionary of these codes as \"words\" that can be added to the lexicon.\n",
    "* keep the scores from the emosent library as the prioirity\n",
    "* Use the VADER score as a backup\n",
    "* Manually check the results to make sure they are reasonable and identify ones to customize."
   ]
  },
  {
   "cell_type": "markdown",
   "metadata": {},
   "source": [
    "## _____________ FUNCTIONS ____________"
   ]
  },
  {
   "cell_type": "code",
   "execution_count": 3,
   "metadata": {},
   "outputs": [],
   "source": [
    "# create the sentiment intensity dictionary object\n",
    "# sid = SentimentIntensityAnalyzer()  #NOTE: this NEEDS to stay outside of the functions. I will be modifying it.\n",
    "\n",
    "# FROM aardvark\n",
    "# creates the sentiment intensity dictionary: aa.vader_sid(tweet)\n",
    "# gets the compound score: aa.vader_sent_compound(tweet)\n",
    "# gets the classification of the compund score using the authors' suggested cutoff points: aa.vader_pred(tweet, pos_cut, neg_cut)\n"
   ]
  },
  {
   "cell_type": "markdown",
   "metadata": {},
   "source": [
    "# Setup\n",
    "Assumes that you have completed dataCleaningB and dataSplitBalance"
   ]
  },
  {
   "cell_type": "code",
   "execution_count": 4,
   "metadata": {},
   "outputs": [
    {
     "name": "stdout",
     "output_type": "stream",
     "text": [
      "Unbalanced:\n",
      "x-train: (823, 3) x-val: (206, 3) y-train: (823, 5) y-val: (206, 5)\n",
      "TEST DATA\n",
      "x-TEST: (182, 3) y-TEST: (182, 5)\n"
     ]
    }
   ],
   "source": [
    "# Import the files that result from dataSplitBalance\n",
    "\n",
    "unbal_x_train = pd.read_csv(\"dataBalancedSets/unbal_x_train.csv\", header=0, index_col=0)\n",
    "unbal_x_val = pd.read_csv(\"dataBalancedSets/unbal_x_val.csv\", header=0, index_col=0)\n",
    "unbal_y_train = pd.read_csv(\"dataBalancedSets/unbal_y_train.csv\", header=0, index_col=0)\n",
    "unbal_y_val = pd.read_csv(\"dataBalancedSets/unbal_y_val.csv\", header=0, index_col=0)\n",
    "\n",
    "# And the test dataset\n",
    "x_test = pd.read_csv(\"dataBalancedSets/x_test.csv\", header=0, index_col=0)\n",
    "y_test = pd.read_csv(\"dataBalancedSets/y_test_sent.csv\", header=0, index_col=0)\n",
    "\n",
    "print(\"Unbalanced:\")\n",
    "print(\"x-train:\", unbal_x_train.shape, \"x-val:\", unbal_x_val.shape, \"y-train:\", unbal_y_train.shape, \"y-val:\", unbal_y_val.shape)\n",
    "print(\"TEST DATA\")\n",
    "print(\"x-TEST:\", x_test.shape, \"y-TEST:\", y_test.shape)\n"
   ]
  },
  {
   "cell_type": "code",
   "execution_count": 5,
   "metadata": {},
   "outputs": [
    {
     "name": "stdout",
     "output_type": "stream",
     "text": [
      "['id_stable', 'Date', 'ContentClean']\n",
      "['id_stable', 'label_sent', 'y_sent', 'label_stance', 'y_stance']\n"
     ]
    }
   ],
   "source": [
    "print(list(unbal_x_train.columns))\n",
    "print(list(unbal_y_train.columns))"
   ]
  },
  {
   "cell_type": "markdown",
   "metadata": {},
   "source": [
    "# VADER Out of the Box\n",
    "No data celaning specific to VADER / Sentiment analysis. No tuning of VADER's tools. No fancy emojis (only keyboard).\n",
    "\n",
    "VADER is case sensitive and punctuation sensitive.\n",
    "\n",
    "First create a new variable for the VADER predictions. Then run the function."
   ]
  },
  {
   "cell_type": "code",
   "execution_count": 6,
   "metadata": {},
   "outputs": [],
   "source": [
    "# Get the VADER compund score as a list\n",
    "x_compound_VADERbase = list(x_test[\"ContentClean\"].apply(aa.vader_sent_compound))\n",
    "\n",
    "# Get the VADER base prediction\n",
    "y_pred_VADERbase = x_test[\"ContentClean\"].apply(aa.vader_pred)  #tweet, pos_cut = 0.05, neg_cut = -0.05"
   ]
  },
  {
   "cell_type": "code",
   "execution_count": 7,
   "metadata": {},
   "outputs": [
    {
     "name": "stdout",
     "output_type": "stream",
     "text": [
      "Ground Truth:\n",
      "0    110\n",
      "1     38\n",
      "2     34\n",
      "Name: y_sent, dtype: int64\n",
      "Pred:\n",
      "0    78\n",
      "2    74\n",
      "1    30\n",
      "Name: ContentClean, dtype: int64\n"
     ]
    }
   ],
   "source": [
    "# First look at how the split compares to the ground truth.\n",
    "print(\"Ground Truth:\")\n",
    "print(y_test[\"y_sent\"].value_counts())\n",
    "print(\"Pred:\")\n",
    "print(y_pred_VADERbase.value_counts())"
   ]
  },
  {
   "cell_type": "markdown",
   "metadata": {},
   "source": [
    "Not a great first impression.\n",
    "\n",
    "Note that I'm \n",
    "* Underpredicting 0 / negative\n",
    "* Slightly underpredicting 1 / neutral\n",
    "* Overpredicting 2 / positive\n",
    "\n",
    "### Score: VADER-base, untuned"
   ]
  },
  {
   "cell_type": "code",
   "execution_count": 8,
   "metadata": {},
   "outputs": [
    {
     "data": {
      "text/html": [
       "<div>\n",
       "<style scoped>\n",
       "    .dataframe tbody tr th:only-of-type {\n",
       "        vertical-align: middle;\n",
       "    }\n",
       "\n",
       "    .dataframe tbody tr th {\n",
       "        vertical-align: top;\n",
       "    }\n",
       "\n",
       "    .dataframe thead th {\n",
       "        text-align: right;\n",
       "    }\n",
       "</style>\n",
       "<table border=\"1\" class=\"dataframe\">\n",
       "  <thead>\n",
       "    <tr style=\"text-align: right;\">\n",
       "      <th></th>\n",
       "      <th>id_stable</th>\n",
       "      <th>label_sent</th>\n",
       "      <th>y_sent</th>\n",
       "      <th>label_stance</th>\n",
       "      <th>y_stance</th>\n",
       "    </tr>\n",
       "  </thead>\n",
       "  <tbody>\n",
       "    <tr>\n",
       "      <th>1146</th>\n",
       "      <td>99980</td>\n",
       "      <td>neutral</td>\n",
       "      <td>1</td>\n",
       "      <td>neutral</td>\n",
       "      <td>1</td>\n",
       "    </tr>\n",
       "    <tr>\n",
       "      <th>866</th>\n",
       "      <td>131423</td>\n",
       "      <td>neutral</td>\n",
       "      <td>1</td>\n",
       "      <td>neutral</td>\n",
       "      <td>1</td>\n",
       "    </tr>\n",
       "    <tr>\n",
       "      <th>780</th>\n",
       "      <td>136483</td>\n",
       "      <td>fear</td>\n",
       "      <td>0</td>\n",
       "      <td>neutral</td>\n",
       "      <td>1</td>\n",
       "    </tr>\n",
       "    <tr>\n",
       "      <th>370</th>\n",
       "      <td>13610</td>\n",
       "      <td>disgust</td>\n",
       "      <td>0</td>\n",
       "      <td>na</td>\n",
       "      <td>1</td>\n",
       "    </tr>\n",
       "    <tr>\n",
       "      <th>189</th>\n",
       "      <td>36057</td>\n",
       "      <td>hopeful</td>\n",
       "      <td>2</td>\n",
       "      <td>agree</td>\n",
       "      <td>2</td>\n",
       "    </tr>\n",
       "  </tbody>\n",
       "</table>\n",
       "</div>"
      ],
      "text/plain": [
       "      id_stable label_sent  y_sent label_stance  y_stance\n",
       "1146      99980    neutral       1      neutral         1\n",
       "866      131423    neutral       1      neutral         1\n",
       "780      136483       fear       0      neutral         1\n",
       "370       13610    disgust       0           na         1\n",
       "189       36057    hopeful       2        agree         2"
      ]
     },
     "execution_count": 8,
     "metadata": {},
     "output_type": "execute_result"
    }
   ],
   "source": [
    "y_test.head()"
   ]
  },
  {
   "cell_type": "code",
   "execution_count": 9,
   "metadata": {},
   "outputs": [
    {
     "name": "stdout",
     "output_type": "stream",
     "text": [
      "VADER-base prediction F-score, macro average: 0.571\n",
      "\n",
      "              precision    recall  f1-score   support\n",
      "\n",
      "           0       0.88      0.63      0.73       110\n",
      "           1       0.50      0.39      0.44        38\n",
      "           2       0.39      0.85      0.54        34\n",
      "\n",
      "    accuracy                           0.62       182\n",
      "   macro avg       0.59      0.62      0.57       182\n",
      "weighted avg       0.71      0.62      0.64       182\n",
      "\n",
      "Confusion matrix:\n",
      " [[69 11 30]\n",
      " [ 8 15 15]\n",
      " [ 1  4 29]]\n",
      "\n",
      "Per-Class Confusion matrix:\n",
      " [[[ 63   9]\n",
      "  [ 41  69]]\n",
      "\n",
      " [[129  15]\n",
      "  [ 23  15]]\n",
      "\n",
      " [[103  45]\n",
      "  [  5  29]]]\n"
     ]
    },
    {
     "data": {
      "image/png": "[encoded data removed]",
      "text/plain": [
       "<Figure size 432x432 with 2 Axes>"
      ]
     },
     "metadata": {},
     "output_type": "display_data"
    }
   ],
   "source": [
    "# Get the ground truth as a list\n",
    "y_true_test = list(y_test[\"y_sent\"])\n",
    "\n",
    "# Get the prediction list\n",
    "y_pred_VADERbase = list(y_pred_VADERbase)\n",
    "\n",
    "# Get the metrics\n",
    "aa.print_model_metrics (model_name = \"VADER-base\", y_true=y_true_test, y_pred=y_pred_VADERbase, labels=[0,1,2])\n",
    "aa.print_conf_matrix (model_name = \"VADER-base\", y_true=y_true_test, y_pred=y_pred_VADERbase, labels=[0,1,2])"
   ]
  },
  {
   "cell_type": "markdown",
   "metadata": {},
   "source": [
    "Let's try to think about what that means."
   ]
  },
  {
   "cell_type": "code",
   "execution_count": 10,
   "metadata": {},
   "outputs": [
    {
     "name": "stdout",
     "output_type": "stream",
     "text": [
      "(182, 3)\n"
     ]
    },
    {
     "data": {
      "text/html": [
       "<div>\n",
       "<style scoped>\n",
       "    .dataframe tbody tr th:only-of-type {\n",
       "        vertical-align: middle;\n",
       "    }\n",
       "\n",
       "    .dataframe tbody tr th {\n",
       "        vertical-align: top;\n",
       "    }\n",
       "\n",
       "    .dataframe thead th {\n",
       "        text-align: right;\n",
       "    }\n",
       "</style>\n",
       "<table border=\"1\" class=\"dataframe\">\n",
       "  <thead>\n",
       "    <tr style=\"text-align: right;\">\n",
       "      <th></th>\n",
       "      <th>x_compound_VADERbase</th>\n",
       "      <th>y_pred_VADERbase</th>\n",
       "      <th>y_true_test</th>\n",
       "    </tr>\n",
       "  </thead>\n",
       "  <tbody>\n",
       "    <tr>\n",
       "      <th>0</th>\n",
       "      <td>0.7579</td>\n",
       "      <td>2</td>\n",
       "      <td>1</td>\n",
       "    </tr>\n",
       "    <tr>\n",
       "      <th>1</th>\n",
       "      <td>0.0000</td>\n",
       "      <td>1</td>\n",
       "      <td>1</td>\n",
       "    </tr>\n",
       "    <tr>\n",
       "      <th>2</th>\n",
       "      <td>-0.6988</td>\n",
       "      <td>0</td>\n",
       "      <td>0</td>\n",
       "    </tr>\n",
       "    <tr>\n",
       "      <th>3</th>\n",
       "      <td>0.3290</td>\n",
       "      <td>2</td>\n",
       "      <td>0</td>\n",
       "    </tr>\n",
       "    <tr>\n",
       "      <th>4</th>\n",
       "      <td>0.2960</td>\n",
       "      <td>2</td>\n",
       "      <td>2</td>\n",
       "    </tr>\n",
       "  </tbody>\n",
       "</table>\n",
       "</div>"
      ],
      "text/plain": [
       "   x_compound_VADERbase  y_pred_VADERbase  y_true_test\n",
       "0                0.7579                 2            1\n",
       "1                0.0000                 1            1\n",
       "2               -0.6988                 0            0\n",
       "3                0.3290                 2            0\n",
       "4                0.2960                 2            2"
      ]
     },
     "execution_count": 10,
     "metadata": {},
     "output_type": "execute_result"
    }
   ],
   "source": [
    "# Create the df with compound score, prediction, and ground truth labels\n",
    "vaderBase_df = pd.DataFrame()\n",
    "vaderBase_df['x_compound_VADERbase'] = x_compound_VADERbase\n",
    "vaderBase_df['y_pred_VADERbase'] = y_pred_VADERbase\n",
    "vaderBase_df['y_true_test'] = y_true_test\n",
    "\n",
    "print(vaderBase_df.shape)\n",
    "vaderBase_df.head()"
   ]
  },
  {
   "cell_type": "code",
   "execution_count": 11,
   "metadata": {},
   "outputs": [
    {
     "data": {
      "text/html": [
       "<div>\n",
       "<style scoped>\n",
       "    .dataframe tbody tr th:only-of-type {\n",
       "        vertical-align: middle;\n",
       "    }\n",
       "\n",
       "    .dataframe tbody tr th {\n",
       "        vertical-align: top;\n",
       "    }\n",
       "\n",
       "    .dataframe thead th {\n",
       "        text-align: right;\n",
       "    }\n",
       "</style>\n",
       "<table border=\"1\" class=\"dataframe\">\n",
       "  <thead>\n",
       "    <tr style=\"text-align: right;\">\n",
       "      <th></th>\n",
       "      <th>count</th>\n",
       "      <th>mean</th>\n",
       "      <th>std</th>\n",
       "      <th>min</th>\n",
       "      <th>25%</th>\n",
       "      <th>50%</th>\n",
       "      <th>75%</th>\n",
       "      <th>max</th>\n",
       "    </tr>\n",
       "    <tr>\n",
       "      <th>y_true_test</th>\n",
       "      <th></th>\n",
       "      <th></th>\n",
       "      <th></th>\n",
       "      <th></th>\n",
       "      <th></th>\n",
       "      <th></th>\n",
       "      <th></th>\n",
       "      <th></th>\n",
       "    </tr>\n",
       "  </thead>\n",
       "  <tbody>\n",
       "    <tr>\n",
       "      <th>0</th>\n",
       "      <td>110.0</td>\n",
       "      <td>-0.226029</td>\n",
       "      <td>0.552149</td>\n",
       "      <td>-0.9559</td>\n",
       "      <td>-0.70030</td>\n",
       "      <td>-0.34000</td>\n",
       "      <td>0.225775</td>\n",
       "      <td>0.8919</td>\n",
       "    </tr>\n",
       "    <tr>\n",
       "      <th>1</th>\n",
       "      <td>38.0</td>\n",
       "      <td>0.065600</td>\n",
       "      <td>0.351207</td>\n",
       "      <td>-0.7469</td>\n",
       "      <td>0.00000</td>\n",
       "      <td>0.00000</td>\n",
       "      <td>0.306950</td>\n",
       "      <td>0.7579</td>\n",
       "    </tr>\n",
       "    <tr>\n",
       "      <th>2</th>\n",
       "      <td>34.0</td>\n",
       "      <td>0.491376</td>\n",
       "      <td>0.357922</td>\n",
       "      <td>-0.6908</td>\n",
       "      <td>0.32365</td>\n",
       "      <td>0.49365</td>\n",
       "      <td>0.833775</td>\n",
       "      <td>0.9246</td>\n",
       "    </tr>\n",
       "  </tbody>\n",
       "</table>\n",
       "</div>"
      ],
      "text/plain": [
       "             count      mean       std     min      25%      50%       75%  \\\n",
       "y_true_test                                                                  \n",
       "0            110.0 -0.226029  0.552149 -0.9559 -0.70030 -0.34000  0.225775   \n",
       "1             38.0  0.065600  0.351207 -0.7469  0.00000  0.00000  0.306950   \n",
       "2             34.0  0.491376  0.357922 -0.6908  0.32365  0.49365  0.833775   \n",
       "\n",
       "                max  \n",
       "y_true_test          \n",
       "0            0.8919  \n",
       "1            0.7579  \n",
       "2            0.9246  "
      ]
     },
     "execution_count": 11,
     "metadata": {},
     "output_type": "execute_result"
    }
   ],
   "source": [
    "vaderBase_df.groupby('y_true_test')['x_compound_VADERbase'].describe()"
   ]
  },
  {
   "cell_type": "markdown",
   "metadata": {},
   "source": [
    "So, the average VADER compound score, per class, is:\n",
    "* 0: negative: -0.2260\n",
    "  * true negatives have an avaerage VADER score of -0.2260; seems reasonable to high\n",
    "  * sd is very wide, 0.55, for a span of -1 to 1\n",
    "  * there are some true negatives that score very high: 0.8919\n",
    "* 1: neutral: 0.0656\n",
    "  * in general, the model is scoring them too high (cutoff is 0.05/-0.05)\n",
    "  * there are some true neutrals that score high: 0.7579\n",
    "  * there are some true neutrals that score low: -0.7469\n",
    "* 2: positive: 0.4914 \n",
    "  * true positives have an avaerage VADER score of 0.4914; seems reasonable to high\n",
    "  * there are some true positives that score low: -0.6908"
   ]
  },
  {
   "cell_type": "code",
   "execution_count": 12,
   "metadata": {},
   "outputs": [
    {
     "data": {
      "image/png": "[encoded data removed]",
      "text/plain": [
       "<Figure size 576x576 with 1 Axes>"
      ]
     },
     "metadata": {},
     "output_type": "display_data"
    }
   ],
   "source": [
    "#NOTE: takes df as input with cols for compound score, prediction, and ground truth labels\n",
    "aa.boxplot_results(model_name=\"VADER-base\", df=vaderBase_df, score_col='x_compound_VADERbase', y_true_col=\"y_true_test\", pos_threshold=0.05, neg_threshold=-0.05)"
   ]
  },
  {
   "cell_type": "markdown",
   "metadata": {},
   "source": [
    "So, the bulk (50% boxes) of the positives and negatives are separated, but the neutral is not well separated at all. \n",
    "\n",
    "And the negative (class 0) is spanning a LOT of ground, while the positive (class 2) has a clear outlier.\n",
    "\n",
    "We need more separation before we can choose good threshhold values. Though I imagine we could do a bit better even now, just by choosing 0 and 0.27-ish as our thresholds."
   ]
  },
  {
   "cell_type": "code",
   "execution_count": 13,
   "metadata": {},
   "outputs": [],
   "source": [
    "# Save the VADER-base predictions dataframe to csv\n",
    "vaderBase_df.to_csv(\"dataVader/vaderBasePreds_df.csv\")"
   ]
  },
  {
   "cell_type": "markdown",
   "metadata": {},
   "source": [
    "### ---> Go to vaderPrep"
   ]
  }
 ],
 "metadata": {
  "interpreter": {
   "hash": "2522cab69aef9135531abc74cfe3f2456cb406a72442e0865122b8d4f66eb9dc"
  },
  "kernelspec": {
   "display_name": "Python 3.9.12 ('base')",
   "language": "python",
   "name": "python3"
  },
  "language_info": {
   "codemirror_mode": {
    "name": "ipython",
    "version": 3
   },
   "file_extension": ".py",
   "mimetype": "text/x-python",
   "name": "python",
   "nbconvert_exporter": "python",
   "pygments_lexer": "ipython3",
   "version": "3.9.12"
  },
  "orig_nbformat": 4
 },
 "nbformat": 4,
 "nbformat_minor": 2
}
