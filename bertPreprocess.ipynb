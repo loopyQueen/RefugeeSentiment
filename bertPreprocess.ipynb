{
 "cells": [
  {
   "cell_type": "markdown",
   "metadata": {},
   "source": [
    "Copyright (c) <2022>, <Regina Nockerts>\n",
    "All rights reserved.\n",
    "\n",
    "This source code is licensed under the BSD-style license found in the\n",
    "LICENSE file in the root directory of this source tree. "
   ]
  },
  {
   "cell_type": "code",
   "execution_count": 1,
   "metadata": {},
   "outputs": [
    {
     "data": {
      "text/plain": [
       "<torch._C.Generator at 0x204d8782bb0>"
      ]
     },
     "execution_count": 1,
     "metadata": {},
     "output_type": "execute_result"
    }
   ],
   "source": [
    "import numpy as np\n",
    "import pandas as pd\n",
    "import os.path\n",
    "import torch\n",
    "import seaborn as sns\n",
    "import matplotlib.pyplot as plt\n",
    "from matplotlib import rc\n",
    "from sklearn.model_selection import train_test_split\n",
    "from tqdm import tqdm\n",
    "from pylab import rcParams\n",
    "from torch import nn, optim\n",
    "from torch.utils import data\n",
    "\n",
    "%matplotlib inline\n",
    "#%config InlineBackend.figure_format='retina'\n",
    "plt.style.use('fivethirtyeight')\n",
    "sns.set(style='whitegrid', palette='muted', font_scale=1.2)\n",
    "my_plot_colors = ['darkviolet','tomato', 'teal']\n",
    "happy_colors = [\"#01BEFE\", \"#FFDD00\", \"#FF7D00\", \"#FF006D\", \"#ADFF02\", \"#8F00FF\"]\n",
    "sns.set_palette(sns.color_palette(happy_colors))\n",
    "\n",
    "my_seed = 42\n",
    "np.random.seed(my_seed)\n",
    "torch.manual_seed(my_seed)"
   ]
  },
  {
   "cell_type": "markdown",
   "metadata": {},
   "source": [
    "# Import data"
   ]
  },
  {
   "cell_type": "code",
   "execution_count": 7,
   "metadata": {},
   "outputs": [
    {
     "data": {
      "text/html": [
       "<div>\n",
       "<style scoped>\n",
       "    .dataframe tbody tr th:only-of-type {\n",
       "        vertical-align: middle;\n",
       "    }\n",
       "\n",
       "    .dataframe tbody tr th {\n",
       "        vertical-align: top;\n",
       "    }\n",
       "\n",
       "    .dataframe thead th {\n",
       "        text-align: right;\n",
       "    }\n",
       "</style>\n",
       "<table border=\"1\" class=\"dataframe\">\n",
       "  <thead>\n",
       "    <tr style=\"text-align: right;\">\n",
       "      <th></th>\n",
       "      <th>id_stable</th>\n",
       "      <th>ContentClean</th>\n",
       "      <th>label_sent</th>\n",
       "      <th>y_sent</th>\n",
       "    </tr>\n",
       "  </thead>\n",
       "  <tbody>\n",
       "    <tr>\n",
       "      <th>0</th>\n",
       "      <td>170314</td>\n",
       "      <td>Per a White House official: Biden and Harris m...</td>\n",
       "      <td>neutral</td>\n",
       "      <td>0</td>\n",
       "    </tr>\n",
       "    <tr>\n",
       "      <th>1</th>\n",
       "      <td>192623</td>\n",
       "      <td>Afghan Refugee kid educated in Iran wins this ...</td>\n",
       "      <td>happy</td>\n",
       "      <td>2</td>\n",
       "    </tr>\n",
       "    <tr>\n",
       "      <th>2</th>\n",
       "      <td>106982</td>\n",
       "      <td>Not only did Trump stop processing asylum &amp; re...</td>\n",
       "      <td>disgust</td>\n",
       "      <td>1</td>\n",
       "    </tr>\n",
       "    <tr>\n",
       "      <th>3</th>\n",
       "      <td>31609</td>\n",
       "      <td>An Afghan refugee demands the US not forget he...</td>\n",
       "      <td>plea - disgust</td>\n",
       "      <td>1</td>\n",
       "    </tr>\n",
       "    <tr>\n",
       "      <th>4</th>\n",
       "      <td>152666</td>\n",
       "      <td>One moment you hate refugees and the next you ...</td>\n",
       "      <td>hopeful</td>\n",
       "      <td>2</td>\n",
       "    </tr>\n",
       "  </tbody>\n",
       "</table>\n",
       "</div>"
      ],
      "text/plain": [
       "   id_stable                                       ContentClean  \\\n",
       "0     170314  Per a White House official: Biden and Harris m...   \n",
       "1     192623  Afghan Refugee kid educated in Iran wins this ...   \n",
       "2     106982  Not only did Trump stop processing asylum & re...   \n",
       "3      31609  An Afghan refugee demands the US not forget he...   \n",
       "4     152666  One moment you hate refugees and the next you ...   \n",
       "\n",
       "       label_sent  y_sent  \n",
       "0         neutral       0  \n",
       "1           happy       2  \n",
       "2         disgust       1  \n",
       "3  plea - disgust       1  \n",
       "4         hopeful       2  "
      ]
     },
     "execution_count": 7,
     "metadata": {},
     "output_type": "execute_result"
    }
   ],
   "source": [
    "tweets_data = pd.read_csv(os.path.join('data', \"tweets_clean.csv\"), header=0, index_col=0)\n",
    "    # NOT sure where this csv comes from. Try all_labeled_tweets.csv instead?\n",
    "tweets_data.drop(['Date', 'Content', 'n_CapLetters', 'CapsRatio', 'AllCapWords', 'https', 'Mentions', 'Location', 'ReplyCount', 'RetweetCount', 'LikeCount', 'QuoteCount', 'Hashtags', 'Labels', 'label_stance', 'y_stance', 'Flag'], inplace=True, axis=1)\n",
    "tweets_data.head()"
   ]
  },
  {
   "cell_type": "code",
   "execution_count": 8,
   "metadata": {},
   "outputs": [
    {
     "data": {
      "text/plain": [
       "1    732\n",
       "0    255\n",
       "2    224\n",
       "Name: y_sent, dtype: int64"
      ]
     },
     "execution_count": 8,
     "metadata": {},
     "output_type": "execute_result"
    }
   ],
   "source": [
    "tweets_data.y_sent.value_counts()"
   ]
  },
  {
   "cell_type": "markdown",
   "metadata": {},
   "source": [
    "So, I assigned the codes wrong and need to reassign them: \n",
    "0 = negative\n",
    "1 = neutral\n",
    "2 = positive\n",
    "\n",
    "Name: y_sent, dtype: int64\n",
    "* 1:    732\n",
    "* 0:    255\n",
    "* 2:    224\n"
   ]
  },
  {
   "cell_type": "code",
   "execution_count": 9,
   "metadata": {},
   "outputs": [],
   "source": [
    "def bert_code(code):\n",
    "    code = int(code)\n",
    "    if code == 0:\n",
    "        return 1\n",
    "    elif code == 1:\n",
    "        return 0\n",
    "    else:\n",
    "        return 2"
   ]
  },
  {
   "cell_type": "code",
   "execution_count": 10,
   "metadata": {},
   "outputs": [],
   "source": [
    "tweets_data[\"y_bert\"] = tweets_data.y_sent.apply(bert_code)"
   ]
  },
  {
   "cell_type": "code",
   "execution_count": 12,
   "metadata": {},
   "outputs": [
    {
     "name": "stdout",
     "output_type": "stream",
     "text": [
      "0    732\n",
      "1    255\n",
      "2    224\n",
      "Name: y_bert, dtype: int64\n"
     ]
    },
    {
     "data": {
      "text/html": [
       "<div>\n",
       "<style scoped>\n",
       "    .dataframe tbody tr th:only-of-type {\n",
       "        vertical-align: middle;\n",
       "    }\n",
       "\n",
       "    .dataframe tbody tr th {\n",
       "        vertical-align: top;\n",
       "    }\n",
       "\n",
       "    .dataframe thead th {\n",
       "        text-align: right;\n",
       "    }\n",
       "</style>\n",
       "<table border=\"1\" class=\"dataframe\">\n",
       "  <thead>\n",
       "    <tr style=\"text-align: right;\">\n",
       "      <th></th>\n",
       "      <th>id_stable</th>\n",
       "      <th>ContentClean</th>\n",
       "      <th>label_sent</th>\n",
       "      <th>y_sent</th>\n",
       "      <th>y_bert</th>\n",
       "    </tr>\n",
       "  </thead>\n",
       "  <tbody>\n",
       "    <tr>\n",
       "      <th>0</th>\n",
       "      <td>170314</td>\n",
       "      <td>Per a White House official: Biden and Harris m...</td>\n",
       "      <td>neutral</td>\n",
       "      <td>0</td>\n",
       "      <td>1</td>\n",
       "    </tr>\n",
       "    <tr>\n",
       "      <th>1</th>\n",
       "      <td>192623</td>\n",
       "      <td>Afghan Refugee kid educated in Iran wins this ...</td>\n",
       "      <td>happy</td>\n",
       "      <td>2</td>\n",
       "      <td>2</td>\n",
       "    </tr>\n",
       "    <tr>\n",
       "      <th>2</th>\n",
       "      <td>106982</td>\n",
       "      <td>Not only did Trump stop processing asylum &amp; re...</td>\n",
       "      <td>disgust</td>\n",
       "      <td>1</td>\n",
       "      <td>0</td>\n",
       "    </tr>\n",
       "    <tr>\n",
       "      <th>3</th>\n",
       "      <td>31609</td>\n",
       "      <td>An Afghan refugee demands the US not forget he...</td>\n",
       "      <td>plea - disgust</td>\n",
       "      <td>1</td>\n",
       "      <td>0</td>\n",
       "    </tr>\n",
       "    <tr>\n",
       "      <th>4</th>\n",
       "      <td>152666</td>\n",
       "      <td>One moment you hate refugees and the next you ...</td>\n",
       "      <td>hopeful</td>\n",
       "      <td>2</td>\n",
       "      <td>2</td>\n",
       "    </tr>\n",
       "  </tbody>\n",
       "</table>\n",
       "</div>"
      ],
      "text/plain": [
       "   id_stable                                       ContentClean  \\\n",
       "0     170314  Per a White House official: Biden and Harris m...   \n",
       "1     192623  Afghan Refugee kid educated in Iran wins this ...   \n",
       "2     106982  Not only did Trump stop processing asylum & re...   \n",
       "3      31609  An Afghan refugee demands the US not forget he...   \n",
       "4     152666  One moment you hate refugees and the next you ...   \n",
       "\n",
       "       label_sent  y_sent  y_bert  \n",
       "0         neutral       0       1  \n",
       "1           happy       2       2  \n",
       "2         disgust       1       0  \n",
       "3  plea - disgust       1       0  \n",
       "4         hopeful       2       2  "
      ]
     },
     "execution_count": 12,
     "metadata": {},
     "output_type": "execute_result"
    }
   ],
   "source": [
    "print(tweets_data.y_bert.value_counts())\n",
    "tweets_data.head()"
   ]
  },
  {
   "cell_type": "markdown",
   "metadata": {},
   "source": [
    "### Check class distribution"
   ]
  },
  {
   "cell_type": "code",
   "execution_count": 13,
   "metadata": {},
   "outputs": [
    {
     "name": "stdout",
     "output_type": "stream",
     "text": [
      "0    732\n",
      "1    255\n",
      "2    224\n",
      "Name: y_bert, dtype: int64\n"
     ]
    },
    {
     "data": {
      "image/png": "[encoded data removed]",
      "text/plain": [
       "<Figure size 288x288 with 1 Axes>"
      ]
     },
     "metadata": {},
     "output_type": "display_data"
    }
   ],
   "source": [
    "print(tweets_data[\"y_bert\"].value_counts())\n",
    "\n",
    "#plot class distribution\n",
    "plt.figure(figsize=(4, 4))\n",
    "plot_colors = ['tomato','darkviolet','mediumblue']\n",
    "ax = sns.countplot(x=tweets_data[\"y_bert\"], palette=plot_colors).set_xticklabels([\"negative\", \"neutral\", \"positive\"])\n",
    "plt.xlabel('Classes')\n",
    "plt.title('Class Distribution, Sentiment');"
   ]
  },
  {
   "cell_type": "markdown",
   "metadata": {},
   "source": [
    "### PAUSE / UNPAUSE"
   ]
  },
  {
   "cell_type": "code",
   "execution_count": 89,
   "metadata": {},
   "outputs": [],
   "source": [
    "tweets_data.to_csv(\"tweets_data_bert.csv\")"
   ]
  },
  {
   "cell_type": "code",
   "execution_count": null,
   "metadata": {},
   "outputs": [],
   "source": [
    "tweets_data = pd.read_csv(\"tweets_data_bert.csv\", header=0, index_col=0)"
   ]
  },
  {
   "cell_type": "markdown",
   "metadata": {},
   "source": [
    "# Balance the data\n",
    "\n",
    "So, there are a LOT fewer positive tweets in our set than negative tweets. We will need to deal with that before using machine learning algorithms, or the models will simply learn to predict the majority class. \n",
    "\n",
    "I think some combination of randomly downsampling the negative *and* upsampling the neutral and positive. Not sure about generated data (google translate to German and back?).\n",
    "\n",
    "IN ADDITION: remember that our evaluation metric will be F1 and AUC. Create a confusion matrix.\n",
    "\n",
    "### Sentiment: Downsample negative sentiment tweets in the Training Data\n",
    "\n",
    "**QUESTION: Can I put the unused rows back in the validation data?** ________\n",
    "\n",
    "I don't think so: the validation set should resemble the distribution of test data/new data coming in.\n",
    "\n",
    "\n",
    "\n",
    "\n",
    "\n",
    "----------BOOKMARK---------\n",
    "\n",
    "Code below is untested."
   ]
  },
  {
   "cell_type": "code",
   "execution_count": null,
   "metadata": {},
   "outputs": [],
   "source": [
    "## Generator.permutation: which should be used for new code ##\n",
    "\n",
    "# Make a list of the stable ids of rows that are of sentiment label 1 (negative)\n",
    "# Shuffle that list and divide it in half. We can now use this as a random selection of rows to remove from the dominant class.\n",
    "\n",
    "my_index = []\n",
    "for i, label in zip(y_train_sent.id_stable, y_train_sent.y_sent):\n",
    "    if label == 1:\n",
    "        my_index.append(i)\n",
    "print(\"Initial index length:\", len(my_index))\n",
    "\n",
    "rand.seed(10)\n",
    "del_index = np.random.permutation(my_index) \n",
    "\n",
    "del_index = del_index[0:len(del_index)//2]\n",
    "print(\"Random half length:\", len(del_index))\n",
    "\n",
    "del_index"
   ]
  },
  {
   "cell_type": "code",
   "execution_count": null,
   "metadata": {},
   "outputs": [],
   "source": [
    "print(\"Sentiment, BEFORE row drop\")\n",
    "print(\"y_train:\", y_train_sent.shape)\n",
    "print(\"x_train:\", x_train.shape)\n",
    "\n",
    "for idx, stable in zip(x_train.index, x_train[\"id_stable\"]):\n",
    "    if stable in del_index:\n",
    "        y_train_sent.drop(idx, axis=0, inplace=True)\n",
    "        x_train.drop(idx, axis=0, inplace=True)\n",
    "\n",
    "print()\n",
    "print(\"Sentiment, AFTER row drop\")\n",
    "print(\"y_train:\", y_train_sent.shape)\n",
    "print(\"x_train:\", x_train.shape)\n",
    "\n",
    "# x_train = x_train.copy()\n",
    "# y_train_sent = y_train_sent.copy()\n"
   ]
  },
  {
   "cell_type": "code",
   "execution_count": null,
   "metadata": {},
   "outputs": [],
   "source": [
    "#plot class distribution\n",
    "plt.figure(figsize=(10, 5))\n",
    "sns.countplot(x=y_train_sent[\"y_sent\"], palette='Spectral')\n",
    "plt.xlabel('Classes')\n",
    "plt.title('Class Distribution in Training Data, Sentiment');"
   ]
  },
  {
   "cell_type": "code",
   "execution_count": null,
   "metadata": {},
   "outputs": [],
   "source": [
    "# Save the result."
   ]
  },
  {
   "cell_type": "markdown",
   "metadata": {},
   "source": [
    "# Replace emoji with text"
   ]
  },
  {
   "cell_type": "code",
   "execution_count": null,
   "metadata": {},
   "outputs": [],
   "source": []
  },
  {
   "cell_type": "markdown",
   "metadata": {},
   "source": [
    "# Replace extended vowels with double vowels\n",
    "eg: \"haaaaaaaate\" becomes \"haate\"\n",
    "\n",
    "Need to do this to both preserve the distinction between \"hate\" and *emphasized\"hate\", but still make it standard - \"haaaaaaate\" and \"haaaate\" are both serving the same purpose."
   ]
  },
  {
   "cell_type": "code",
   "execution_count": null,
   "metadata": {},
   "outputs": [],
   "source": []
  }
 ],
 "metadata": {
  "interpreter": {
   "hash": "2522cab69aef9135531abc74cfe3f2456cb406a72442e0865122b8d4f66eb9dc"
  },
  "kernelspec": {
   "display_name": "Python 3.9.12 ('base')",
   "language": "python",
   "name": "python3"
  },
  "language_info": {
   "codemirror_mode": {
    "name": "ipython",
    "version": 3
   },
   "file_extension": ".py",
   "mimetype": "text/x-python",
   "name": "python",
   "nbconvert_exporter": "python",
   "pygments_lexer": "ipython3",
   "version": "3.9.12"
  },
  "orig_nbformat": 4
 },
 "nbformat": 4,
 "nbformat_minor": 2
}
