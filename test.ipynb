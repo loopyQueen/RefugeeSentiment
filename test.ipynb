{
 "cells": [
  {
   "cell_type": "code",
   "execution_count": 2,
   "metadata": {},
   "outputs": [
    {
     "data": {
      "text/plain": [
       "device(type='cuda', index=0)"
      ]
     },
     "execution_count": 2,
     "metadata": {},
     "output_type": "execute_result"
    }
   ],
   "source": [
    "import transformers\n",
    "from transformers import BertModel, BertTokenizer, AdamW, get_linear_schedule_with_warmup\n",
    "import torch\n",
    "\n",
    "import numpy as np\n",
    "import pandas as pd\n",
    "import seaborn as sns\n",
    "from pylab import rcParams\n",
    "import matplotlib.pyplot as plt\n",
    "from matplotlib import rc\n",
    "from sklearn.model_selection import train_test_split\n",
    "from sklearn.metrics import confusion_matrix, classification_report\n",
    "from collections import defaultdict\n",
    "from textwrap import wrap\n",
    "\n",
    "from torch import nn, optim\n",
    "from torch.utils.data import Dataset, DataLoader\n",
    "import torch.nn.functional as F\n",
    "\n",
    "%matplotlib inline\n",
    "%config InlineBackend.figure_format='retina'\n",
    "sns.set(style='whitegrid', palette='muted', font_scale=1.2)\n",
    "HAPPY_COLORS_PALETTE = [\"#01BEFE\", \"#FFDD00\", \"#FF7D00\", \"#FF006D\", \"#ADFF02\", \"#8F00FF\"]\n",
    "sns.set_palette(sns.color_palette(HAPPY_COLORS_PALETTE))\n",
    "\n",
    "rcParams['figure.figsize'] = 12, 8\n",
    "\n",
    "RANDOM_SEED = 42\n",
    "np.random.seed(RANDOM_SEED)\n",
    "torch.manual_seed(RANDOM_SEED)\n",
    "\n",
    "device = torch.device(\"cuda:0\" if torch.cuda.is_available() else \"cpu\")\n",
    "device"
   ]
  },
  {
   "cell_type": "code",
   "execution_count": 3,
   "metadata": {},
   "outputs": [
    {
     "name": "stdout",
     "output_type": "stream",
     "text": [
      "memory.free [MiB]\n",
      "3964 MiB\n"
     ]
    }
   ],
   "source": [
    "!nvidia-smi --query-gpu=memory.free --format=csv"
   ]
  },
  {
   "cell_type": "code",
   "execution_count": 4,
   "metadata": {},
   "outputs": [],
   "source": [
    "tokenizer = BertTokenizer.from_pretrained('bert-base-cased')\n",
    "tokenizer.encode('red_heart_e')"
   ]
  },
  {
   "cell_type": "code",
   "execution_count": 5,
   "metadata": {},
   "outputs": [
    {
     "name": "stdout",
     "output_type": "stream",
     "text": [
      "[101, 1894, 168, 1762, 168, 174, 102]\n"
     ]
    }
   ],
   "source": [
    "data = pd.read_csv(\"../dataBert/full_pred_23June.csv\", index_col=0, header=0)\n",
    "\n",
    "data[\"Date\"] = pd.to_datetime(data['Date']).dt.date\n",
    "data[\"Date\"] = pd.to_datetime(data['Date'])\n",
    "data[\"year\"] = pd.DatetimeIndex(data['Date']).year  #pd.DatetimeIndex(df['ArrivalDate']).year\n",
    "\n",
    "data.sort_values(by=\"Date\", axis=0, ascending=True, inplace=True)\n",
    "\n",
    "data.reset_index(inplace=True)\n",
    "\n",
    "index_nos = []\n",
    "for i, y, w in zip(data.index, data[\"year\"], data[\"week\"]):\n",
    "    if (y == 2021) and (w == 53):\n",
    "        index_nos.append(i)\n",
    "for i in index_nos:\n",
    "    data[\"week\"].iloc[i] = 0\n",
    "\n",
    "index_nos = []\n",
    "for i, y, w in zip(data.index, data[\"year\"], data[\"week\"]):\n",
    "    if (y == 2022):\n",
    "        index_nos.append(i)\n",
    "        data[\"week\"].iloc[i] = w + 52\n",
    "# for i in index_nos:\n",
    "#     data[\"week\"].iloc[i] = \n",
    "data\n",
    "\n",
    "\n"
   ]
  }
 ],
 "metadata": {
  "kernelspec": {
   "display_name": "Python 3.9.12 ('base')",
   "language": "python",
   "name": "python3"
  },
  "language_info": {
   "codemirror_mode": {
    "name": "ipython",
    "version": 3
   },
   "file_extension": ".py",
   "mimetype": "text/x-python",
   "name": "python",
   "nbconvert_exporter": "python",
   "pygments_lexer": "ipython3",
   "version": "3.9.12"
  },
  "orig_nbformat": 4,
  "vscode": {
   "interpreter": {
    "hash": "2522cab69aef9135531abc74cfe3f2456cb406a72442e0865122b8d4f66eb9dc"
   }
  }
 },
 "nbformat": 4,
 "nbformat_minor": 2
}
