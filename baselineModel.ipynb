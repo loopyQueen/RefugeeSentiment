{
 "cells": [
  {
   "cell_type": "markdown",
   "metadata": {},
   "source": [
    "Copyright (c) <2022>, <Regina Nockerts>\n",
    "All rights reserved.\n",
    "\n",
    "This source code is licensed under the BSD-style license found in the\n",
    "LICENSE file in the root directory of this source tree. \n"
   ]
  },
  {
   "cell_type": "code",
   "execution_count": 10,
   "metadata": {},
   "outputs": [],
   "source": [
    "import pandas as pd\n",
    "import numpy as np\n",
    "from nlpUtils import aardvark as aa \n",
    "from sklearn.metrics import confusion_matrix, multilabel_confusion_matrix, classification_report\n",
    "from sklearn.metrics import f1_score # auc if I get embeddings\n",
    "from matplotlib import pyplot as plt\n"
   ]
  },
  {
   "cell_type": "code",
   "execution_count": 23,
   "metadata": {},
   "outputs": [
    {
     "data": {
      "text/plain": [
       "<module 'nlpUtils.aardvark' from 'c:\\\\Users\\\\rnocker\\\\Desktop\\\\python\\\\thesisAgain\\\\nlpUtils\\\\aardvark.py'>"
      ]
     },
     "execution_count": 23,
     "metadata": {},
     "output_type": "execute_result"
    }
   ],
   "source": [
    "import importlib\n",
    "importlib.reload(aa)"
   ]
  },
  {
   "cell_type": "markdown",
   "metadata": {},
   "source": [
    "# Create Baseline\n",
    "I am using the majority class prediction as the baseline for this model. From labeling, cleaning, and balancing, we know that negative is the majority class: Majority class = negative = 0\n",
    "\n",
    "IN ADDITION: remember that our evaluation metric will be __F1 and AUC__. Create a confusion matrix."
   ]
  },
  {
   "cell_type": "code",
   "execution_count": 2,
   "metadata": {},
   "outputs": [],
   "source": [
    "# Import the test dataset\n",
    "x_test = pd.read_csv(\"dataBalancedSets/x_test.csv\", header=0, index_col=0)\n",
    "y_test = pd.read_csv(\"dataBalancedSets/y_test_sent.csv\", header=0, index_col=0)"
   ]
  },
  {
   "cell_type": "code",
   "execution_count": 3,
   "metadata": {},
   "outputs": [
    {
     "name": "stdout",
     "output_type": "stream",
     "text": [
      "182\n",
      "182\n"
     ]
    }
   ],
   "source": [
    "# Get the groundtruth - For all of them...\n",
    "true = list(y_test[\"y_sent\"])\n",
    "print(len(true))\n",
    "\n",
    "# Make a list of 1s as long as the training set to function as our base prediction.\n",
    "maj_pred = [0 for i in range(len(true))]\n",
    "print(len(maj_pred))"
   ]
  },
  {
   "cell_type": "code",
   "execution_count": 14,
   "metadata": {},
   "outputs": [
    {
     "name": "stdout",
     "output_type": "stream",
     "text": [
      "Micro- and Macro-Average\n",
      "\tMajority class prediction F-score, micro average: 0.604\n",
      "\tMajority class prediction F-score, macro average: 0.251\n",
      "\n",
      "              precision    recall  f1-score   support\n",
      "\n",
      "           0       0.60      1.00      0.75       110\n",
      "           1       0.00      0.00      0.00        38\n",
      "           2       0.00      0.00      0.00        34\n",
      "\n",
      "    accuracy                           0.60       182\n",
      "   macro avg       0.20      0.33      0.25       182\n",
      "weighted avg       0.37      0.60      0.46       182\n",
      "\n"
     ]
    }
   ],
   "source": [
    "aa.print_model_metrics (y_true=true, y_pred=maj_pred, labels=[0,1,2])"
   ]
  },
  {
   "cell_type": "code",
   "execution_count": 24,
   "metadata": {},
   "outputs": [
    {
     "name": "stdout",
     "output_type": "stream",
     "text": [
      "Confusion matrix:\n",
      " [[110   0   0]\n",
      " [ 38   0   0]\n",
      " [ 34   0   0]]\n",
      "\n",
      "Per-Class Confusion matrix:\n",
      " [[[  0  72]\n",
      "  [  0 110]]\n",
      "\n",
      " [[144   0]\n",
      "  [ 38   0]]\n",
      "\n",
      " [[148   0]\n",
      "  [ 34   0]]]\n"
     ]
    },
    {
     "name": "stderr",
     "output_type": "stream",
     "text": [
      "c:\\Users\\rnocker\\Desktop\\python\\thesisAgain\\nlpUtils\\aardvark.py:484: UserWarning: FixedFormatter should only be used together with FixedLocator\n",
      "  ax.set_xticklabels([''] + labels)\n",
      "c:\\Users\\rnocker\\Desktop\\python\\thesisAgain\\nlpUtils\\aardvark.py:485: UserWarning: FixedFormatter should only be used together with FixedLocator\n",
      "  ax.set_yticklabels([''] + labels)\n"
     ]
    },
    {
     "data": {
      "image/png": "[encoded data removed]",
      "text/plain": [
       "<Figure size 432x288 with 2 Axes>"
      ]
     },
     "metadata": {
      "needs_background": "light"
     },
     "output_type": "display_data"
    }
   ],
   "source": [
    "aa.print_conf_matrix (y_true=true, y_pred=maj_pred)"
   ]
  }
 ],
 "metadata": {
  "kernelspec": {
   "display_name": "Python 3.9.12 ('base')",
   "language": "python",
   "name": "python3"
  },
  "language_info": {
   "codemirror_mode": {
    "name": "ipython",
    "version": 3
   },
   "file_extension": ".py",
   "mimetype": "text/x-python",
   "name": "python",
   "nbconvert_exporter": "python",
   "pygments_lexer": "ipython3",
   "version": "3.9.12"
  },
  "orig_nbformat": 4,
  "vscode": {
   "interpreter": {
    "hash": "2522cab69aef9135531abc74cfe3f2456cb406a72442e0865122b8d4f66eb9dc"
   }
  }
 },
 "nbformat": 4,
 "nbformat_minor": 2
}
