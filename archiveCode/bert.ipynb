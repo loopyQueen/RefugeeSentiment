{
 "cells": [
  {
   "cell_type": "code",
   "execution_count": 7,
   "metadata": {},
   "outputs": [],
   "source": [
    "import pandas as pd\n",
    "import numpy as np\n",
    "import re\n",
    "from nlpUtils import aardvark as aa \n",
    "from numpy import random as rand\n",
    "\n",
    "import seaborn as sns\n",
    "import matplotlib.pyplot as plt\n",
    "\n",
    "# import torch\n",
    "from transformers import AutoTokenizer, AutoModelForSequenceClassification  # Check that these are the models I want\n",
    "# from transformers import BertTokenizer, BertModel\n",
    "# from transformers import BertForSequenceClassification, BertTokenizer\n",
    "# from transformers import Trainer, TrainingArguments\n",
    "# from nlp import load_dataset\n",
    "\n",
    "# import wandb\n",
    "\n",
    "\n",
    "from sklearn.metrics import f1_score, roc_curve, auc\n"
   ]
  },
  {
   "cell_type": "code",
   "execution_count": null,
   "metadata": {},
   "outputs": [],
   "source": [
    "#pip install wandb"
   ]
  },
  {
   "cell_type": "markdown",
   "metadata": {},
   "source": [
    "# Load the dataset"
   ]
  },
  {
   "cell_type": "code",
   "execution_count": 8,
   "metadata": {},
   "outputs": [
    {
     "name": "stdout",
     "output_type": "stream",
     "text": [
      "(192, 19)\n"
     ]
    },
    {
     "data": {
      "text/html": [
       "<div>\n",
       "<style scoped>\n",
       "    .dataframe tbody tr th:only-of-type {\n",
       "        vertical-align: middle;\n",
       "    }\n",
       "\n",
       "    .dataframe tbody tr th {\n",
       "        vertical-align: top;\n",
       "    }\n",
       "\n",
       "    .dataframe thead th {\n",
       "        text-align: right;\n",
       "    }\n",
       "</style>\n",
       "<table border=\"1\" class=\"dataframe\">\n",
       "  <thead>\n",
       "    <tr style=\"text-align: right;\">\n",
       "      <th></th>\n",
       "      <th>id_stable</th>\n",
       "      <th>Date</th>\n",
       "      <th>Content</th>\n",
       "      <th>ContentClean</th>\n",
       "      <th>Labels</th>\n",
       "      <th>y_sent</th>\n",
       "      <th>y_stance</th>\n",
       "      <th>n_CapLetters</th>\n",
       "      <th>CapsRatio</th>\n",
       "      <th>AllCapWords</th>\n",
       "      <th>https</th>\n",
       "      <th>Mentions</th>\n",
       "      <th>Location</th>\n",
       "      <th>ReplyCount</th>\n",
       "      <th>RetweetCount</th>\n",
       "      <th>LikeCount</th>\n",
       "      <th>QuoteCount</th>\n",
       "      <th>Hashtags</th>\n",
       "      <th>Flag</th>\n",
       "    </tr>\n",
       "  </thead>\n",
       "  <tbody>\n",
       "    <tr>\n",
       "      <th>187</th>\n",
       "      <td>61860</td>\n",
       "      <td>2021-09-30 09:26:10+00:00</td>\n",
       "      <td>LISBON, Portugal (AP) — Girls from the Afghani...</td>\n",
       "      <td>LISBON, Portugal (AP) — Girls from the Afghani...</td>\n",
       "      <td>neutral / neutral</td>\n",
       "      <td>neutral</td>\n",
       "      <td>neutral</td>\n",
       "      <td>12</td>\n",
       "      <td>0.066298</td>\n",
       "      <td>LISBON,, (AP)</td>\n",
       "      <td>https://t.co/OADALP4qVQ</td>\n",
       "      <td>NaN</td>\n",
       "      <td>Davenport, IA</td>\n",
       "      <td>0</td>\n",
       "      <td>0</td>\n",
       "      <td>0</td>\n",
       "      <td>0</td>\n",
       "      <td>No hashtags</td>\n",
       "      <td>yes</td>\n",
       "    </tr>\n",
       "    <tr>\n",
       "      <th>188</th>\n",
       "      <td>103367</td>\n",
       "      <td>2021-08-29 20:40:58+00:00</td>\n",
       "      <td>@Sallyjoagain @dotslondon @PenFarthing @Nowzad...</td>\n",
       "      <td>Truly barking mad, but Britain says 'Dogs welc...</td>\n",
       "      <td>angry / agree</td>\n",
       "      <td>angry</td>\n",
       "      <td>agree</td>\n",
       "      <td>4</td>\n",
       "      <td>0.047619</td>\n",
       "      <td>NaN</td>\n",
       "      <td>NaN</td>\n",
       "      <td>@Sallyjoagain, @dotslondon, @PenFarthing, @Nowzad</td>\n",
       "      <td>Tirana Albania</td>\n",
       "      <td>1</td>\n",
       "      <td>0</td>\n",
       "      <td>0</td>\n",
       "      <td>0</td>\n",
       "      <td>No hashtags</td>\n",
       "      <td>yes</td>\n",
       "    </tr>\n",
       "    <tr>\n",
       "      <th>189</th>\n",
       "      <td>200943</td>\n",
       "      <td>2021-08-15 14:32:31+00:00</td>\n",
       "      <td>@ProudUCFAlumnae @ResisterSis1 @WalshFreedom Y...</td>\n",
       "      <td>Yet Biden already announced our withdrawal pri...</td>\n",
       "      <td>angry / neutral</td>\n",
       "      <td>angry</td>\n",
       "      <td>neutral</td>\n",
       "      <td>9</td>\n",
       "      <td>0.032727</td>\n",
       "      <td>SIV</td>\n",
       "      <td>NaN</td>\n",
       "      <td>@ProudUCFAlumnae, @ResisterSis1, @WalshFreedom</td>\n",
       "      <td>English-speaking</td>\n",
       "      <td>0</td>\n",
       "      <td>0</td>\n",
       "      <td>0</td>\n",
       "      <td>0</td>\n",
       "      <td>No hashtags</td>\n",
       "      <td>yes</td>\n",
       "    </tr>\n",
       "    <tr>\n",
       "      <th>190</th>\n",
       "      <td>22583</td>\n",
       "      <td>2022-01-27 21:53:05+00:00</td>\n",
       "      <td>Thousands of Afghan evacuees have been welcome...</td>\n",
       "      <td>Thousands of Afghan evacuees have been welcome...</td>\n",
       "      <td>plea / agree</td>\n",
       "      <td>plea</td>\n",
       "      <td>agree</td>\n",
       "      <td>19</td>\n",
       "      <td>0.074219</td>\n",
       "      <td>U.S., TAKE, ACTION:</td>\n",
       "      <td>https://t.co/MZVPINJ3kI, https://t.co/v7aV5nUbxq</td>\n",
       "      <td>NaN</td>\n",
       "      <td>English-speaking</td>\n",
       "      <td>0</td>\n",
       "      <td>5</td>\n",
       "      <td>26</td>\n",
       "      <td>0</td>\n",
       "      <td>['AfghanAdjustmentAct']</td>\n",
       "      <td>yes</td>\n",
       "    </tr>\n",
       "    <tr>\n",
       "      <th>191</th>\n",
       "      <td>51837</td>\n",
       "      <td>2021-10-22 05:57:22+00:00</td>\n",
       "      <td>Montana governor demands an halt to resettleme...</td>\n",
       "      <td>Montana governor demands an halt to resettleme...</td>\n",
       "      <td>neutral / neutral</td>\n",
       "      <td>neutral</td>\n",
       "      <td>neutral</td>\n",
       "      <td>2</td>\n",
       "      <td>0.019608</td>\n",
       "      <td>NaN</td>\n",
       "      <td>https://t.co/GvtXtKwNco, https://t.co/u1nZpb4OU1</td>\n",
       "      <td>NaN</td>\n",
       "      <td>Calgary, Alberta</td>\n",
       "      <td>0</td>\n",
       "      <td>0</td>\n",
       "      <td>3</td>\n",
       "      <td>1</td>\n",
       "      <td>No hashtags</td>\n",
       "      <td>yes</td>\n",
       "    </tr>\n",
       "  </tbody>\n",
       "</table>\n",
       "</div>"
      ],
      "text/plain": [
       "     id_stable                       Date  \\\n",
       "187      61860  2021-09-30 09:26:10+00:00   \n",
       "188     103367  2021-08-29 20:40:58+00:00   \n",
       "189     200943  2021-08-15 14:32:31+00:00   \n",
       "190      22583  2022-01-27 21:53:05+00:00   \n",
       "191      51837  2021-10-22 05:57:22+00:00   \n",
       "\n",
       "                                               Content  \\\n",
       "187  LISBON, Portugal (AP) — Girls from the Afghani...   \n",
       "188  @Sallyjoagain @dotslondon @PenFarthing @Nowzad...   \n",
       "189  @ProudUCFAlumnae @ResisterSis1 @WalshFreedom Y...   \n",
       "190  Thousands of Afghan evacuees have been welcome...   \n",
       "191  Montana governor demands an halt to resettleme...   \n",
       "\n",
       "                                          ContentClean             Labels  \\\n",
       "187  LISBON, Portugal (AP) — Girls from the Afghani...  neutral / neutral   \n",
       "188  Truly barking mad, but Britain says 'Dogs welc...      angry / agree   \n",
       "189  Yet Biden already announced our withdrawal pri...    angry / neutral   \n",
       "190  Thousands of Afghan evacuees have been welcome...       plea / agree   \n",
       "191  Montana governor demands an halt to resettleme...  neutral / neutral   \n",
       "\n",
       "      y_sent y_stance  n_CapLetters  CapsRatio          AllCapWords  \\\n",
       "187  neutral  neutral            12   0.066298        LISBON,, (AP)   \n",
       "188    angry    agree             4   0.047619                  NaN   \n",
       "189    angry  neutral             9   0.032727                  SIV   \n",
       "190     plea    agree            19   0.074219  U.S., TAKE, ACTION:   \n",
       "191  neutral  neutral             2   0.019608                  NaN   \n",
       "\n",
       "                                                https  \\\n",
       "187                           https://t.co/OADALP4qVQ   \n",
       "188                                               NaN   \n",
       "189                                               NaN   \n",
       "190  https://t.co/MZVPINJ3kI, https://t.co/v7aV5nUbxq   \n",
       "191  https://t.co/GvtXtKwNco, https://t.co/u1nZpb4OU1   \n",
       "\n",
       "                                              Mentions          Location  \\\n",
       "187                                                NaN     Davenport, IA   \n",
       "188  @Sallyjoagain, @dotslondon, @PenFarthing, @Nowzad    Tirana Albania   \n",
       "189     @ProudUCFAlumnae, @ResisterSis1, @WalshFreedom  English-speaking   \n",
       "190                                                NaN  English-speaking   \n",
       "191                                                NaN  Calgary, Alberta   \n",
       "\n",
       "     ReplyCount  RetweetCount  LikeCount  QuoteCount                 Hashtags  \\\n",
       "187           0             0          0           0              No hashtags   \n",
       "188           1             0          0           0              No hashtags   \n",
       "189           0             0          0           0              No hashtags   \n",
       "190           0             5         26           0  ['AfghanAdjustmentAct']   \n",
       "191           0             0          3           1              No hashtags   \n",
       "\n",
       "    Flag  \n",
       "187  yes  \n",
       "188  yes  \n",
       "189  yes  \n",
       "190  yes  \n",
       "191  yes  "
      ]
     },
     "execution_count": 8,
     "metadata": {},
     "output_type": "execute_result"
    }
   ],
   "source": [
    "tweets_bert = pd.read_csv(\"temp_tweets_clean.csv\", header=0, index_col=0)\n",
    "print(tweets_bert.shape)\n",
    "tweets_bert.tail()"
   ]
  },
  {
   "cell_type": "markdown",
   "metadata": {},
   "source": [
    "# Setup for BERT\n",
    "Thanks to: https://medium.com/mlearning-ai/twitter-sentiment-analysis-with-deep-learning-using-bert-and-hugging-face-830005bcdbbf, https://www.youtube.com/watch?v=szczpgOEdXs\n",
    "\n",
    "Using the bert-base-cased version; cased because all-caps matters in our case.\n",
    "\n",
    "First, grab just the rows we will need."
   ]
  },
  {
   "cell_type": "code",
   "execution_count": 9,
   "metadata": {},
   "outputs": [
    {
     "name": "stdout",
     "output_type": "stream",
     "text": [
      "(192, 3)\n"
     ]
    },
    {
     "data": {
      "text/html": [
       "<div>\n",
       "<style scoped>\n",
       "    .dataframe tbody tr th:only-of-type {\n",
       "        vertical-align: middle;\n",
       "    }\n",
       "\n",
       "    .dataframe tbody tr th {\n",
       "        vertical-align: top;\n",
       "    }\n",
       "\n",
       "    .dataframe thead th {\n",
       "        text-align: right;\n",
       "    }\n",
       "</style>\n",
       "<table border=\"1\" class=\"dataframe\">\n",
       "  <thead>\n",
       "    <tr style=\"text-align: right;\">\n",
       "      <th></th>\n",
       "      <th>id_stable</th>\n",
       "      <th>ContentClean</th>\n",
       "      <th>y_sent</th>\n",
       "    </tr>\n",
       "  </thead>\n",
       "  <tbody>\n",
       "    <tr>\n",
       "      <th>0</th>\n",
       "      <td>106799</td>\n",
       "      <td>Sooooooo agree! Now then talk us through Afgha...</td>\n",
       "      <td>happy</td>\n",
       "    </tr>\n",
       "    <tr>\n",
       "      <th>1</th>\n",
       "      <td>50239</td>\n",
       "      <td>#Pretty awful Patel cannot stop a fly on shite...</td>\n",
       "      <td>angry</td>\n",
       "    </tr>\n",
       "    <tr>\n",
       "      <th>2</th>\n",
       "      <td>81751</td>\n",
       "      <td>And while helping resettlement the Western com...</td>\n",
       "      <td>neutral</td>\n",
       "    </tr>\n",
       "    <tr>\n",
       "      <th>3</th>\n",
       "      <td>63713</td>\n",
       "      <td>Biden's vetted Afghanistan refugees are commit...</td>\n",
       "      <td>disgust</td>\n",
       "    </tr>\n",
       "    <tr>\n",
       "      <th>4</th>\n",
       "      <td>145914</td>\n",
       "      <td>. We want all applications for refugee status ...</td>\n",
       "      <td>neutral</td>\n",
       "    </tr>\n",
       "  </tbody>\n",
       "</table>\n",
       "</div>"
      ],
      "text/plain": [
       "   id_stable                                       ContentClean   y_sent\n",
       "0     106799  Sooooooo agree! Now then talk us through Afgha...    happy\n",
       "1      50239  #Pretty awful Patel cannot stop a fly on shite...    angry\n",
       "2      81751  And while helping resettlement the Western com...  neutral\n",
       "3      63713  Biden's vetted Afghanistan refugees are commit...  disgust\n",
       "4     145914  . We want all applications for refugee status ...  neutral"
      ]
     },
     "execution_count": 9,
     "metadata": {},
     "output_type": "execute_result"
    }
   ],
   "source": [
    "berty = tweets_bert[[\"id_stable\", \"ContentClean\", \"y_sent\"]].copy()\n",
    "print(berty.shape)\n",
    "berty.head()"
   ]
  },
  {
   "cell_type": "markdown",
   "metadata": {},
   "source": [
    "Find all the possible labels"
   ]
  },
  {
   "cell_type": "code",
   "execution_count": 10,
   "metadata": {},
   "outputs": [
    {
     "data": {
      "text/plain": [
       "array(['happy', 'angry', 'neutral', 'disgust', 'fear', 'sad', 'plea',\n",
       "       '? happy', 'hopeful', '? na', '? plea', '? fear'], dtype=object)"
      ]
     },
     "execution_count": 10,
     "metadata": {},
     "output_type": "execute_result"
    }
   ],
   "source": [
    "pos_labels = berty[\"y_sent\"].unique()\n",
    "pos_labels"
   ]
  },
  {
   "cell_type": "markdown",
   "metadata": {},
   "source": [
    "Add a column for the label transformed to numeric"
   ]
  },
  {
   "cell_type": "code",
   "execution_count": 13,
   "metadata": {},
   "outputs": [
    {
     "data": {
      "text/html": [
       "<div>\n",
       "<style scoped>\n",
       "    .dataframe tbody tr th:only-of-type {\n",
       "        vertical-align: middle;\n",
       "    }\n",
       "\n",
       "    .dataframe tbody tr th {\n",
       "        vertical-align: top;\n",
       "    }\n",
       "\n",
       "    .dataframe thead th {\n",
       "        text-align: right;\n",
       "    }\n",
       "</style>\n",
       "<table border=\"1\" class=\"dataframe\">\n",
       "  <thead>\n",
       "    <tr style=\"text-align: right;\">\n",
       "      <th></th>\n",
       "      <th>id_stable</th>\n",
       "      <th>ContentClean</th>\n",
       "      <th>y_sent</th>\n",
       "      <th>label</th>\n",
       "    </tr>\n",
       "  </thead>\n",
       "  <tbody>\n",
       "    <tr>\n",
       "      <th>0</th>\n",
       "      <td>106799</td>\n",
       "      <td>Sooooooo agree! Now then talk us through Afgha...</td>\n",
       "      <td>happy</td>\n",
       "      <td>3</td>\n",
       "    </tr>\n",
       "    <tr>\n",
       "      <th>1</th>\n",
       "      <td>50239</td>\n",
       "      <td>#Pretty awful Patel cannot stop a fly on shite...</td>\n",
       "      <td>angry</td>\n",
       "      <td>1</td>\n",
       "    </tr>\n",
       "    <tr>\n",
       "      <th>2</th>\n",
       "      <td>81751</td>\n",
       "      <td>And while helping resettlement the Western com...</td>\n",
       "      <td>neutral</td>\n",
       "      <td>0</td>\n",
       "    </tr>\n",
       "    <tr>\n",
       "      <th>3</th>\n",
       "      <td>63713</td>\n",
       "      <td>Biden's vetted Afghanistan refugees are commit...</td>\n",
       "      <td>disgust</td>\n",
       "      <td>1</td>\n",
       "    </tr>\n",
       "    <tr>\n",
       "      <th>4</th>\n",
       "      <td>145914</td>\n",
       "      <td>. We want all applications for refugee status ...</td>\n",
       "      <td>neutral</td>\n",
       "      <td>0</td>\n",
       "    </tr>\n",
       "  </tbody>\n",
       "</table>\n",
       "</div>"
      ],
      "text/plain": [
       "   id_stable                                       ContentClean   y_sent  \\\n",
       "0     106799  Sooooooo agree! Now then talk us through Afgha...    happy   \n",
       "1      50239  #Pretty awful Patel cannot stop a fly on shite...    angry   \n",
       "2      81751  And while helping resettlement the Western com...  neutral   \n",
       "3      63713  Biden's vetted Afghanistan refugees are commit...  disgust   \n",
       "4     145914  . We want all applications for refugee status ...  neutral   \n",
       "\n",
       "   label  \n",
       "0      3  \n",
       "1      1  \n",
       "2      0  \n",
       "3      1  \n",
       "4      0  "
      ]
     },
     "execution_count": 13,
     "metadata": {},
     "output_type": "execute_result"
    }
   ],
   "source": [
    "label_dict = {'neutral':0, 'angry':1, 'fear':1, 'disgust':1, 'sad':1, 'plea':2, 'hopeful':3, 'happy':3, '? happy':3, '? na':0, '? plea':2, '? fear':1}\n",
    "berty['label'] = berty.y_sent.replace(label_dict)\n",
    "berty.head()"
   ]
  },
  {
   "cell_type": "markdown",
   "metadata": {},
   "source": [
    "### Look at class distribution\n",
    "Because unbalanced classes are an issue"
   ]
  },
  {
   "cell_type": "code",
   "execution_count": 14,
   "metadata": {},
   "outputs": [
    {
     "data": {
      "image/png": "[encoded data removed]",
      "text/plain": [
       "<Figure size 720x360 with 1 Axes>"
      ]
     },
     "metadata": {
      "needs_background": "light"
     },
     "output_type": "display_data"
    }
   ],
   "source": [
    "plt.figure(figsize=(10, 5))\n",
    "sns.countplot(x=berty[\"label\"], palette='Spectral')\n",
    "plt.xlabel('Classes')\n",
    "plt.title('Class Distribution');"
   ]
  },
  {
   "cell_type": "markdown",
   "metadata": {},
   "source": [
    "### Look at tweet length\n",
    "Because BERT requires equal length sentences and we need to know where we want to cut/pad to."
   ]
  },
  {
   "cell_type": "code",
   "execution_count": 19,
   "metadata": {},
   "outputs": [
    {
     "data": {
      "image/png": "[encoded data removed]",
      "text/plain": [
       "<Figure size 720x360 with 1 Axes>"
      ]
     },
     "metadata": {},
     "output_type": "display_data"
    }
   ],
   "source": [
    "plt.figure(figsize=(10, 5))\n",
    "sns.histplot([len(s) for s in berty[\"ContentClean\"]], bins=25)\n",
    "plt.title('Sentence Length')\n",
    "plt.style.use('ggplot') \n",
    "#plt.style.use('Solarize_Light2') \n",
    "plt.style.use('seaborn-white') \n",
    "plt.show()"
   ]
  },
  {
   "cell_type": "markdown",
   "metadata": {},
   "source": [
    "# Train/Val/Test Split\n",
    "Using stratify for imbalanced classes"
   ]
  },
  {
   "cell_type": "code",
   "execution_count": null,
   "metadata": {},
   "outputs": [],
   "source": [
    "# from sklearn.model_selection import train_test_split\n",
    "\n",
    "# #train test split\n",
    "# X_train, X_val, y_train, y_val = train_test_split(berty.id_stable.values, berty.label.values, test_size = 0.15, random_state = 17, stratify = berty.label.values)\n"
   ]
  },
  {
   "cell_type": "markdown",
   "metadata": {},
   "source": [
    "# Setup the BERT Tokenizer and Model\n",
    "### Load the model"
   ]
  },
  {
   "cell_type": "code",
   "execution_count": 20,
   "metadata": {},
   "outputs": [],
   "source": [
    "#tokenizer = AutoTokenizer.from_pretrained('nlptown/bert-base-multilingual-uncased-sentiment')\n",
    "tokenizer = AutoTokenizer.from_pretrained('distilbert-base-uncased')\n",
    "# model = AutoModelForSequenceClassification.from_pretrained('bert-base-multilingual-uncased')\n",
    "\n",
    "# tokenizer = BertTokenizer.from_pretrained('bert-base-uncased')\n",
    "# model = BertModel.from_pretrained(\"bert-base-uncased\", output_hidden_states = True)\n",
    "\n",
    "# tokenizer = torch.hub.load('huggingface/pytorch-transformers', 'tokenizer', 'bert-base-uncased')    # Download vocabulary from S3 and cache.\n",
    "# model = torch.hub.load('huggingface/pytorch-transformers', 'model', 'bert-base-uncased')    # Download model and configuration from S3 and cache.\n",
    "\n",
    "# tokenizer = None\n",
    "# model = None\n"
   ]
  },
  {
   "cell_type": "markdown",
   "metadata": {},
   "source": [
    "### BERT-specific preprocessing"
   ]
  },
  {
   "cell_type": "code",
   "execution_count": 49,
   "metadata": {},
   "outputs": [
    {
     "name": "stdout",
     "output_type": "stream",
     "text": [
      "['absolutely', 'the', 'worst']\n",
      "['[CLS]', 'absolutely', 'the', 'worst', '[SEP]', '[PAD]', '[PAD]']\n",
      "[1, 1, 1, 1, 1, 0, 0]\n",
      "[101, 7078, 1996, 5409, 102, 0, 0]\n"
     ]
    }
   ],
   "source": [
    "sentence = \"Absolutely the worst\"\n",
    "tokens = tokenizer.tokenize(sentence) #, return_tensors='pt'\n",
    "finished_tokens = [\"[CLS]\"] + tokens + [\"[SEP]\"] + [\"[PAD]\"] + [\"[PAD]\"]\n",
    "attention_mask = [1 if i!= '[PAD]' else 0 for i in finished_tokens]\n",
    "token_ids = tokenizer.convert_tokens_to_ids(finished_tokens)\n",
    "\n",
    "print(tokens)\n",
    "print(finished_tokens)\n",
    "print(attention_mask)\n",
    "print(token_ids)\n",
    "\n",
    "# Converts token_id and attention mask to tensors\n",
    "token_ids = torch.tensor(token_ids).unsqueeze(0)\n",
    "attention_mask = torch.tensor(attention_mask).unsqueeze(0)\n",
    "\n",
    "# result = model(tokens)\n",
    "# result\n",
    "# Thanks to \"Getting Started with Google BERT\""
   ]
  },
  {
   "cell_type": "markdown",
   "metadata": {},
   "source": [
    "### Get the word/token embeddings\n",
    "NOTE: torch.Size([1, 7, 768]) indicates [batch_size, sequence_length, hidden_size], where 'hidden size' is the model-based representation size, 768 for BERT-base\n",
    "\n",
    "Note: \"instead of taking embeddings only from the final encoder layer (final hidden layer), we can also use embeddings from the other encoder layers,\" which may give better results (eg. concatenating the last four hidden). -\"Getting Started with Google BERT\n"
   ]
  },
  {
   "cell_type": "code",
   "execution_count": 50,
   "metadata": {},
   "outputs": [],
   "source": [
    "# FOR output_hidden_states = False\n",
    "# hidden_rep, cls_head = model(token_ids, attention_mask = attention_mask)\n",
    "# print(hidden_rep.shape) \n",
    "\n",
    "# FOR output_hidden_states = True\n",
    "last_hidden_state, pooler_output, hidden_states = model(token_ids, attention_mask = attention_mask)\n",
    "# returns: [last_hidden_state, pooler_output, hidden_states]\n",
    "#   last_hidden_state[0][n]: returns the representation of the nth token in the final encoder layer\n",
    "#   pooler_output: the representation of the [CLS] token, which holds the aggregate representation of the sentence.\n",
    "#   hidden_states: a tuple containing 13 values holding the representation of all encoder layers (hidden layers), from the input embedding layer  to the final encoder layer \n",
    "#      hidden_states[n]: representations of all tokens from the nth encoder layer\n"
   ]
  },
  {
   "cell_type": "code",
   "execution_count": 51,
   "metadata": {},
   "outputs": [
    {
     "data": {
      "text/plain": [
       "torch.Size([1, 768])"
      ]
     },
     "execution_count": 51,
     "metadata": {},
     "output_type": "execute_result"
    }
   ],
   "source": [
    "rCLS = pooler_output\n",
    "rCLS.shape"
   ]
  },
  {
   "cell_type": "code",
   "execution_count": null,
   "metadata": {},
   "outputs": [],
   "source": [
    "text = \"Replace me by any text you'd like.\"\n",
    "\n",
    "encoded_input = tokenizer(text, return_tensors='pt')\n",
    "\n",
    "output = model(**encoded_input)\n"
   ]
  }
 ],
 "metadata": {
  "interpreter": {
   "hash": "7d5a672f32d72b7000e11999081d09a97571b10f2df9aaee5f232791dc820369"
  },
  "kernelspec": {
   "display_name": "Python 3.8.13 ('base')",
   "language": "python",
   "name": "python3"
  },
  "language_info": {
   "codemirror_mode": {
    "name": "ipython",
    "version": 3
   },
   "file_extension": ".py",
   "mimetype": "text/x-python",
   "name": "python",
   "nbconvert_exporter": "python",
   "pygments_lexer": "ipython3",
   "version": "3.8.13"
  },
  "orig_nbformat": 4
 },
 "nbformat": 4,
 "nbformat_minor": 2
}
