{
 "cells": [
  {
   "cell_type": "code",
   "execution_count": 1,
   "metadata": {},
   "outputs": [],
   "source": [
    "import pandas as pd\n",
    "import numpy as np\n",
    "from nlpUtils import aardvark as aa \n",
    "from numpy import random as rand\n",
    "from sklearn.metrics import f1_score, roc_curve, auc\n",
    "\n",
    "import seaborn as sns\n",
    "import matplotlib.pyplot as plt\n",
    "\n",
    "import torch\n",
    "from transformers import logging\n",
    "logging.set_verbosity_error()  # Turns off the warning when you load the model without training\n",
    "from transformers import BertForSequenceClassification\n",
    "from transformers import BertTokenizerFast\n",
    "from transformers import BertTokenizer\n",
    "\n",
    "# from transformers import DistilBertModel\n",
    "# from transformers import DistilBertForSequenceClassification\n",
    "# from transformers import DistilBertTokenizer"
   ]
  },
  {
   "cell_type": "markdown",
   "metadata": {},
   "source": [
    "# Load the dataset"
   ]
  },
  {
   "cell_type": "code",
   "execution_count": 40,
   "metadata": {},
   "outputs": [
    {
     "name": "stdout",
     "output_type": "stream",
     "text": [
      "(742, 4)\n",
      "(319, 4)\n",
      "(742, 2)\n",
      "(319, 2)\n"
     ]
    },
    {
     "data": {
      "text/html": [
       "<div>\n",
       "<style scoped>\n",
       "    .dataframe tbody tr th:only-of-type {\n",
       "        vertical-align: middle;\n",
       "    }\n",
       "\n",
       "    .dataframe tbody tr th {\n",
       "        vertical-align: top;\n",
       "    }\n",
       "\n",
       "    .dataframe thead th {\n",
       "        text-align: right;\n",
       "    }\n",
       "</style>\n",
       "<table border=\"1\" class=\"dataframe\">\n",
       "  <thead>\n",
       "    <tr style=\"text-align: right;\">\n",
       "      <th></th>\n",
       "      <th>id_stable</th>\n",
       "      <th>Date</th>\n",
       "      <th>Content</th>\n",
       "      <th>ContentClean</th>\n",
       "    </tr>\n",
       "  </thead>\n",
       "  <tbody>\n",
       "    <tr>\n",
       "      <th>506</th>\n",
       "      <td>25533</td>\n",
       "      <td>2022-01-16 18:30:03+00:00</td>\n",
       "      <td>@AP Ok let the questions being. Did the Terror...</td>\n",
       "      <td>Ok let the questions being. Did the Terrorist ...</td>\n",
       "    </tr>\n",
       "    <tr>\n",
       "      <th>769</th>\n",
       "      <td>106799</td>\n",
       "      <td>2021-08-28 10:13:32+00:00</td>\n",
       "      <td>@campbellclaret Sooooooo agree!\\nNow then talk...</td>\n",
       "      <td>Sooooooo agree! Now then talk us through Afgha...</td>\n",
       "    </tr>\n",
       "    <tr>\n",
       "      <th>712</th>\n",
       "      <td>183663</td>\n",
       "      <td>2021-07-22 14:58:14+00:00</td>\n",
       "      <td>Today I’m voting to pass the ALLIES Act, which...</td>\n",
       "      <td>Today I’m voting to pass the ALLIES Act, which...</td>\n",
       "    </tr>\n",
       "    <tr>\n",
       "      <th>102</th>\n",
       "      <td>66047</td>\n",
       "      <td>2021-09-23 22:47:43+00:00</td>\n",
       "      <td>@POTUS\\nMan, I know this migrant thing is bad ...</td>\n",
       "      <td>Man, I know this migrant thing is bad but coul...</td>\n",
       "    </tr>\n",
       "    <tr>\n",
       "      <th>679</th>\n",
       "      <td>177479</td>\n",
       "      <td>2021-08-09 10:58:28+00:00</td>\n",
       "      <td>@hassib_haidar why is Afghan army clicking pic...</td>\n",
       "      <td>why is Afghan army clicking pictures of terror...</td>\n",
       "    </tr>\n",
       "  </tbody>\n",
       "</table>\n",
       "</div>"
      ],
      "text/plain": [
       "     id_stable                       Date  \\\n",
       "506      25533  2022-01-16 18:30:03+00:00   \n",
       "769     106799  2021-08-28 10:13:32+00:00   \n",
       "712     183663  2021-07-22 14:58:14+00:00   \n",
       "102      66047  2021-09-23 22:47:43+00:00   \n",
       "679     177479  2021-08-09 10:58:28+00:00   \n",
       "\n",
       "                                               Content  \\\n",
       "506  @AP Ok let the questions being. Did the Terror...   \n",
       "769  @campbellclaret Sooooooo agree!\\nNow then talk...   \n",
       "712  Today I’m voting to pass the ALLIES Act, which...   \n",
       "102  @POTUS\\nMan, I know this migrant thing is bad ...   \n",
       "679  @hassib_haidar why is Afghan army clicking pic...   \n",
       "\n",
       "                                          ContentClean  \n",
       "506  Ok let the questions being. Did the Terrorist ...  \n",
       "769  Sooooooo agree! Now then talk us through Afgha...  \n",
       "712  Today I’m voting to pass the ALLIES Act, which...  \n",
       "102  Man, I know this migrant thing is bad but coul...  \n",
       "679  why is Afghan army clicking pictures of terror...  "
      ]
     },
     "execution_count": 40,
     "metadata": {},
     "output_type": "execute_result"
    }
   ],
   "source": [
    "x_train = pd.read_csv(\"x_train_2.csv\", header=0, index_col=0) # the _2 version dropped irrelevant columns\n",
    "x_val = pd.read_csv(\"x_val_2.csv\", header=0, index_col=0)\n",
    "y_train_sent = pd.read_csv(\"y_train_sent.csv\", header=0, index_col=0)\n",
    "y_val_sent = pd.read_csv(\"y_val_sent.csv\", header=0, index_col=0)\n",
    "\n",
    "print(x_train.shape)\n",
    "print(x_val.shape)\n",
    "print(y_train_sent.shape)\n",
    "print(y_val_sent.shape)\n",
    "x_train.tail()"
   ]
  },
  {
   "cell_type": "code",
   "execution_count": 41,
   "metadata": {},
   "outputs": [
    {
     "data": {
      "text/html": [
       "<div>\n",
       "<style scoped>\n",
       "    .dataframe tbody tr th:only-of-type {\n",
       "        vertical-align: middle;\n",
       "    }\n",
       "\n",
       "    .dataframe tbody tr th {\n",
       "        vertical-align: top;\n",
       "    }\n",
       "\n",
       "    .dataframe thead th {\n",
       "        text-align: right;\n",
       "    }\n",
       "</style>\n",
       "<table border=\"1\" class=\"dataframe\">\n",
       "  <thead>\n",
       "    <tr style=\"text-align: right;\">\n",
       "      <th></th>\n",
       "      <th>id_stable</th>\n",
       "      <th>y_sent</th>\n",
       "    </tr>\n",
       "  </thead>\n",
       "  <tbody>\n",
       "    <tr>\n",
       "      <th>506</th>\n",
       "      <td>25533</td>\n",
       "      <td>1</td>\n",
       "    </tr>\n",
       "    <tr>\n",
       "      <th>769</th>\n",
       "      <td>106799</td>\n",
       "      <td>2</td>\n",
       "    </tr>\n",
       "    <tr>\n",
       "      <th>712</th>\n",
       "      <td>183663</td>\n",
       "      <td>2</td>\n",
       "    </tr>\n",
       "    <tr>\n",
       "      <th>102</th>\n",
       "      <td>66047</td>\n",
       "      <td>1</td>\n",
       "    </tr>\n",
       "    <tr>\n",
       "      <th>679</th>\n",
       "      <td>177479</td>\n",
       "      <td>1</td>\n",
       "    </tr>\n",
       "  </tbody>\n",
       "</table>\n",
       "</div>"
      ],
      "text/plain": [
       "     id_stable  y_sent\n",
       "506      25533       1\n",
       "769     106799       2\n",
       "712     183663       2\n",
       "102      66047       1\n",
       "679     177479       1"
      ]
     },
     "execution_count": 41,
     "metadata": {},
     "output_type": "execute_result"
    }
   ],
   "source": [
    "y_train_sent.tail()"
   ]
  },
  {
   "cell_type": "markdown",
   "metadata": {},
   "source": [
    "# Setup for BERT\n",
    "Thanks to: https://medium.com/mlearning-ai/twitter-sentiment-analysis-with-deep-learning-using-bert-and-hugging-face-830005bcdbbf, https://www.youtube.com/watch?v=szczpgOEdXs\n",
    "\n",
    "Using the distilbert-base-uncased version.\n",
    "\n",
    "Setup\n",
    "1. get just the columns we will use\n",
    "2. add some new columns we will need"
   ]
  },
  {
   "cell_type": "code",
   "execution_count": null,
   "metadata": {},
   "outputs": [],
   "source": [
    "## DONT THINK I NEED THIS\n",
    "# x_cols = [\"id_stable\", \"ContentClean\"]\n",
    "# x_train = x_train[x_cols]\n",
    "# x_val = x_val[x_cols]\n",
    "\n",
    "# x_train[\"tokenIDs\"] = \"\"\n",
    "# x_val[\"tokenIDs\"] = \"\"\n",
    "\n",
    "# x_train[\"mask\"] = \"\"\n",
    "# x_val[\"mask\"] = \"\"\n",
    "\n",
    "# print(x_train.shape)\n",
    "# print(x_val.shape)\n",
    "# print(y_train_sent.shape)\n",
    "# print(y_val_sent.shape)\n",
    "# x_train.tail()"
   ]
  },
  {
   "cell_type": "markdown",
   "metadata": {},
   "source": [
    "### Look at tweet length\n",
    "Because BERT requires equal length sentences and we need to know where we want to cut/pad to."
   ]
  },
  {
   "cell_type": "code",
   "execution_count": 65,
   "metadata": {},
   "outputs": [
    {
     "data": {
      "image/png": "[encoded data removed]",
      "text/plain": [
       "<Figure size 720x360 with 1 Axes>"
      ]
     },
     "metadata": {},
     "output_type": "display_data"
    }
   ],
   "source": [
    "plt.figure(figsize=(10, 5))\n",
    "sns.histplot([len(s) for s in x_train[\"ContentClean\"]], bins=25)\n",
    "plt.title('Sentence Length, number of characters')\n",
    "plt.figtext(.2, .8, \"Max content length: {}\".format(max([len(s) for s in x_train[\"ContentClean\"]])))\n",
    "plt.style.use('ggplot') \n",
    "#plt.style.use('Solarize_Light2') \n",
    "plt.style.use('seaborn-white') \n",
    "plt.show()"
   ]
  },
  {
   "cell_type": "code",
   "execution_count": 43,
   "metadata": {},
   "outputs": [
    {
     "data": {
      "text/plain": [
       "294"
      ]
     },
     "execution_count": 43,
     "metadata": {},
     "output_type": "execute_result"
    }
   ],
   "source": [
    "max_tweet_len = max([len(s) for s in x_train[\"ContentClean\"]])\n",
    "max_tweet_len"
   ]
  },
  {
   "cell_type": "markdown",
   "metadata": {},
   "source": [
    "So there are a lot of tweets that run long. I think I will pad to the max tweet length: 294."
   ]
  },
  {
   "cell_type": "markdown",
   "metadata": {},
   "source": [
    "# Setup the BERT Tokenizer and Model\n"
   ]
  },
  {
   "cell_type": "code",
   "execution_count": 13,
   "metadata": {},
   "outputs": [],
   "source": [
    "from sklearn.metrics import accuracy_score, recall_score, precision_score\n",
    "from transformers import TrainingArguments, Trainer\n",
    "from transformers import EarlyStoppingCallback"
   ]
  },
  {
   "cell_type": "code",
   "execution_count": 45,
   "metadata": {},
   "outputs": [],
   "source": [
    "X_train = list(x_train[\"ContentClean\"])\n",
    "X_val = list(x_val[\"ContentClean\"])\n",
    "Y_train = list(y_train_sent[\"y_sent\"])\n",
    "Y_val = list(y_val_sent[\"y_sent\"])"
   ]
  },
  {
   "cell_type": "code",
   "execution_count": 92,
   "metadata": {},
   "outputs": [
    {
     "name": "stdout",
     "output_type": "stream",
     "text": [
      "length of longest tweet: 60\n",
      "index of longest tweet: 240\n",
      "longest tweet: I remember years ago in my hometown someone I know is an Afghan refugee, came to the UK at 11 as his dad & uncle were killed by the Taliban, so his mum sent him west. He was nearly deported at 17 & the only reason he wasn’t is that the local MP was a junior minister at the time.\n"
     ]
    }
   ],
   "source": [
    "# a = len(str(X_train).split(\" \"))\n",
    "a = [len(i.split()) for i in X_train]\n",
    "max_a = (max(a))\n",
    "ind_max_a = a.index(max_a)\n",
    "print(\"length of longest tweet:\", max_a)\n",
    "print(\"index of longest tweet:\", ind_max_a)\n",
    "print(\"longest tweet:\", X_train[ind_max_a])"
   ]
  },
  {
   "cell_type": "code",
   "execution_count": 95,
   "metadata": {},
   "outputs": [
    {
     "data": {
      "image/png": "[encoded data removed]",
      "text/plain": [
       "<Figure size 720x360 with 1 Axes>"
      ]
     },
     "metadata": {},
     "output_type": "display_data"
    }
   ],
   "source": [
    "plt.figure(figsize=(10, 5))\n",
    "sns.histplot(a, bins=25)\n",
    "plt.title('Sentence Length, number of words')\n",
    "plt.figtext(.2, .8, \"Max content length: {}\".format(max(a)))\n",
    "plt.style.use('ggplot') \n",
    "#plt.style.use('Solarize_Light2') \n",
    "plt.style.use('seaborn-white') \n",
    "plt.show()"
   ]
  },
  {
   "cell_type": "code",
   "execution_count": 11,
   "metadata": {},
   "outputs": [],
   "source": [
    "model_name = \"bert-base-uncased\"\n",
    "model = BertForSequenceClassification.from_pretrained(model_name)\n",
    "#tokenizer = BertTokenizerFast.from_pretrained(model_name)\n",
    "tokenizer = BertTokenizer.from_pretrained(model_name, num_labels=3)"
   ]
  },
  {
   "cell_type": "code",
   "execution_count": 60,
   "metadata": {},
   "outputs": [],
   "source": [
    "X_train_tokenized = tokenizer(X_train, padding=True, truncation=True, max_length=60)\n",
    "X_val_tokenized = tokenizer(X_val, padding=True, truncation=True, max_length=60)"
   ]
  },
  {
   "cell_type": "code",
   "execution_count": 61,
   "metadata": {},
   "outputs": [],
   "source": [
    "## THANKS TO: https://towardsdatascience.com/fine-tuning-pretrained-nlp-models-with-huggingfaces-trainer-6326a4456e7b\n",
    "# Create torch dataset \n",
    "class Dataset(torch.utils.data.Dataset):\n",
    "    def __init__(self, encodings, labels=None):\n",
    "        self.encodings = encodings\n",
    "        self.labels = labels\n",
    "\n",
    "    def __getitem__(self, idx):\n",
    "        item = {key: torch.tensor(val[idx]) for key, val in self.encodings.items()}\n",
    "        if self.labels:\n",
    "            item[\"labels\"] = torch.tensor(self.labels[idx])\n",
    "        return item\n",
    "\n",
    "    def __len__(self):\n",
    "        return len(self.encodings[\"input_ids\"])\n",
    "\n",
    "# Define Trainer parameters\n",
    "def compute_metrics(p):\n",
    "    pred, labels = p\n",
    "    pred = np.argmax(pred, axis=1)\n",
    "\n",
    "    accuracy = accuracy_score(y_true=labels, y_pred=pred)\n",
    "    recall = recall_score(y_true=labels, y_pred=pred)\n",
    "    precision = precision_score(y_true=labels, y_pred=pred)\n",
    "    f1 = f1_score(y_true=labels, y_pred=pred)\n",
    "\n",
    "    return {\"accuracy\": accuracy, \"precision\": precision, \"recall\": recall, \"f1\": f1}\n",
    "\n",
    "train_dataset = Dataset(X_train_tokenized, Y_train)\n",
    "val_dataset = Dataset(X_val_tokenized, Y_val)\n"
   ]
  },
  {
   "cell_type": "code",
   "execution_count": 62,
   "metadata": {},
   "outputs": [
    {
     "name": "stderr",
     "output_type": "stream",
     "text": [
      "PyTorch: setting up devices\n",
      "The default value for the training argument `--report_to` will change in v5 (from all installed integrations to none). In v5, you will need to use `--report_to all` to get the same behavior as now. You should start updating your code and make this info disappear :-).\n"
     ]
    },
    {
     "ename": "RuntimeError",
     "evalue": "CUDA error: device-side assert triggered\nCUDA kernel errors might be asynchronously reported at some other API call,so the stacktrace below might be incorrect.\nFor debugging consider passing CUDA_LAUNCH_BLOCKING=1.",
     "output_type": "error",
     "traceback": [
      "\u001b[1;31m---------------------------------------------------------------------------\u001b[0m",
      "\u001b[1;31mRuntimeError\u001b[0m                              Traceback (most recent call last)",
      "\u001b[1;32mc:\\Users\\rnocker\\Desktop\\python\\THESIS\\bert3.ipynb Cell 17'\u001b[0m in \u001b[0;36m<cell line: 13>\u001b[1;34m()\u001b[0m\n\u001b[0;32m      <a href='vscode-notebook-cell:/c%3A/Users/rnocker/Desktop/python/THESIS/bert3.ipynb#ch0000026?line=0'>1</a>\u001b[0m \u001b[39m## THANKS TO: https://towardsdatascience.com/fine-tuning-pretrained-nlp-models-with-huggingfaces-trainer-6326a4456e7b\u001b[39;00m\n\u001b[0;32m      <a href='vscode-notebook-cell:/c%3A/Users/rnocker/Desktop/python/THESIS/bert3.ipynb#ch0000026?line=1'>2</a>\u001b[0m \u001b[39m# Define Trainer\u001b[39;00m\n\u001b[0;32m      <a href='vscode-notebook-cell:/c%3A/Users/rnocker/Desktop/python/THESIS/bert3.ipynb#ch0000026?line=2'>3</a>\u001b[0m args \u001b[39m=\u001b[39m TrainingArguments(\n\u001b[0;32m      <a href='vscode-notebook-cell:/c%3A/Users/rnocker/Desktop/python/THESIS/bert3.ipynb#ch0000026?line=3'>4</a>\u001b[0m     output_dir\u001b[39m=\u001b[39m\u001b[39m\"\u001b[39m\u001b[39moutput\u001b[39m\u001b[39m\"\u001b[39m,\n\u001b[0;32m      <a href='vscode-notebook-cell:/c%3A/Users/rnocker/Desktop/python/THESIS/bert3.ipynb#ch0000026?line=4'>5</a>\u001b[0m     evaluation_strategy\u001b[39m=\u001b[39m\u001b[39m\"\u001b[39m\u001b[39msteps\u001b[39m\u001b[39m\"\u001b[39m,\n\u001b[1;32m   (...)\u001b[0m\n\u001b[0;32m     <a href='vscode-notebook-cell:/c%3A/Users/rnocker/Desktop/python/THESIS/bert3.ipynb#ch0000026?line=10'>11</a>\u001b[0m     load_best_model_at_end\u001b[39m=\u001b[39m\u001b[39mTrue\u001b[39;00m,\n\u001b[0;32m     <a href='vscode-notebook-cell:/c%3A/Users/rnocker/Desktop/python/THESIS/bert3.ipynb#ch0000026?line=11'>12</a>\u001b[0m )\n\u001b[1;32m---> <a href='vscode-notebook-cell:/c%3A/Users/rnocker/Desktop/python/THESIS/bert3.ipynb#ch0000026?line=12'>13</a>\u001b[0m trainer \u001b[39m=\u001b[39m Trainer(\n\u001b[0;32m     <a href='vscode-notebook-cell:/c%3A/Users/rnocker/Desktop/python/THESIS/bert3.ipynb#ch0000026?line=13'>14</a>\u001b[0m     model\u001b[39m=\u001b[39;49mmodel,\n\u001b[0;32m     <a href='vscode-notebook-cell:/c%3A/Users/rnocker/Desktop/python/THESIS/bert3.ipynb#ch0000026?line=14'>15</a>\u001b[0m     args\u001b[39m=\u001b[39;49margs,\n\u001b[0;32m     <a href='vscode-notebook-cell:/c%3A/Users/rnocker/Desktop/python/THESIS/bert3.ipynb#ch0000026?line=15'>16</a>\u001b[0m     train_dataset\u001b[39m=\u001b[39;49mtrain_dataset,\n\u001b[0;32m     <a href='vscode-notebook-cell:/c%3A/Users/rnocker/Desktop/python/THESIS/bert3.ipynb#ch0000026?line=16'>17</a>\u001b[0m     eval_dataset\u001b[39m=\u001b[39;49mval_dataset,\n\u001b[0;32m     <a href='vscode-notebook-cell:/c%3A/Users/rnocker/Desktop/python/THESIS/bert3.ipynb#ch0000026?line=17'>18</a>\u001b[0m     compute_metrics\u001b[39m=\u001b[39;49mcompute_metrics,\n\u001b[0;32m     <a href='vscode-notebook-cell:/c%3A/Users/rnocker/Desktop/python/THESIS/bert3.ipynb#ch0000026?line=18'>19</a>\u001b[0m     callbacks\u001b[39m=\u001b[39;49m[EarlyStoppingCallback(early_stopping_patience\u001b[39m=\u001b[39;49m\u001b[39m3\u001b[39;49m)],\n\u001b[0;32m     <a href='vscode-notebook-cell:/c%3A/Users/rnocker/Desktop/python/THESIS/bert3.ipynb#ch0000026?line=19'>20</a>\u001b[0m )\n\u001b[0;32m     <a href='vscode-notebook-cell:/c%3A/Users/rnocker/Desktop/python/THESIS/bert3.ipynb#ch0000026?line=20'>21</a>\u001b[0m \u001b[39m# model.resize_token_embeddings(len(tokenizer))\u001b[39;00m\n\u001b[0;32m     <a href='vscode-notebook-cell:/c%3A/Users/rnocker/Desktop/python/THESIS/bert3.ipynb#ch0000026?line=21'>22</a>\u001b[0m \n\u001b[0;32m     <a href='vscode-notebook-cell:/c%3A/Users/rnocker/Desktop/python/THESIS/bert3.ipynb#ch0000026?line=22'>23</a>\u001b[0m \u001b[39m# Train pre-trained model\u001b[39;00m\n\u001b[0;32m     <a href='vscode-notebook-cell:/c%3A/Users/rnocker/Desktop/python/THESIS/bert3.ipynb#ch0000026?line=23'>24</a>\u001b[0m trainer\u001b[39m.\u001b[39mtrain()\n",
      "File \u001b[1;32mc:\\Users\\rnocker\\Anaconda3\\lib\\site-packages\\transformers\\trainer.py:306\u001b[0m, in \u001b[0;36mTrainer.__init__\u001b[1;34m(self, model, args, data_collator, train_dataset, eval_dataset, tokenizer, model_init, compute_metrics, callbacks, optimizers, preprocess_logits_for_metrics)\u001b[0m\n\u001b[0;32m    <a href='file:///c%3A/Users/rnocker/Anaconda3/lib/site-packages/transformers/trainer.py?line=303'>304</a>\u001b[0m \u001b[39mself\u001b[39m\u001b[39m.\u001b[39margs \u001b[39m=\u001b[39m args\n\u001b[0;32m    <a href='file:///c%3A/Users/rnocker/Anaconda3/lib/site-packages/transformers/trainer.py?line=304'>305</a>\u001b[0m \u001b[39m# Seed must be set before instantiating the model when using model\u001b[39;00m\n\u001b[1;32m--> <a href='file:///c%3A/Users/rnocker/Anaconda3/lib/site-packages/transformers/trainer.py?line=305'>306</a>\u001b[0m enable_full_determinism(\u001b[39mself\u001b[39m\u001b[39m.\u001b[39margs\u001b[39m.\u001b[39mseed) \u001b[39mif\u001b[39;00m \u001b[39mself\u001b[39m\u001b[39m.\u001b[39margs\u001b[39m.\u001b[39mfull_determinism \u001b[39melse\u001b[39;00m set_seed(\u001b[39mself\u001b[39;49m\u001b[39m.\u001b[39;49margs\u001b[39m.\u001b[39;49mseed)\n\u001b[0;32m    <a href='file:///c%3A/Users/rnocker/Anaconda3/lib/site-packages/transformers/trainer.py?line=306'>307</a>\u001b[0m \u001b[39mself\u001b[39m\u001b[39m.\u001b[39mhp_name \u001b[39m=\u001b[39m \u001b[39mNone\u001b[39;00m\n\u001b[0;32m    <a href='file:///c%3A/Users/rnocker/Anaconda3/lib/site-packages/transformers/trainer.py?line=307'>308</a>\u001b[0m \u001b[39mself\u001b[39m\u001b[39m.\u001b[39mdeepspeed \u001b[39m=\u001b[39m \u001b[39mNone\u001b[39;00m\n",
      "File \u001b[1;32mc:\\Users\\rnocker\\Anaconda3\\lib\\site-packages\\transformers\\trainer_utils.py:93\u001b[0m, in \u001b[0;36mset_seed\u001b[1;34m(seed)\u001b[0m\n\u001b[0;32m     <a href='file:///c%3A/Users/rnocker/Anaconda3/lib/site-packages/transformers/trainer_utils.py?line=90'>91</a>\u001b[0m np\u001b[39m.\u001b[39mrandom\u001b[39m.\u001b[39mseed(seed)\n\u001b[0;32m     <a href='file:///c%3A/Users/rnocker/Anaconda3/lib/site-packages/transformers/trainer_utils.py?line=91'>92</a>\u001b[0m \u001b[39mif\u001b[39;00m is_torch_available():\n\u001b[1;32m---> <a href='file:///c%3A/Users/rnocker/Anaconda3/lib/site-packages/transformers/trainer_utils.py?line=92'>93</a>\u001b[0m     torch\u001b[39m.\u001b[39;49mmanual_seed(seed)\n\u001b[0;32m     <a href='file:///c%3A/Users/rnocker/Anaconda3/lib/site-packages/transformers/trainer_utils.py?line=93'>94</a>\u001b[0m     torch\u001b[39m.\u001b[39mcuda\u001b[39m.\u001b[39mmanual_seed_all(seed)\n\u001b[0;32m     <a href='file:///c%3A/Users/rnocker/Anaconda3/lib/site-packages/transformers/trainer_utils.py?line=94'>95</a>\u001b[0m     \u001b[39m# ^^ safe to call this function even if cuda is not available\u001b[39;00m\n",
      "File \u001b[1;32mc:\\Users\\rnocker\\Anaconda3\\lib\\site-packages\\torch\\random.py:40\u001b[0m, in \u001b[0;36mmanual_seed\u001b[1;34m(seed)\u001b[0m\n\u001b[0;32m     <a href='file:///c%3A/Users/rnocker/Anaconda3/lib/site-packages/torch/random.py?line=36'>37</a>\u001b[0m \u001b[39mimport\u001b[39;00m \u001b[39mtorch\u001b[39;00m\u001b[39m.\u001b[39;00m\u001b[39mcuda\u001b[39;00m\n\u001b[0;32m     <a href='file:///c%3A/Users/rnocker/Anaconda3/lib/site-packages/torch/random.py?line=38'>39</a>\u001b[0m \u001b[39mif\u001b[39;00m \u001b[39mnot\u001b[39;00m torch\u001b[39m.\u001b[39mcuda\u001b[39m.\u001b[39m_is_in_bad_fork():\n\u001b[1;32m---> <a href='file:///c%3A/Users/rnocker/Anaconda3/lib/site-packages/torch/random.py?line=39'>40</a>\u001b[0m     torch\u001b[39m.\u001b[39;49mcuda\u001b[39m.\u001b[39;49mmanual_seed_all(seed)\n\u001b[0;32m     <a href='file:///c%3A/Users/rnocker/Anaconda3/lib/site-packages/torch/random.py?line=41'>42</a>\u001b[0m \u001b[39mreturn\u001b[39;00m default_generator\u001b[39m.\u001b[39mmanual_seed(seed)\n",
      "File \u001b[1;32mc:\\Users\\rnocker\\Anaconda3\\lib\\site-packages\\torch\\cuda\\random.py:113\u001b[0m, in \u001b[0;36mmanual_seed_all\u001b[1;34m(seed)\u001b[0m\n\u001b[0;32m    <a href='file:///c%3A/Users/rnocker/Anaconda3/lib/site-packages/torch/cuda/random.py?line=109'>110</a>\u001b[0m         default_generator \u001b[39m=\u001b[39m torch\u001b[39m.\u001b[39mcuda\u001b[39m.\u001b[39mdefault_generators[i]\n\u001b[0;32m    <a href='file:///c%3A/Users/rnocker/Anaconda3/lib/site-packages/torch/cuda/random.py?line=110'>111</a>\u001b[0m         default_generator\u001b[39m.\u001b[39mmanual_seed(seed)\n\u001b[1;32m--> <a href='file:///c%3A/Users/rnocker/Anaconda3/lib/site-packages/torch/cuda/random.py?line=112'>113</a>\u001b[0m _lazy_call(cb, seed_all\u001b[39m=\u001b[39;49m\u001b[39mTrue\u001b[39;49;00m)\n",
      "File \u001b[1;32mc:\\Users\\rnocker\\Anaconda3\\lib\\site-packages\\torch\\cuda\\__init__.py:155\u001b[0m, in \u001b[0;36m_lazy_call\u001b[1;34m(callable, **kwargs)\u001b[0m\n\u001b[0;32m    <a href='file:///c%3A/Users/rnocker/Anaconda3/lib/site-packages/torch/cuda/__init__.py?line=152'>153</a>\u001b[0m \u001b[39mdef\u001b[39;00m \u001b[39m_lazy_call\u001b[39m(callable, \u001b[39m*\u001b[39m\u001b[39m*\u001b[39mkwargs):\n\u001b[0;32m    <a href='file:///c%3A/Users/rnocker/Anaconda3/lib/site-packages/torch/cuda/__init__.py?line=153'>154</a>\u001b[0m     \u001b[39mif\u001b[39;00m is_initialized():\n\u001b[1;32m--> <a href='file:///c%3A/Users/rnocker/Anaconda3/lib/site-packages/torch/cuda/__init__.py?line=154'>155</a>\u001b[0m         callable()\n\u001b[0;32m    <a href='file:///c%3A/Users/rnocker/Anaconda3/lib/site-packages/torch/cuda/__init__.py?line=155'>156</a>\u001b[0m     \u001b[39melse\u001b[39;00m:\n\u001b[0;32m    <a href='file:///c%3A/Users/rnocker/Anaconda3/lib/site-packages/torch/cuda/__init__.py?line=156'>157</a>\u001b[0m         \u001b[39m# TODO(torch_deploy): this accesses linecache, which attempts to read the\u001b[39;00m\n\u001b[0;32m    <a href='file:///c%3A/Users/rnocker/Anaconda3/lib/site-packages/torch/cuda/__init__.py?line=157'>158</a>\u001b[0m         \u001b[39m# file system to get traceback info. Patch linecache or do something\u001b[39;00m\n\u001b[0;32m    <a href='file:///c%3A/Users/rnocker/Anaconda3/lib/site-packages/torch/cuda/__init__.py?line=158'>159</a>\u001b[0m         \u001b[39m# else here if this ends up being important.\u001b[39;00m\n\u001b[0;32m    <a href='file:///c%3A/Users/rnocker/Anaconda3/lib/site-packages/torch/cuda/__init__.py?line=159'>160</a>\u001b[0m         \u001b[39mglobal\u001b[39;00m _lazy_seed_tracker\n",
      "File \u001b[1;32mc:\\Users\\rnocker\\Anaconda3\\lib\\site-packages\\torch\\cuda\\random.py:111\u001b[0m, in \u001b[0;36mmanual_seed_all.<locals>.cb\u001b[1;34m()\u001b[0m\n\u001b[0;32m    <a href='file:///c%3A/Users/rnocker/Anaconda3/lib/site-packages/torch/cuda/random.py?line=108'>109</a>\u001b[0m \u001b[39mfor\u001b[39;00m i \u001b[39min\u001b[39;00m \u001b[39mrange\u001b[39m(device_count()):\n\u001b[0;32m    <a href='file:///c%3A/Users/rnocker/Anaconda3/lib/site-packages/torch/cuda/random.py?line=109'>110</a>\u001b[0m     default_generator \u001b[39m=\u001b[39m torch\u001b[39m.\u001b[39mcuda\u001b[39m.\u001b[39mdefault_generators[i]\n\u001b[1;32m--> <a href='file:///c%3A/Users/rnocker/Anaconda3/lib/site-packages/torch/cuda/random.py?line=110'>111</a>\u001b[0m     default_generator\u001b[39m.\u001b[39;49mmanual_seed(seed)\n",
      "\u001b[1;31mRuntimeError\u001b[0m: CUDA error: device-side assert triggered\nCUDA kernel errors might be asynchronously reported at some other API call,so the stacktrace below might be incorrect.\nFor debugging consider passing CUDA_LAUNCH_BLOCKING=1."
     ]
    }
   ],
   "source": [
    "## THANKS TO: https://towardsdatascience.com/fine-tuning-pretrained-nlp-models-with-huggingfaces-trainer-6326a4456e7b\n",
    "# Define Trainer\n",
    "args = TrainingArguments(\n",
    "    output_dir=\"output\",\n",
    "    evaluation_strategy=\"steps\",\n",
    "    eval_steps=500,\n",
    "    per_device_train_batch_size=8,\n",
    "    per_device_eval_batch_size=8,\n",
    "    num_train_epochs=3,\n",
    "    seed=0,\n",
    "    load_best_model_at_end=True,\n",
    ")\n",
    "trainer = Trainer(\n",
    "    model=model,\n",
    "    args=args,\n",
    "    train_dataset=train_dataset,\n",
    "    eval_dataset=val_dataset,\n",
    "    compute_metrics=compute_metrics,\n",
    "    callbacks=[EarlyStoppingCallback(early_stopping_patience=3)],\n",
    ")\n",
    "# model.resize_token_embeddings(len(tokenizer))\n",
    "\n",
    "# Train pre-trained model\n",
    "trainer.train()"
   ]
  },
  {
   "cell_type": "code",
   "execution_count": null,
   "metadata": {},
   "outputs": [],
   "source": [
    "## THANKS TO: https://towardsdatascience.com/fine-tuning-pretrained-nlp-models-with-huggingfaces-trainer-6326a4456e7b\n"
   ]
  },
  {
   "cell_type": "markdown",
   "metadata": {},
   "source": [
    "# ___________ BOOKMARK - START HERE ___________"
   ]
  },
  {
   "cell_type": "code",
   "execution_count": 12,
   "metadata": {},
   "outputs": [
    {
     "data": {
      "text/html": [
       "<div>\n",
       "<style scoped>\n",
       "    .dataframe tbody tr th:only-of-type {\n",
       "        vertical-align: middle;\n",
       "    }\n",
       "\n",
       "    .dataframe tbody tr th {\n",
       "        vertical-align: top;\n",
       "    }\n",
       "\n",
       "    .dataframe thead th {\n",
       "        text-align: right;\n",
       "    }\n",
       "</style>\n",
       "<table border=\"1\" class=\"dataframe\">\n",
       "  <thead>\n",
       "    <tr style=\"text-align: right;\">\n",
       "      <th></th>\n",
       "      <th>id_stable</th>\n",
       "      <th>ContentClean</th>\n",
       "      <th>tokenIDs</th>\n",
       "      <th>mask</th>\n",
       "    </tr>\n",
       "  </thead>\n",
       "  <tbody>\n",
       "    <tr>\n",
       "      <th>128</th>\n",
       "      <td>145141</td>\n",
       "      <td>80,000 unvetted people? Sounds great, even afg...</td>\n",
       "      <td></td>\n",
       "      <td></td>\n",
       "    </tr>\n",
       "    <tr>\n",
       "      <th>724</th>\n",
       "      <td>3083</td>\n",
       "      <td>if u take in a single ukranian refugee here th...</td>\n",
       "      <td></td>\n",
       "      <td></td>\n",
       "    </tr>\n",
       "    <tr>\n",
       "      <th>854</th>\n",
       "      <td>34770</td>\n",
       "      <td>Afghan refugee who arrived in Britain on the b...</td>\n",
       "      <td></td>\n",
       "      <td></td>\n",
       "    </tr>\n",
       "  </tbody>\n",
       "</table>\n",
       "</div>"
      ],
      "text/plain": [
       "     id_stable                                       ContentClean tokenIDs  \\\n",
       "128     145141  80,000 unvetted people? Sounds great, even afg...            \n",
       "724       3083  if u take in a single ukranian refugee here th...            \n",
       "854      34770  Afghan refugee who arrived in Britain on the b...            \n",
       "\n",
       "    mask  \n",
       "128       \n",
       "724       \n",
       "854       "
      ]
     },
     "execution_count": 12,
     "metadata": {},
     "output_type": "execute_result"
    }
   ],
   "source": [
    "# for testing, take a smaller df\n",
    "my_df = x_val[0:3]\n",
    "my_df"
   ]
  },
  {
   "cell_type": "code",
   "execution_count": 14,
   "metadata": {},
   "outputs": [
    {
     "ename": "AttributeError",
     "evalue": "'list' object has no attribute 'map'",
     "output_type": "error",
     "traceback": [
      "\u001b[1;31m---------------------------------------------------------------------------\u001b[0m",
      "\u001b[1;31mAttributeError\u001b[0m                            Traceback (most recent call last)",
      "\u001b[1;32mc:\\Users\\r_noc\\Desktop\\Python\\THESIS\\bert3.ipynb Cell 15'\u001b[0m in \u001b[0;36m<cell line: 6>\u001b[1;34m()\u001b[0m\n\u001b[0;32m      <a href='vscode-notebook-cell:/c%3A/Users/r_noc/Desktop/Python/THESIS/bert3.ipynb#ch0000024?line=1'>2</a>\u001b[0m     \u001b[39mreturn\u001b[39;00m tokenizer(df[\u001b[39m'\u001b[39m\u001b[39mContentClean\u001b[39m\u001b[39m'\u001b[39m], padding\u001b[39m=\u001b[39m\u001b[39mTrue\u001b[39;00m, truncation\u001b[39m=\u001b[39m\u001b[39mTrue\u001b[39;00m)\n\u001b[0;32m      <a href='vscode-notebook-cell:/c%3A/Users/r_noc/Desktop/Python/THESIS/bert3.ipynb#ch0000024?line=3'>4</a>\u001b[0m train_set \u001b[39m=\u001b[39m \u001b[39mlist\u001b[39m(x_train[\u001b[39m'\u001b[39m\u001b[39mContentClean\u001b[39m\u001b[39m'\u001b[39m])\n\u001b[1;32m----> <a href='vscode-notebook-cell:/c%3A/Users/r_noc/Desktop/Python/THESIS/bert3.ipynb#ch0000024?line=5'>6</a>\u001b[0m train_set \u001b[39m=\u001b[39m train_set\u001b[39m.\u001b[39;49mmap(prepTokens, batched\u001b[39m=\u001b[39m\u001b[39mTrue\u001b[39;00m, \n\u001b[0;32m      <a href='vscode-notebook-cell:/c%3A/Users/r_noc/Desktop/Python/THESIS/bert3.ipynb#ch0000024?line=6'>7</a>\u001b[0m                           batch_size\u001b[39m=\u001b[39m\u001b[39mlen\u001b[39m(train_set))\n",
      "\u001b[1;31mAttributeError\u001b[0m: 'list' object has no attribute 'map'"
     ]
    }
   ],
   "source": [
    "def prepTokens(df):\n",
    "    return tokenizer(df['ContentClean'], padding=True, truncation=True)\n",
    "\n",
    "train_set = train_set.map(prepTokens, batched=True, \n",
    "                          batch_size=len(train_set))\n",
    "#test_set = test_set.map(prepTokens, batched=True, batch_size=len(test_set))"
   ]
  },
  {
   "cell_type": "code",
   "execution_count": null,
   "metadata": {},
   "outputs": [],
   "source": []
  }
 ],
 "metadata": {
  "interpreter": {
   "hash": "2522cab69aef9135531abc74cfe3f2456cb406a72442e0865122b8d4f66eb9dc"
  },
  "kernelspec": {
   "display_name": "Python 3.9.12 ('base')",
   "language": "python",
   "name": "python3"
  },
  "language_info": {
   "codemirror_mode": {
    "name": "ipython",
    "version": 3
   },
   "file_extension": ".py",
   "mimetype": "text/x-python",
   "name": "python",
   "nbconvert_exporter": "python",
   "pygments_lexer": "ipython3",
   "version": "3.9.12"
  },
  "orig_nbformat": 4
 },
 "nbformat": 4,
 "nbformat_minor": 2
}
