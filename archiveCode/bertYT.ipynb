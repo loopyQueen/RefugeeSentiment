{
 "cells": [
  {
   "cell_type": "markdown",
   "metadata": {},
   "source": [
    "Copyright (c) <2022>, <Regina Nockerts>\n",
    "All rights reserved.\n",
    "\n",
    "This source code is licensed under the BSD-style license found in the\n",
    "LICENSE file in the root directory of this source tree. \n",
    "\n",
    "Thanks to: \n",
    "* https://www.youtube.com/watch?v=szczpgOEdXs\n",
    "* https://www.youtube.com/watch?v=Osj0Z6rwJB4\n",
    "* https://colab.research.google.com/drive/1PHv-IRLPCtv7oTcIGbsgZHqrB5LPvB7S#scrollTo=IagGoafKLUwW"
   ]
  },
  {
   "cell_type": "markdown",
   "metadata": {},
   "source": [
    "# Setup the Model #"
   ]
  },
  {
   "cell_type": "code",
   "execution_count": 1,
   "metadata": {},
   "outputs": [
    {
     "data": {
      "text/plain": [
       "device(type='cuda', index=0)"
      ]
     },
     "execution_count": 1,
     "metadata": {},
     "output_type": "execute_result"
    }
   ],
   "source": [
    "import copy\n",
    "import pandas as pd\n",
    "import numpy as np\n",
    "from tqdm import tqdm\n",
    "from collections import defaultdict\n",
    "from textwrap import wrap\n",
    "\n",
    "from sklearn.model_selection import train_test_split\n",
    "from sklearn.metrics import confusion_matrix, classification_report\n",
    "\n",
    "import transformers\n",
    "#from transformers import AutoTokenizer, AutoModelForSequenceClassification\n",
    "from transformers import BertModel, AdamW, get_linear_schedule_with_warmup\n",
    "from transformers import BertForSequenceClassification, BertTokenizer\n",
    "\n",
    "import torch\n",
    "from torch import nn, optim\n",
    "from torch.utils.data import Dataset, DataLoader\n",
    "\n",
    "from pylab import rcParams\n",
    "import seaborn as sns\n",
    "import matplotlib.pyplot as plt\n",
    "from matplotlib import rc\n",
    "%matplotlib inline\n",
    "plt.style.use('fivethirtyeight')\n",
    "sns.set(style='whitegrid', palette='muted', font_scale=1.2)\n",
    "my_plot_colors = ['darkviolet','tomato', 'teal']\n",
    "happy_colors = [\"#01BEFE\", \"#FFDD00\", \"#FF7D00\", \"#FF006D\", \"#ADFF02\", \"#8F00FF\"]\n",
    "sns.set_palette(sns.color_palette(happy_colors))\n",
    "\n",
    "my_seed = 42\n",
    "np.random.seed(my_seed)\n",
    "torch.manual_seed(my_seed)\n",
    "\n",
    "device = torch.device(\"cuda:0\" if torch.cuda.is_available() else \"cpu\")\n",
    "device"
   ]
  },
  {
   "cell_type": "markdown",
   "metadata": {},
   "source": [
    "# --------------- CAN be Skipped ---------------\n"
   ]
  },
  {
   "cell_type": "code",
   "execution_count": 67,
   "metadata": {},
   "outputs": [
    {
     "name": "stderr",
     "output_type": "stream",
     "text": [
      "Some weights of the model checkpoint at bert-base-cased were not used when initializing BertForSequenceClassification: ['cls.predictions.decoder.weight', 'cls.predictions.transform.dense.weight', 'cls.predictions.bias', 'cls.predictions.transform.LayerNorm.bias', 'cls.predictions.transform.LayerNorm.weight', 'cls.seq_relationship.bias', 'cls.predictions.transform.dense.bias', 'cls.seq_relationship.weight']\n",
      "- This IS expected if you are initializing BertForSequenceClassification from the checkpoint of a model trained on another task or with another architecture (e.g. initializing a BertForSequenceClassification model from a BertForPreTraining model).\n",
      "- This IS NOT expected if you are initializing BertForSequenceClassification from the checkpoint of a model that you expect to be exactly identical (initializing a BertForSequenceClassification model from a BertForSequenceClassification model).\n",
      "Some weights of BertForSequenceClassification were not initialized from the model checkpoint at bert-base-cased and are newly initialized: ['classifier.bias', 'classifier.weight']\n",
      "You should probably TRAIN this model on a down-stream task to be able to use it for predictions and inference.\n"
     ]
    }
   ],
   "source": [
    "# tokenizer = AutoTokenizer.from_pretrained('nlptown/bert-base-multilingual-uncased-sentiment')\n",
    "# model = AutoModelForSequenceClassification.from_pretrained('nlptown/bert-base-multilingual-uncased-sentiment')\n",
    "\n",
    "model = BertForSequenceClassification.from_pretrained(\"bert-base-cased\")\n",
    "tokenizer = BertTokenizer.from_pretrained(\"bert-base-cased\")"
   ]
  },
  {
   "cell_type": "markdown",
   "metadata": {},
   "source": [
    "# Run an Initial Test #\n",
    "## tokenization"
   ]
  },
  {
   "cell_type": "code",
   "execution_count": 68,
   "metadata": {},
   "outputs": [],
   "source": [
    "tokens = tokenizer.encode(\"I haaaaaaated this, absolutely the WORST. 🙄\", return_tensors='pt')"
   ]
  },
  {
   "cell_type": "code",
   "execution_count": 69,
   "metadata": {},
   "outputs": [
    {
     "data": {
      "text/plain": [
       "tensor([  101,   146,  5871, 22118, 22118, 22118,  1906,  1142,   117,  7284,\n",
       "         1103,   160,  9565,  9272,   119,   100,   102])"
      ]
     },
     "execution_count": 69,
     "metadata": {},
     "output_type": "execute_result"
    }
   ],
   "source": [
    "tokens[0]"
   ]
  },
  {
   "cell_type": "code",
   "execution_count": 75,
   "metadata": {},
   "outputs": [
    {
     "data": {
      "text/plain": [
       "'[CLS] I haaaaaaated this, absolutely the WORST. [UNK] [SEP]'"
      ]
     },
     "execution_count": 75,
     "metadata": {},
     "output_type": "execute_result"
    }
   ],
   "source": [
    "tokenizer.decode(tokens[0])\n"
   ]
  },
  {
   "cell_type": "code",
   "execution_count": 5,
   "metadata": {},
   "outputs": [
    {
     "name": "stdout",
     "output_type": "stream",
     "text": [
      "dict_keys(['input_ids', 'attention_mask'])\n"
     ]
    },
    {
     "name": "stderr",
     "output_type": "stream",
     "text": [
      "c:\\Users\\rnocker\\Anaconda3\\lib\\site-packages\\transformers\\tokenization_utils_base.py:2285: FutureWarning: The `pad_to_max_length` argument is deprecated and will be removed in a future version, use `padding=True` or `padding='longest'` to pad to the longest sequence in the batch, or use `padding='max_length'` to pad to a max length. In this case, you can give a specific length with `max_length` (e.g. `max_length=45`) or leave max_length to None to pad to the maximal input size of the model (e.g. 512 for Bert).\n",
      "  warnings.warn(\n"
     ]
    },
    {
     "data": {
      "text/plain": [
       "{'input_ids': tensor([[  101,   178,   145, 13821,  2036,  1142,   102,     0,     0,     0,\n",
       "             0,     0,     0,     0,     0,     0,     0,     0,     0,     0,\n",
       "             0,     0,     0,     0,     0,     0,     0,     0,     0,     0,\n",
       "             0,     0]]), 'attention_mask': tensor([[1, 1, 1, 1, 1, 1, 1, 0, 0, 0, 0, 0, 0, 0, 0, 0, 0, 0, 0, 0, 0, 0, 0, 0,\n",
       "         0, 0, 0, 0, 0, 0, 0, 0]])}"
      ]
     },
     "execution_count": 5,
     "metadata": {},
     "output_type": "execute_result"
    }
   ],
   "source": [
    "sample_txt = \"i HATE this\"\n",
    "encoding = tokenizer.encode_plus(\n",
    "  sample_txt,\n",
    "#  truncation=True,\n",
    "  add_special_tokens=True, # Add '[CLS]' and '[SEP]'\n",
    "\n",
    "  max_length=32,\n",
    "  pad_to_max_length = True,\n",
    "#  padding='max_length',\n",
    "#  padding='longest',\n",
    "\n",
    "  return_token_type_ids=False,\n",
    "  return_attention_mask=True,\n",
    "  return_tensors='pt')  # Return PyTorch tensors\n",
    "print(encoding.keys())\n",
    "encoding"
   ]
  },
  {
   "cell_type": "code",
   "execution_count": null,
   "metadata": {},
   "outputs": [],
   "source": [
    "# Returns dictionary with \"input_ids\" and \"attention mask\"\n",
    "def my_encoder (text):\n",
    "    encoding = tokenizer.encode_plus(\n",
    "        text,\n",
    "        truncation=True,\n",
    "        add_special_tokens=True, # Add '[CLS]' and '[SEP]'\n",
    "        max_length=81,\n",
    "        pad_to_max_length=True,\n",
    "        # padding='max_length',\n",
    "        # padding='longest',\n",
    "        return_attention_mask=True,\n",
    "        return_token_type_ids=False,\n",
    "        return_tensors='pt')  # Return PyTorch tensors\n",
    "    return encoding\n",
    "\n",
    "sample_txt = \"i HATE this\"\n",
    "my_encoder(sample_txt)"
   ]
  },
  {
   "cell_type": "code",
   "execution_count": null,
   "metadata": {},
   "outputs": [],
   "source": [
    "tokenizer.convert_ids_to_tokens(encoding['input_ids'][0])"
   ]
  },
  {
   "cell_type": "markdown",
   "metadata": {},
   "source": [
    "### Understanding the tokenization\n",
    "Note that the tokenizer takes care of capitalization and handels (keeps) punctuation - which is good. But it does not recognize emojis (codes them as unknown and can not decode) and certain intentional misspellings (for emphasis, eg. \"haaaaaaate\"). \n",
    "\n",
    "The tokenizer also insertes the special codes needed for BERT, including padding.\n",
    "\n",
    "## model"
   ]
  },
  {
   "cell_type": "code",
   "execution_count": 20,
   "metadata": {},
   "outputs": [],
   "source": [
    "result = model(tokens)"
   ]
  },
  {
   "cell_type": "code",
   "execution_count": 21,
   "metadata": {},
   "outputs": [
    {
     "name": "stdout",
     "output_type": "stream",
     "text": [
      "SequenceClassifierOutput(loss=None, logits=tensor([[ 0.0435,  0.0999, -0.1842]], grad_fn=<AddmmBackward0>), hidden_states=None, attentions=None)\n",
      "tensor([[ 0.0435,  0.0999, -0.1842]], grad_fn=<AddmmBackward0>)\n",
      "tensor(1)\n"
     ]
    }
   ],
   "source": [
    "print(result)\n",
    "print(result.logits)\n",
    "print(torch.argmax(result.logits))"
   ]
  },
  {
   "cell_type": "markdown",
   "metadata": {},
   "source": [
    "### Understanding the model results\n",
    "logits=tensor([[ 4.8750,  1.7880, -0.8356, -3.0027, -2.0727]], ...)\n",
    "\n",
    "For nlptown/bert-base-multilingual-uncased-sentiment:\n",
    "* Remember that this model assumes/represents a 5-star rating system, so it gives the probability that the review is one-, two-, three-, four-, or five-star review. \"The output from the model is a one-hot encoded list of scores. The position with the highest score represents the sentiment rating.\"\n",
    "* So, the model gives the highest score (4.8750) at the 0 index, thus predicting a one-star review. \n",
    "\n",
    "For bert-base-un/cased, it gives the probability in each of the number of labels you set."
   ]
  },
  {
   "cell_type": "code",
   "execution_count": 23,
   "metadata": {},
   "outputs": [
    {
     "data": {
      "text/plain": [
       "1"
      ]
     },
     "execution_count": 23,
     "metadata": {},
     "output_type": "execute_result"
    }
   ],
   "source": [
    "int(torch.argmax(result.logits))"
   ]
  },
  {
   "cell_type": "markdown",
   "metadata": {},
   "source": [
    "## load some test data in project format"
   ]
  },
  {
   "cell_type": "code",
   "execution_count": 171,
   "metadata": {},
   "outputs": [
    {
     "data": {
      "text/html": [
       "<div>\n",
       "<style scoped>\n",
       "    .dataframe tbody tr th:only-of-type {\n",
       "        vertical-align: middle;\n",
       "    }\n",
       "\n",
       "    .dataframe tbody tr th {\n",
       "        vertical-align: top;\n",
       "    }\n",
       "\n",
       "    .dataframe thead th {\n",
       "        text-align: right;\n",
       "    }\n",
       "</style>\n",
       "<table border=\"1\" class=\"dataframe\">\n",
       "  <thead>\n",
       "    <tr style=\"text-align: right;\">\n",
       "      <th></th>\n",
       "      <th>id_stable</th>\n",
       "      <th>ContentClean</th>\n",
       "    </tr>\n",
       "  </thead>\n",
       "  <tbody>\n",
       "    <tr>\n",
       "      <th>0</th>\n",
       "      <td>13340</td>\n",
       "      <td>Yeah I mean I think squeezing the Afghan peopl...</td>\n",
       "    </tr>\n",
       "    <tr>\n",
       "      <th>1</th>\n",
       "      <td>20675</td>\n",
       "      <td>How sweet and this poor little one looks to be...</td>\n",
       "    </tr>\n",
       "    <tr>\n",
       "      <th>2</th>\n",
       "      <td>63713</td>\n",
       "      <td>Biden's vetted Afghanistan refugees are commit...</td>\n",
       "    </tr>\n",
       "    <tr>\n",
       "      <th>3</th>\n",
       "      <td>70672</td>\n",
       "      <td>You're talking about Trump who: • Surrendered ...</td>\n",
       "    </tr>\n",
       "    <tr>\n",
       "      <th>4</th>\n",
       "      <td>50394</td>\n",
       "      <td>How can Canada best deliver on its commitment ...</td>\n",
       "    </tr>\n",
       "  </tbody>\n",
       "</table>\n",
       "</div>"
      ],
      "text/plain": [
       "   id_stable                                       ContentClean\n",
       "0      13340  Yeah I mean I think squeezing the Afghan peopl...\n",
       "1      20675  How sweet and this poor little one looks to be...\n",
       "2      63713  Biden's vetted Afghanistan refugees are commit...\n",
       "3      70672  You're talking about Trump who: • Surrendered ...\n",
       "4      50394  How can Canada best deliver on its commitment ..."
      ]
     },
     "execution_count": 171,
     "metadata": {},
     "output_type": "execute_result"
    }
   ],
   "source": [
    "test2 = pd.read_csv(\"x_train_bert.csv\", header=0, index_col=0)\n",
    "test2.reset_index(inplace=True, drop=True)\n",
    "test2.head()\n",
    "\n",
    "# NOTE: May need to remove special characters"
   ]
  },
  {
   "cell_type": "markdown",
   "metadata": {},
   "source": [
    "## create a function to get the score"
   ]
  },
  {
   "cell_type": "markdown",
   "metadata": {},
   "source": [
    "Note that:\n",
    "* 'nlptown/bert-base-multilingual-uncased-sentiment': scale of 0 to 4\n",
    "* 'bert-base-uncased': scale of 1 to 2"
   ]
  },
  {
   "cell_type": "code",
   "execution_count": 79,
   "metadata": {},
   "outputs": [
    {
     "name": "stderr",
     "output_type": "stream",
     "text": [
      "Some weights of the model checkpoint at bert-base-cased were not used when initializing BertForSequenceClassification: ['cls.predictions.decoder.weight', 'cls.predictions.transform.dense.weight', 'cls.predictions.bias', 'cls.predictions.transform.LayerNorm.bias', 'cls.predictions.transform.LayerNorm.weight', 'cls.seq_relationship.bias', 'cls.predictions.transform.dense.bias', 'cls.seq_relationship.weight']\n",
      "- This IS expected if you are initializing BertForSequenceClassification from the checkpoint of a model trained on another task or with another architecture (e.g. initializing a BertForSequenceClassification model from a BertForPreTraining model).\n",
      "- This IS NOT expected if you are initializing BertForSequenceClassification from the checkpoint of a model that you expect to be exactly identical (initializing a BertForSequenceClassification model from a BertForSequenceClassification model).\n",
      "Some weights of BertForSequenceClassification were not initialized from the model checkpoint at bert-base-cased and are newly initialized: ['classifier.bias', 'classifier.weight']\n",
      "You should probably TRAIN this model on a down-stream task to be able to use it for predictions and inference.\n"
     ]
    },
    {
     "name": "stdout",
     "output_type": "stream",
     "text": [
      "SequenceClassifierOutput(loss=None, logits=tensor([[0.2266, 0.8074]], grad_fn=<AddmmBackward0>), hidden_states=None, attentions=None)\n",
      "SequenceClassifierOutput(loss=None, logits=tensor([[0.3882, 0.8396]], grad_fn=<AddmmBackward0>), hidden_states=None, attentions=None)\n"
     ]
    }
   ],
   "source": [
    "# 'nlptown/bert-base-multilingual-uncased-sentiment'\n",
    "model = BertForSequenceClassification.from_pretrained(\"bert-base-cased\")\n",
    "tokenizer = BertTokenizer.from_pretrained(\"bert-base-cased\")\n",
    "\n",
    "def score(text):\n",
    "    tokens = tokenizer.encode(text, return_tensors='pt')\n",
    "    result = model(tokens)\n",
    "    return result\n",
    "\n",
    "\n",
    "def sentiment_score(text):\n",
    "    tokens = tokenizer.encode(text, return_tensors='pt')\n",
    "    result = model(tokens)\n",
    "    return result.logits, (int(torch.argmax(result.logits)))"
   ]
  },
  {
   "cell_type": "code",
   "execution_count": 27,
   "metadata": {},
   "outputs": [
    {
     "name": "stdout",
     "output_type": "stream",
     "text": [
      "2\n",
      "2\n",
      "\n",
      "0.14358285069465637 -0.3238496780395508 0.19826778769493103\n",
      "0.10784652829170227 -0.28633183240890503 0.3512628376483917\n"
     ]
    }
   ],
   "source": [
    "example1 = \"I HATED this. Super shitty.\"\n",
    "example2 = \"so wonderful\"\n",
    "a, b = sentiment_score(example1)\n",
    "c, d = sentiment_score(example2)\n",
    "\n",
    "print(b)\n",
    "print(d)\n",
    "print()\n",
    "print(a[0][0].item(), a[0][1].item(), a[0][2].item()) \n",
    "print(c[0][0].item(), c[0][1].item(), c[0][2].item()) \n",
    "# print(sentiment_score(test2.ContentClean.iloc[0]))  # \"Yeah I mean I think squeezing the Afghan people and turning away asylum seekers is terrible but I'm not apoplectic because the president increased the price of milk by 40000%\"\n",
    "# print(len(test2.ContentClean.iloc[0]))\n",
    "# a = tokenizer.encode(test2.ContentClean.iloc[0])\n",
    "# print(len(a))\n",
    "\n",
    "# num_labels for model only: 2\n",
    "# 0.366519957780838 0.43863701820373535 -0.22755415737628937\n",
    "# 0.2927599549293518 0.4305158257484436 -0.33457422256469727\n",
    "\n",
    "# num_labels for model and tokenizer: 3\n",
    "# -0.5821682214736938 -0.11438198387622833 -0.006723061203956604\n",
    "# -0.610467791557312 -0.14131410419940948 0.0883176177740097"
   ]
  },
  {
   "cell_type": "code",
   "execution_count": 32,
   "metadata": {},
   "outputs": [
    {
     "data": {
      "text/html": [
       "<div>\n",
       "<style scoped>\n",
       "    .dataframe tbody tr th:only-of-type {\n",
       "        vertical-align: middle;\n",
       "    }\n",
       "\n",
       "    .dataframe tbody tr th {\n",
       "        vertical-align: top;\n",
       "    }\n",
       "\n",
       "    .dataframe thead th {\n",
       "        text-align: right;\n",
       "    }\n",
       "</style>\n",
       "<table border=\"1\" class=\"dataframe\">\n",
       "  <thead>\n",
       "    <tr style=\"text-align: right;\">\n",
       "      <th></th>\n",
       "      <th>ContentClean</th>\n",
       "    </tr>\n",
       "  </thead>\n",
       "  <tbody>\n",
       "    <tr>\n",
       "      <th>0</th>\n",
       "      <td>Yeah I mean I think squeezing the Afghan peopl...</td>\n",
       "    </tr>\n",
       "  </tbody>\n",
       "</table>\n",
       "</div>"
      ],
      "text/plain": [
       "                                        ContentClean\n",
       "0  Yeah I mean I think squeezing the Afghan peopl..."
      ]
     },
     "execution_count": 32,
     "metadata": {},
     "output_type": "execute_result"
    }
   ],
   "source": [
    "# test2.drop(['sentiment'], inplace = True, axis = 1)\n",
    "# test2.head(1)"
   ]
  },
  {
   "cell_type": "code",
   "execution_count": 53,
   "metadata": {},
   "outputs": [],
   "source": [
    "test2['sentiment'] = test2[\"ContentClean\"].apply(lambda x: sentiment_score(x[:512]))  \n",
    "# limited to 512 tokens per row to be passed. If you need more than that, you would need to do this multiple times and append them together or something"
   ]
  },
  {
   "cell_type": "code",
   "execution_count": 54,
   "metadata": {},
   "outputs": [
    {
     "name": "stdout",
     "output_type": "stream",
     "text": [
      "3    741\n",
      "1      1\n",
      "Name: sentiment, dtype: int64\n"
     ]
    },
    {
     "data": {
      "text/html": [
       "<div>\n",
       "<style scoped>\n",
       "    .dataframe tbody tr th:only-of-type {\n",
       "        vertical-align: middle;\n",
       "    }\n",
       "\n",
       "    .dataframe tbody tr th {\n",
       "        vertical-align: top;\n",
       "    }\n",
       "\n",
       "    .dataframe thead th {\n",
       "        text-align: right;\n",
       "    }\n",
       "</style>\n",
       "<table border=\"1\" class=\"dataframe\">\n",
       "  <thead>\n",
       "    <tr style=\"text-align: right;\">\n",
       "      <th></th>\n",
       "      <th>ContentClean</th>\n",
       "      <th>sentiment</th>\n",
       "    </tr>\n",
       "  </thead>\n",
       "  <tbody>\n",
       "    <tr>\n",
       "      <th>732</th>\n",
       "      <td>This festive season, the Trust has made a dona...</td>\n",
       "      <td>3</td>\n",
       "    </tr>\n",
       "    <tr>\n",
       "      <th>733</th>\n",
       "      <td>O baji thori research krliya kro? Jahan daikha...</td>\n",
       "      <td>3</td>\n",
       "    </tr>\n",
       "    <tr>\n",
       "      <th>734</th>\n",
       "      <td>One of the biggest admissions yesterday during...</td>\n",
       "      <td>3</td>\n",
       "    </tr>\n",
       "    <tr>\n",
       "      <th>735</th>\n",
       "      <td>The problem is we are looking at a refugee cri...</td>\n",
       "      <td>3</td>\n",
       "    </tr>\n",
       "    <tr>\n",
       "      <th>736</th>\n",
       "      <td>I’m not trying to downplay the issue in Afghan...</td>\n",
       "      <td>3</td>\n",
       "    </tr>\n",
       "    <tr>\n",
       "      <th>737</th>\n",
       "      <td>Ok let the questions being. Did the Terrorist ...</td>\n",
       "      <td>3</td>\n",
       "    </tr>\n",
       "    <tr>\n",
       "      <th>738</th>\n",
       "      <td>Sooooooo agree! Now then talk us through Afgha...</td>\n",
       "      <td>3</td>\n",
       "    </tr>\n",
       "    <tr>\n",
       "      <th>739</th>\n",
       "      <td>Today I’m voting to pass the ALLIES Act, which...</td>\n",
       "      <td>3</td>\n",
       "    </tr>\n",
       "    <tr>\n",
       "      <th>740</th>\n",
       "      <td>Man, I know this migrant thing is bad but coul...</td>\n",
       "      <td>3</td>\n",
       "    </tr>\n",
       "    <tr>\n",
       "      <th>741</th>\n",
       "      <td>why is Afghan army clicking pictures of terror...</td>\n",
       "      <td>3</td>\n",
       "    </tr>\n",
       "  </tbody>\n",
       "</table>\n",
       "</div>"
      ],
      "text/plain": [
       "                                          ContentClean  sentiment\n",
       "732  This festive season, the Trust has made a dona...          3\n",
       "733  O baji thori research krliya kro? Jahan daikha...          3\n",
       "734  One of the biggest admissions yesterday during...          3\n",
       "735  The problem is we are looking at a refugee cri...          3\n",
       "736  I’m not trying to downplay the issue in Afghan...          3\n",
       "737  Ok let the questions being. Did the Terrorist ...          3\n",
       "738  Sooooooo agree! Now then talk us through Afgha...          3\n",
       "739  Today I’m voting to pass the ALLIES Act, which...          3\n",
       "740  Man, I know this migrant thing is bad but coul...          3\n",
       "741  why is Afghan army clicking pictures of terror...          3"
      ]
     },
     "execution_count": 54,
     "metadata": {},
     "output_type": "execute_result"
    }
   ],
   "source": [
    "print(test2['sentiment'].value_counts())\n",
    "test2.tail(10)  # 1 1 1 1 5 1 1 5 4 1 1 1"
   ]
  },
  {
   "cell_type": "code",
   "execution_count": 50,
   "metadata": {},
   "outputs": [
    {
     "data": {
      "text/plain": [
       "'Today I’m voting to pass the ALLIES Act, which will protect the lives of those who served alongside American troops in Afghanistan by expanding and strengthening the Special Immigrant Visa program. #TakeThemToo'"
      ]
     },
     "execution_count": 50,
     "metadata": {},
     "output_type": "execute_result"
    }
   ],
   "source": [
    "test2[\"ContentClean\"].iloc[739]"
   ]
  },
  {
   "cell_type": "markdown",
   "metadata": {},
   "source": [
    "The BERT base un/cased is not working as I had hoped. I'm getting all 1s. Not sure why.\n",
    "\n",
    "# --------------- Can start from HERE ---------------\n",
    "# Encode for Tuning\n",
    "### choose model and tokenizer"
   ]
  },
  {
   "cell_type": "code",
   "execution_count": 2,
   "metadata": {},
   "outputs": [
    {
     "name": "stderr",
     "output_type": "stream",
     "text": [
      "Some weights of the model checkpoint at bert-base-cased were not used when initializing BertModel: ['cls.predictions.decoder.weight', 'cls.predictions.transform.dense.weight', 'cls.predictions.bias', 'cls.predictions.transform.LayerNorm.bias', 'cls.predictions.transform.LayerNorm.weight', 'cls.seq_relationship.bias', 'cls.predictions.transform.dense.bias', 'cls.seq_relationship.weight']\n",
      "- This IS expected if you are initializing BertModel from the checkpoint of a model trained on another task or with another architecture (e.g. initializing a BertForSequenceClassification model from a BertForPreTraining model).\n",
      "- This IS NOT expected if you are initializing BertModel from the checkpoint of a model that you expect to be exactly identical (initializing a BertForSequenceClassification model from a BertForSequenceClassification model).\n"
     ]
    }
   ],
   "source": [
    "mod_name = \"bert-base-cased\"\n",
    "# model = BertForSequenceClassification.from_pretrained(mod_name)\n",
    "model = BertModel.from_pretrained(mod_name)\n",
    "tokenizer = BertTokenizer.from_pretrained(mod_name)"
   ]
  },
  {
   "cell_type": "markdown",
   "metadata": {},
   "source": [
    "### load the data"
   ]
  },
  {
   "cell_type": "code",
   "execution_count": 3,
   "metadata": {},
   "outputs": [
    {
     "data": {
      "text/html": [
       "<div>\n",
       "<style scoped>\n",
       "    .dataframe tbody tr th:only-of-type {\n",
       "        vertical-align: middle;\n",
       "    }\n",
       "\n",
       "    .dataframe tbody tr th {\n",
       "        vertical-align: top;\n",
       "    }\n",
       "\n",
       "    .dataframe thead th {\n",
       "        text-align: right;\n",
       "    }\n",
       "</style>\n",
       "<table border=\"1\" class=\"dataframe\">\n",
       "  <thead>\n",
       "    <tr style=\"text-align: right;\">\n",
       "      <th></th>\n",
       "      <th>id_stable</th>\n",
       "      <th>ContentClean</th>\n",
       "      <th>label_sent</th>\n",
       "      <th>y_bert</th>\n",
       "    </tr>\n",
       "  </thead>\n",
       "  <tbody>\n",
       "    <tr>\n",
       "      <th>0</th>\n",
       "      <td>170314</td>\n",
       "      <td>Per a White House official: Biden and Harris m...</td>\n",
       "      <td>neutral</td>\n",
       "      <td>1</td>\n",
       "    </tr>\n",
       "    <tr>\n",
       "      <th>1</th>\n",
       "      <td>192623</td>\n",
       "      <td>Afghan Refugee kid educated in Iran wins this ...</td>\n",
       "      <td>happy</td>\n",
       "      <td>2</td>\n",
       "    </tr>\n",
       "    <tr>\n",
       "      <th>2</th>\n",
       "      <td>106982</td>\n",
       "      <td>Not only did Trump stop processing asylum &amp; re...</td>\n",
       "      <td>disgust</td>\n",
       "      <td>0</td>\n",
       "    </tr>\n",
       "    <tr>\n",
       "      <th>3</th>\n",
       "      <td>31609</td>\n",
       "      <td>An Afghan refugee demands the US not forget he...</td>\n",
       "      <td>plea - disgust</td>\n",
       "      <td>0</td>\n",
       "    </tr>\n",
       "    <tr>\n",
       "      <th>4</th>\n",
       "      <td>152666</td>\n",
       "      <td>One moment you hate refugees and the next you ...</td>\n",
       "      <td>hopeful</td>\n",
       "      <td>2</td>\n",
       "    </tr>\n",
       "  </tbody>\n",
       "</table>\n",
       "</div>"
      ],
      "text/plain": [
       "   id_stable                                       ContentClean  \\\n",
       "0     170314  Per a White House official: Biden and Harris m...   \n",
       "1     192623  Afghan Refugee kid educated in Iran wins this ...   \n",
       "2     106982  Not only did Trump stop processing asylum & re...   \n",
       "3      31609  An Afghan refugee demands the US not forget he...   \n",
       "4     152666  One moment you hate refugees and the next you ...   \n",
       "\n",
       "       label_sent  y_bert  \n",
       "0         neutral       1  \n",
       "1           happy       2  \n",
       "2         disgust       0  \n",
       "3  plea - disgust       0  \n",
       "4         hopeful       2  "
      ]
     },
     "execution_count": 3,
     "metadata": {},
     "output_type": "execute_result"
    }
   ],
   "source": [
    "tweets_data = pd.read_csv(\"tweets_data_bert.csv\", header=0, index_col=0)\n",
    "tweets_data.drop(\"y_sent\", inplace=True, axis=1)\n",
    "tweets_data.head()"
   ]
  },
  {
   "cell_type": "code",
   "execution_count": 4,
   "metadata": {},
   "outputs": [
    {
     "name": "stdout",
     "output_type": "stream",
     "text": [
      "<class 'pandas.core.frame.DataFrame'>\n",
      "Int64Index: 1211 entries, 0 to 1210\n",
      "Data columns (total 4 columns):\n",
      " #   Column        Non-Null Count  Dtype \n",
      "---  ------        --------------  ----- \n",
      " 0   id_stable     1211 non-null   int64 \n",
      " 1   ContentClean  1211 non-null   object\n",
      " 2   label_sent    1211 non-null   object\n",
      " 3   y_bert        1211 non-null   int64 \n",
      "dtypes: int64(2), object(2)\n",
      "memory usage: 47.3+ KB\n",
      "None\n"
     ]
    },
    {
     "data": {
      "text/plain": [
       "\"One moment you hate refugees and the next you beg for them. Or is it that you don't like Latino? Frustrated with Biden, evangelical leaders are tightening the screws, calling resettlement of Afghan refugees a 'moral urgency'\""
      ]
     },
     "execution_count": 4,
     "metadata": {},
     "output_type": "execute_result"
    }
   ],
   "source": [
    "print(tweets_data.info())\n",
    "tweets_data.ContentClean.iloc[4]"
   ]
  },
  {
   "cell_type": "markdown",
   "metadata": {},
   "source": [
    "### Find the number of tokens needed\n",
    "BERT needs all rows to have the same number of tokens, so will truncate or pad to the desired cutoff. So we need to find the right number. \n",
    "\n",
    "More tokens = longer to train. Fewer tokens = lost information."
   ]
  },
  {
   "cell_type": "code",
   "execution_count": 5,
   "metadata": {},
   "outputs": [],
   "source": [
    "token_lens = []\n",
    "for text in tweets_data.ContentClean:\n",
    "    tokens = tokenizer.encode(text, max_length=512, truncation=True)\n",
    "    token_lens.append(len(tokens))"
   ]
  },
  {
   "cell_type": "code",
   "execution_count": 6,
   "metadata": {},
   "outputs": [
    {
     "data": {
      "text/plain": [
       "Text(0.2, 0.95, 'Max number of tokens: 141')"
      ]
     },
     "execution_count": 6,
     "metadata": {},
     "output_type": "execute_result"
    },
    {
     "data": {
      "image/png": "[encoded data removed]",
      "text/plain": [
       "<Figure size 360x360 with 1 Axes>"
      ]
     },
     "metadata": {},
     "output_type": "display_data"
    }
   ],
   "source": [
    "sns.displot(token_lens);\n",
    "plt.figtext(.2, .95, \"Max number of tokens: {}\".format(max(token_lens)))"
   ]
  },
  {
   "cell_type": "markdown",
   "metadata": {},
   "source": [
    "NOTE that this will be different with different tokenizer models.\n",
    "\n",
    "bert-base-cased:\n",
    "* I think we can pretty comfortably cut it off at 100. We can go up to 141 in the end if it doesn't take too long to train.\n",
    "\n",
    "bert-base-uncased:\n",
    "* Cut off at 81"
   ]
  },
  {
   "cell_type": "markdown",
   "metadata": {},
   "source": [
    "### Some necessary functions\n",
    "Extends the torchData dataset with a class."
   ]
  },
  {
   "cell_type": "code",
   "execution_count": 7,
   "metadata": {},
   "outputs": [],
   "source": [
    "class myDataset(Dataset): # class myDataset(data.Dataset):  #class GPReviewDataset(Dataset):\n",
    "    # Constructor\n",
    "    def __init__(self, tweets, targets, tokenizer, max_len):\n",
    "        self.tweets = tweets\n",
    "        self.targets = targets\n",
    "        self.tokenizer = tokenizer\n",
    "        self.max_len = max_len\n",
    "\n",
    "    # length method\n",
    "    def __len__(self):\n",
    "        return len(self.tweets)\n",
    "    \n",
    "    # get item method\n",
    "    def __getitem__(self, item):\n",
    "        tweet = str(self.tweets[item])\n",
    "        target = self.targets[item]\n",
    "\n",
    "        encoding = self.tokenizer.encode_plus(\n",
    "            tweet,\n",
    "            add_special_tokens=True, # Add '[CLS]' and '[SEP]'\n",
    "\n",
    "            max_length = self.max_len,\n",
    "            pad_to_max_length = True,\n",
    "#            padding='max_length',\n",
    "#            truncation=True,\n",
    "#            padding='longest',\n",
    "\n",
    "            return_attention_mask=True,\n",
    "            return_token_type_ids=False,\n",
    "            return_tensors='pt')  # Return PyTorch tensors\n",
    "        \n",
    "        return {\n",
    "            'tweet_text': tweet,\n",
    "            'input_ids': encoding['input_ids'].flatten(),\n",
    "            'attention_mask': encoding['attention_mask'].flatten(),\n",
    "            'targets': torch.tensor(target, dtype = torch.long)\n",
    "        }"
   ]
  },
  {
   "cell_type": "code",
   "execution_count": 8,
   "metadata": {},
   "outputs": [],
   "source": [
    "### SET CONSTANTS ###\n",
    "max_len = 100\n",
    "batch_size = 8\n",
    "epochs = 50"
   ]
  },
  {
   "cell_type": "code",
   "execution_count": 9,
   "metadata": {},
   "outputs": [],
   "source": [
    "def create_data_loader(df, tokenizer, max_len, batch_size):\n",
    "    ds = myDataset(\n",
    "        tweets = df.ContentClean.to_numpy(),\n",
    "        targets = df.y_bert.to_numpy(),  #should y_bert be something else? sentiment?\n",
    "        tokenizer = tokenizer,\n",
    "        max_len = max_len\n",
    "    )\n",
    "    return DataLoader(\n",
    "        ds,\n",
    "        batch_size=batch_size,\n",
    "        num_workers=0    # May need to change this for my personal machine.\n",
    "    )"
   ]
  },
  {
   "cell_type": "markdown",
   "metadata": {},
   "source": [
    "# Divide into train and test sets\n",
    "Keep stratification of train and validation sets\n",
    "\n",
    "### -------------- BOOKMARK -------------\n",
    "I would like to try to figure out how to do this with k-fold cross validaton"
   ]
  },
  {
   "cell_type": "code",
   "execution_count": 10,
   "metadata": {},
   "outputs": [],
   "source": [
    "data_train, data_test = train_test_split(tweets_data, test_size = 0.3, random_state = my_seed, stratify = tweets_data.y_bert.values)\n",
    "data_val, data_test = train_test_split(data_test, test_size = 0.5, random_state = my_seed, stratify = data_test.y_bert.values)"
   ]
  },
  {
   "cell_type": "code",
   "execution_count": 11,
   "metadata": {},
   "outputs": [
    {
     "name": "stdout",
     "output_type": "stream",
     "text": [
      "0    512\n",
      "1    178\n",
      "2    157\n",
      "Name: y_bert, dtype: int64\n",
      "0    110\n",
      "1     38\n",
      "2     34\n",
      "Name: y_bert, dtype: int64\n",
      "0    110\n",
      "1     39\n",
      "2     33\n",
      "Name: y_bert, dtype: int64\n"
     ]
    },
    {
     "name": "stderr",
     "output_type": "stream",
     "text": [
      "C:\\Users\\rnocker\\AppData\\Local\\Temp\\ipykernel_5320\\4166038508.py:20: UserWarning: Matplotlib is currently using module://matplotlib_inline.backend_inline, which is a non-GUI backend, so cannot show the figure.\n",
      "  fig.show()\n"
     ]
    },
    {
     "data": {
      "image/png": "[encoded data removed]",
      "text/plain": [
       "<Figure size 432x288 with 3 Axes>"
      ]
     },
     "metadata": {},
     "output_type": "display_data"
    }
   ],
   "source": [
    "print(data_train[\"y_bert\"].value_counts())\n",
    "print(data_val[\"y_bert\"].value_counts())\n",
    "print(data_test[\"y_bert\"].value_counts())\n",
    "\n",
    "#plt.figure(figsize=(4, 18))\n",
    "\n",
    "fig, ax =plt.subplots(1,3)\n",
    "sns.countplot(x=data_train[\"y_bert\"], palette=my_plot_colors, ax=ax[0]).set_xticklabels([\"neg\", \"neutral\", \"pos\"])\n",
    "ax[0].set_title('Class Distribution, \\n training data')\n",
    "ax[0].set_xlabel('Classes')\n",
    "\n",
    "sns.countplot(x=data_val[\"y_bert\"], palette=my_plot_colors, ax=ax[1], ).set_xticklabels([\"neg\", \"neutral\", \"pos\"])\n",
    "ax[1].set_title('Class Distribution, \\n validation data')\n",
    "ax[1].set_xlabel('Classes')\n",
    "\n",
    "sns.countplot(x=data_test[\"y_bert\"], palette=my_plot_colors, ax=ax[2], ).set_xticklabels([\"neg\", \"neutral\", \"pos\"])\n",
    "ax[2].set_title('Class Distribution, \\n test data')\n",
    "ax[2].set_xlabel('Classes')\n",
    "\n",
    "fig.show()"
   ]
  },
  {
   "cell_type": "markdown",
   "metadata": {},
   "source": [
    "## load the data\n",
    "with the data loader created above"
   ]
  },
  {
   "cell_type": "code",
   "execution_count": 12,
   "metadata": {},
   "outputs": [],
   "source": [
    "train_data_loader = create_data_loader(data_train, tokenizer, max_len, batch_size)\n",
    "val_data_loader = create_data_loader(data_val, tokenizer, max_len, batch_size)\n",
    "test_data_loader = create_data_loader(data_test, tokenizer, max_len, batch_size)"
   ]
  },
  {
   "cell_type": "markdown",
   "metadata": {},
   "source": [
    "## testing to see how it works"
   ]
  },
  {
   "cell_type": "code",
   "execution_count": 13,
   "metadata": {},
   "outputs": [
    {
     "name": "stderr",
     "output_type": "stream",
     "text": [
      "Truncation was not explicitly activated but `max_length` is provided a specific value, please use `truncation=True` to explicitly truncate examples to max length. Defaulting to 'longest_first' truncation strategy. If you encode pairs of sequences (GLUE-style) with the tokenizer you can select this strategy more precisely by providing a specific strategy to `truncation`.\n",
      "c:\\Users\\rnocker\\Anaconda3\\lib\\site-packages\\transformers\\tokenization_utils_base.py:2285: FutureWarning: The `pad_to_max_length` argument is deprecated and will be removed in a future version, use `padding=True` or `padding='longest'` to pad to the longest sequence in the batch, or use `padding='max_length'` to pad to a max length. In this case, you can give a specific length with `max_length` (e.g. `max_length=45`) or leave max_length to None to pad to the maximal input size of the model (e.g. 512 for Bert).\n",
      "  warnings.warn(\n"
     ]
    },
    {
     "data": {
      "text/plain": [
       "dict_keys(['tweet_text', 'input_ids', 'attention_mask', 'targets'])"
      ]
     },
     "execution_count": 13,
     "metadata": {},
     "output_type": "execute_result"
    }
   ],
   "source": [
    "data = next(iter(train_data_loader))\n",
    "data.keys()"
   ]
  },
  {
   "cell_type": "code",
   "execution_count": 14,
   "metadata": {},
   "outputs": [
    {
     "name": "stdout",
     "output_type": "stream",
     "text": [
      "torch.Size([4, 100])\n"
     ]
    }
   ],
   "source": [
    "print(data['input_ids'].shape) # Should get 8 (batch size) with 1 feature and 100 tokens."
   ]
  },
  {
   "cell_type": "markdown",
   "metadata": {},
   "source": [
    "# Using the BERT model \n",
    "## testing"
   ]
  },
  {
   "cell_type": "code",
   "execution_count": 15,
   "metadata": {},
   "outputs": [],
   "source": [
    "sample_txt = \"Why does it keep raining outside EVERY day?\"\n",
    "encoding = tokenizer.encode_plus(\n",
    "  sample_txt,\n",
    "  max_length = 32,\n",
    "  add_special_tokens = True, # Add '[CLS]' and '[SEP]'\n",
    "  return_token_type_ids = False,\n",
    "  #pad_to_max_length = True,\n",
    "  padding = 'longest',\n",
    "  return_attention_mask = True,\n",
    "  return_tensors = 'pt',  # Return PyTorch tensors\n",
    ")"
   ]
  },
  {
   "cell_type": "code",
   "execution_count": 16,
   "metadata": {},
   "outputs": [],
   "source": [
    "# # NOTE: do not run this twice.\n",
    "# output = model(\n",
    "#     input_ids = encoding['input_ids'],\n",
    "#     attention_mask = encoding['attention_mask']\n",
    "# )"
   ]
  },
  {
   "cell_type": "code",
   "execution_count": 19,
   "metadata": {},
   "outputs": [
    {
     "name": "stdout",
     "output_type": "stream",
     "text": [
      "torch.Size([1, 768])\n",
      "torch.Size([1, 15, 768])\n"
     ]
    }
   ],
   "source": [
    "# print(output.pooler_output.shape)\n",
    "# print(output.last_hidden_state.shape)"
   ]
  },
  {
   "cell_type": "code",
   "execution_count": 18,
   "metadata": {},
   "outputs": [
    {
     "data": {
      "text/plain": [
       "768"
      ]
     },
     "execution_count": 18,
     "metadata": {},
     "output_type": "execute_result"
    }
   ],
   "source": [
    "# model.config.hidden_size"
   ]
  },
  {
   "cell_type": "markdown",
   "metadata": {},
   "source": [
    "## build the sentiment classifier\n"
   ]
  },
  {
   "cell_type": "code",
   "execution_count": 16,
   "metadata": {},
   "outputs": [],
   "source": [
    "\n",
    "# set the number of classes\n",
    "# feed the data to the model\n",
    "# apply drop-out for regularization\n",
    "# append a fully-connected output layer\n",
    "# cross-entropy loss function on the output\n",
    "\n",
    "class SentimentClassifier(nn.Module):\n",
    "    # constructor\n",
    "    def __init__(self, n_classes):\n",
    "        super(SentimentClassifier, self).__init__()\n",
    "        self.bert = BertModel.from_pretrained(mod_name, return_dict = False)\n",
    "        self.drop = nn.Dropout(p=0.3)  # probability of dropout: 0.3\n",
    "        self.out = nn.Linear(self.bert.config.hidden_size, n_classes)  \n",
    "            # number of hidden units in the model - uses the model config so that you could use the \n",
    "            # same implementation to run the full model\n",
    "\n",
    "    def forward(self, input_ids, attention_mask):\n",
    "        _, pooled_output = self.bert(\n",
    "        input_ids=input_ids,\n",
    "        attention_mask=attention_mask\n",
    "        )\n",
    "        output = self.drop(pooled_output)  #output.pooler_output\n",
    "        return self.out(output)"
   ]
  },
  {
   "cell_type": "code",
   "execution_count": 17,
   "metadata": {},
   "outputs": [
    {
     "name": "stderr",
     "output_type": "stream",
     "text": [
      "Some weights of the model checkpoint at bert-base-cased were not used when initializing BertModel: ['cls.predictions.decoder.weight', 'cls.predictions.transform.dense.weight', 'cls.predictions.bias', 'cls.predictions.transform.LayerNorm.bias', 'cls.predictions.transform.LayerNorm.weight', 'cls.seq_relationship.bias', 'cls.predictions.transform.dense.bias', 'cls.seq_relationship.weight']\n",
      "- This IS expected if you are initializing BertModel from the checkpoint of a model trained on another task or with another architecture (e.g. initializing a BertForSequenceClassification model from a BertForPreTraining model).\n",
      "- This IS NOT expected if you are initializing BertModel from the checkpoint of a model that you expect to be exactly identical (initializing a BertForSequenceClassification model from a BertForSequenceClassification model).\n"
     ]
    }
   ],
   "source": [
    "class_names = [\"neg\", \"neu\", \"pos\"]\n",
    "model = SentimentClassifier(len(class_names))\n",
    "model = model.to(device)"
   ]
  },
  {
   "cell_type": "markdown",
   "metadata": {},
   "source": [
    "### testing"
   ]
  },
  {
   "cell_type": "code",
   "execution_count": 22,
   "metadata": {},
   "outputs": [
    {
     "name": "stdout",
     "output_type": "stream",
     "text": [
      "torch.Size([8, 100])\n",
      "torch.Size([8, 100])\n"
     ]
    }
   ],
   "source": [
    "# # NOTE: \"data\" is the single batch of \"data_train\" that was loaded above.\n",
    "\n",
    "# input_ids = data['input_ids'].to(device)\n",
    "# attention_mask = data['attention_mask'].to(device)\n",
    "\n",
    "# print(input_ids.shape) # batch size x seq length\n",
    "# print(attention_mask.shape) # batch size x seq length"
   ]
  },
  {
   "cell_type": "code",
   "execution_count": 23,
   "metadata": {},
   "outputs": [
    {
     "data": {
      "text/plain": [
       "tensor([[-0.7269, -0.2813, -0.2445],\n",
       "        [-0.3820, -0.1669,  0.1120],\n",
       "        [-0.0489, -0.5614, -0.0866],\n",
       "        [-1.1027, -0.6596, -0.5036],\n",
       "        [ 0.2755, -0.8120, -0.7849],\n",
       "        [-1.0336, -0.7806, -0.6999],\n",
       "        [-0.7187, -0.5880, -0.4263],\n",
       "        [-0.7449, -1.2569, -0.6528]], device='cuda:0',\n",
       "       grad_fn=<AddmmBackward0>)"
      ]
     },
     "execution_count": 23,
     "metadata": {},
     "output_type": "execute_result"
    }
   ],
   "source": [
    "# # Pass \"data\" results to the model; get back the per-class probabilities for each instance in the batch.\n",
    "# model(input_ids, attention_mask)"
   ]
  },
  {
   "cell_type": "code",
   "execution_count": 24,
   "metadata": {},
   "outputs": [
    {
     "data": {
      "text/html": [
       "<div>\n",
       "<style scoped>\n",
       "    .dataframe tbody tr th:only-of-type {\n",
       "        vertical-align: middle;\n",
       "    }\n",
       "\n",
       "    .dataframe tbody tr th {\n",
       "        vertical-align: top;\n",
       "    }\n",
       "\n",
       "    .dataframe thead th {\n",
       "        text-align: right;\n",
       "    }\n",
       "</style>\n",
       "<table border=\"1\" class=\"dataframe\">\n",
       "  <thead>\n",
       "    <tr style=\"text-align: right;\">\n",
       "      <th></th>\n",
       "      <th>id_stable</th>\n",
       "      <th>ContentClean</th>\n",
       "      <th>label_sent</th>\n",
       "      <th>y_bert</th>\n",
       "    </tr>\n",
       "  </thead>\n",
       "  <tbody>\n",
       "    <tr>\n",
       "      <th>989</th>\n",
       "      <td>180896</td>\n",
       "      <td>Email address for Afghan interpreters to apply...</td>\n",
       "      <td>disgust</td>\n",
       "      <td>0</td>\n",
       "    </tr>\n",
       "    <tr>\n",
       "      <th>104</th>\n",
       "      <td>87982</td>\n",
       "      <td>O baji thori research krliya kro? Jahan daikha...</td>\n",
       "      <td>na</td>\n",
       "      <td>1</td>\n",
       "    </tr>\n",
       "    <tr>\n",
       "      <th>10</th>\n",
       "      <td>132517</td>\n",
       "      <td>Kent Refugee Action Network need your help to ...</td>\n",
       "      <td>plea - fear</td>\n",
       "      <td>0</td>\n",
       "    </tr>\n",
       "    <tr>\n",
       "      <th>840</th>\n",
       "      <td>101637</td>\n",
       "      <td>does anyone have good resources for supporting...</td>\n",
       "      <td>neutral</td>\n",
       "      <td>1</td>\n",
       "    </tr>\n",
       "    <tr>\n",
       "      <th>1033</th>\n",
       "      <td>102062</td>\n",
       "      <td>Hey I can tell you about an SIV applicant &amp; hi...</td>\n",
       "      <td>plea - fear</td>\n",
       "      <td>0</td>\n",
       "    </tr>\n",
       "    <tr>\n",
       "      <th>928</th>\n",
       "      <td>138497</td>\n",
       "      <td>A 3 star hotel accommodation in #Sheffield hou...</td>\n",
       "      <td>disgust</td>\n",
       "      <td>0</td>\n",
       "    </tr>\n",
       "    <tr>\n",
       "      <th>536</th>\n",
       "      <td>102829</td>\n",
       "      <td>Turkey cannot take new refugee ‘burden’ from A...</td>\n",
       "      <td>neutral</td>\n",
       "      <td>1</td>\n",
       "    </tr>\n",
       "    <tr>\n",
       "      <th>404</th>\n",
       "      <td>79189</td>\n",
       "      <td>Assets at Dyess Air Force Base have been assis...</td>\n",
       "      <td>happy</td>\n",
       "      <td>2</td>\n",
       "    </tr>\n",
       "  </tbody>\n",
       "</table>\n",
       "</div>"
      ],
      "text/plain": [
       "      id_stable                                       ContentClean  \\\n",
       "989      180896  Email address for Afghan interpreters to apply...   \n",
       "104       87982  O baji thori research krliya kro? Jahan daikha...   \n",
       "10       132517  Kent Refugee Action Network need your help to ...   \n",
       "840      101637  does anyone have good resources for supporting...   \n",
       "1033     102062  Hey I can tell you about an SIV applicant & hi...   \n",
       "928      138497  A 3 star hotel accommodation in #Sheffield hou...   \n",
       "536      102829  Turkey cannot take new refugee ‘burden’ from A...   \n",
       "404       79189  Assets at Dyess Air Force Base have been assis...   \n",
       "\n",
       "       label_sent  y_bert  \n",
       "989       disgust       0  \n",
       "104            na       1  \n",
       "10    plea - fear       0  \n",
       "840       neutral       1  \n",
       "1033  plea - fear       0  \n",
       "928       disgust       0  \n",
       "536       neutral       1  \n",
       "404         happy       2  "
      ]
     },
     "execution_count": 24,
     "metadata": {},
     "output_type": "execute_result"
    }
   ],
   "source": [
    "# data_train.head(8)"
   ]
  },
  {
   "cell_type": "markdown",
   "metadata": {},
   "source": [
    "# Training"
   ]
  },
  {
   "cell_type": "markdown",
   "metadata": {},
   "source": [
    "BERT authors' recommendations for fine-tuning:\n",
    "* Batch size: 16, 32\n",
    "* Learning rate (Adam): 5e-5, 3e-5, 2e-5\n",
    "* Number of epochs: 2, 3, 4\n",
    "\n",
    "\"Note that increasing the batch size reduces the training time significantly, but gives you lower accuracy.\"\n",
    "- https://colab.research.google.com/drive/1PHv-IRLPCtv7oTcIGbsgZHqrB5LPvB7S#scrollTo=A8522g7JIu5J"
   ]
  },
  {
   "cell_type": "code",
   "execution_count": 18,
   "metadata": {},
   "outputs": [
    {
     "name": "stderr",
     "output_type": "stream",
     "text": [
      "c:\\Users\\rnocker\\Anaconda3\\lib\\site-packages\\transformers\\optimization.py:306: FutureWarning: This implementation of AdamW is deprecated and will be removed in a future version. Use the PyTorch implementation torch.optim.AdamW instead, or set `no_deprecation_warning=True` to disable this warning\n",
      "  warnings.warn(\n"
     ]
    }
   ],
   "source": [
    "# Note: the optimizer and settings are selected to match the BERT paper.\n",
    "optimizer = AdamW(model.parameters(), lr=2e-5, correct_bias=False)\n",
    "total_steps = len(train_data_loader) * epochs\n",
    "scheduler = get_linear_schedule_with_warmup(\n",
    "    optimizer,\n",
    "    num_warmup_steps=0,\n",
    "    num_training_steps=total_steps\n",
    ")\n",
    "loss_fn = nn.CrossEntropyLoss().to(device)\n"
   ]
  },
  {
   "cell_type": "code",
   "execution_count": 19,
   "metadata": {},
   "outputs": [],
   "source": [
    "# returns the rate of correct predictions, and the mean loss\n",
    "def train_epoch(model, data_loader, loss_fn, optimizer, device, scheduler, n_examples):\n",
    "    model = model.train()\n",
    "    losses = []\n",
    "    correct_preds = 0\n",
    "\n",
    "    for d in data_loader:\n",
    "        input_ids = d['input_ids'].to(device)\n",
    "        attention_mask = d['attention_mask'].to(device)\n",
    "        targets = d['targets'].to(device)\n",
    "\n",
    "        outputs = model(input_ids = input_ids, attention_mask = attention_mask)\n",
    "        \n",
    "        _, preds = torch.max(outputs, dim=1)\n",
    "        loss = loss_fn(outputs, targets)\n",
    "        correct_preds += torch.sum(preds == targets)\n",
    "        losses.append(loss.item())\n",
    "\n",
    "        loss.backward()\n",
    "        nn.utils.clip_grad_norm_(model.parameters(), max_norm=1.0)  # combats \"exploding\" gradients making the model unstable        \n",
    "        optimizer.step()\n",
    "        scheduler.step()\n",
    "        optimizer.zero_grad()\n",
    "\n",
    "    return correct_preds.double() / n_examples, np.mean(losses)"
   ]
  },
  {
   "cell_type": "code",
   "execution_count": 20,
   "metadata": {},
   "outputs": [],
   "source": [
    "def eval_model(model, data_loader, loss_fn, device, n_examples):\n",
    "  model = model.eval()\n",
    "  losses = []\n",
    "  correct_preds = 0\n",
    "\n",
    "  with torch.no_grad():  # disables the gradient function, to make torch faster.\n",
    "    for d in data_loader:\n",
    "      input_ids = d[\"input_ids\"].to(device)\n",
    "      attention_mask = d[\"attention_mask\"].to(device)\n",
    "      targets = d[\"targets\"].to(device)\n",
    "\n",
    "      outputs = model(input_ids=input_ids, attention_mask=attention_mask)\n",
    "\n",
    "      _, preds = torch.max(outputs, dim=1)\n",
    "      loss = loss_fn(outputs, targets)\n",
    "      correct_preds += torch.sum(preds == targets)\n",
    "      losses.append(loss.item())\n",
    "\n",
    "  return correct_preds.double() / n_examples, np.mean(losses)"
   ]
  },
  {
   "cell_type": "markdown",
   "metadata": {},
   "source": [
    "### create training group with above functions"
   ]
  },
  {
   "cell_type": "code",
   "execution_count": 21,
   "metadata": {},
   "outputs": [],
   "source": [
    "torch.cuda.empty_cache()\n",
    "max_split_size_mb = 10"
   ]
  },
  {
   "cell_type": "code",
   "execution_count": 22,
   "metadata": {},
   "outputs": [
    {
     "name": "stdout",
     "output_type": "stream",
     "text": [
      "Epoch: 1/50\n",
      "----------\n"
     ]
    },
    {
     "name": "stderr",
     "output_type": "stream",
     "text": [
      "c:\\Users\\rnocker\\Anaconda3\\lib\\site-packages\\transformers\\tokenization_utils_base.py:2285: FutureWarning: The `pad_to_max_length` argument is deprecated and will be removed in a future version, use `padding=True` or `padding='longest'` to pad to the longest sequence in the batch, or use `padding='max_length'` to pad to a max length. In this case, you can give a specific length with `max_length` (e.g. `max_length=45`) or leave max_length to None to pad to the maximal input size of the model (e.g. 512 for Bert).\n",
      "  warnings.warn(\n"
     ]
    },
    {
     "name": "stdout",
     "output_type": "stream",
     "text": [
      "Train loss 0.9769415472335411 accuracy 0.5832349468713105\n",
      "Val loss 0.8887928717810175 accuracy 0.6043956043956045\n",
      "\n",
      "Epoch: 2/50\n",
      "----------\n",
      "Train loss 1.005374992512307 accuracy 0.5914994096812278\n",
      "Val loss 0.9833793717881908 accuracy 0.6043956043956045\n",
      "\n",
      "Epoch: 3/50\n",
      "----------\n",
      "Train loss 0.9637017882657501 accuracy 0.58913813459268\n",
      "Val loss 0.9366062568581622 accuracy 0.6043956043956045\n",
      "\n",
      "Epoch: 4/50\n",
      "----------\n",
      "Train loss 0.9210498574066837 accuracy 0.5914994096812278\n",
      "Val loss 0.9357088441434114 accuracy 0.6043956043956045\n",
      "\n",
      "Epoch: 5/50\n",
      "----------\n",
      "Train loss 0.8995738078681927 accuracy 0.6257378984651711\n",
      "Val loss 1.0158758037116216 accuracy 0.5934065934065934\n",
      "\n",
      "Epoch: 6/50\n",
      "----------\n",
      "Train loss 0.8578494760506558 accuracy 0.6587957497048406\n",
      "Val loss 0.8873039425715156 accuracy 0.6428571428571429\n",
      "\n",
      "Epoch: 7/50\n",
      "----------\n",
      "Train loss 0.7382936354831986 accuracy 0.6989374262101534\n",
      "Val loss 0.9324137699668822 accuracy 0.6373626373626374\n",
      "\n",
      "Epoch: 8/50\n",
      "----------\n",
      "Train loss 0.7114288506036589 accuracy 0.7237308146399055\n",
      "Val loss 1.094172508334336 accuracy 0.6538461538461539\n",
      "\n",
      "Epoch: 9/50\n",
      "----------\n",
      "Train loss 0.5565173757495359 accuracy 0.7674144037780402\n",
      "Val loss 1.0857891581709618 accuracy 0.6538461538461539\n",
      "\n",
      "Epoch: 10/50\n",
      "----------\n",
      "Train loss 0.5614395164741853 accuracy 0.806375442739079\n",
      "Val loss 1.1861762210888707 accuracy 0.6648351648351649\n",
      "\n",
      "Epoch: 11/50\n",
      "----------\n",
      "Train loss 0.5655536047931989 accuracy 0.8406139315230224\n",
      "Val loss 1.510122692283324 accuracy 0.6648351648351649\n",
      "\n",
      "Epoch: 12/50\n",
      "----------\n",
      "Train loss 0.48292934554321515 accuracy 0.8854781582054309\n",
      "Val loss 1.489185464077467 accuracy 0.6978021978021979\n",
      "\n",
      "Epoch: 13/50\n",
      "----------\n",
      "Train loss 0.42963912634438184 accuracy 0.9043683589138134\n",
      "Val loss 1.4720616735892533 accuracy 0.7087912087912088\n",
      "\n",
      "Epoch: 14/50\n",
      "----------\n",
      "Train loss 0.37329952338082223 accuracy 0.9244391971664698\n",
      "Val loss 1.5089365798149905 accuracy 0.7197802197802199\n",
      "\n",
      "Epoch: 15/50\n",
      "----------\n",
      "Train loss 0.2648032867769219 accuracy 0.9492325855962219\n",
      "Val loss 1.6751176057150587 accuracy 0.7197802197802199\n",
      "\n",
      "Epoch: 16/50\n",
      "----------\n",
      "Train loss 0.24109338527794638 accuracy 0.9504132231404958\n",
      "Val loss 1.7812838269164786 accuracy 0.6923076923076924\n",
      "\n",
      "Epoch: 17/50\n",
      "----------\n",
      "Train loss 0.2059958221520987 accuracy 0.961038961038961\n",
      "Val loss 1.5496768921350494 accuracy 0.7472527472527473\n",
      "\n",
      "Epoch: 18/50\n",
      "----------\n",
      "Train loss 0.16813073215543795 accuracy 0.9693034238488784\n",
      "Val loss 1.7771359727586336 accuracy 0.7142857142857143\n",
      "\n",
      "Epoch: 19/50\n",
      "----------\n",
      "Train loss 0.17971675991896707 accuracy 0.9622195985832349\n",
      "Val loss 1.797224867114615 accuracy 0.7142857142857143\n",
      "\n",
      "Epoch: 20/50\n",
      "----------\n",
      "Train loss 0.17998650193929383 accuracy 0.9681227863046045\n",
      "Val loss 1.7863424809917847 accuracy 0.7252747252747254\n",
      "\n",
      "Epoch: 21/50\n",
      "----------\n",
      "Train loss 0.1598194830662149 accuracy 0.9693034238488784\n",
      "Val loss 1.8130339457154903 accuracy 0.7362637362637363\n",
      "\n",
      "Epoch: 22/50\n",
      "----------\n",
      "Train loss 0.13942401096766227 accuracy 0.9763872491145218\n",
      "Val loss 1.7923894494344257 accuracy 0.7472527472527473\n",
      "\n",
      "Epoch: 23/50\n",
      "----------\n",
      "Train loss 0.138351660086043 accuracy 0.9716646989374261\n",
      "Val loss 1.9708432778374434 accuracy 0.7252747252747254\n",
      "\n",
      "Epoch: 24/50\n",
      "----------\n",
      "Train loss 0.10029760547976761 accuracy 0.9822904368358913\n",
      "Val loss 1.9302189844576945 accuracy 0.7417582417582418\n",
      "\n",
      "Epoch: 25/50\n",
      "----------\n",
      "Train loss 0.09677273165700927 accuracy 0.9846517119244391\n",
      "Val loss 2.177301021046056 accuracy 0.6978021978021979\n",
      "\n",
      "Epoch: 26/50\n",
      "----------\n",
      "Train loss 0.0875501799950967 accuracy 0.985832349468713\n",
      "Val loss 1.99337823040791 accuracy 0.7307692307692308\n",
      "\n",
      "Epoch: 27/50\n",
      "----------\n",
      "Train loss 0.08462357440678389 accuracy 0.987012987012987\n",
      "Val loss 2.00717830586275 accuracy 0.7307692307692308\n",
      "\n",
      "Epoch: 28/50\n",
      "----------\n",
      "Train loss 0.08550703048405132 accuracy 0.987012987012987\n",
      "Val loss 2.0959265327856764 accuracy 0.7087912087912088\n",
      "\n",
      "Epoch: 29/50\n",
      "----------\n",
      "Train loss 0.07510910650472517 accuracy 0.987012987012987\n",
      "Val loss 2.229031915165251 accuracy 0.7032967032967034\n",
      "\n",
      "Epoch: 30/50\n",
      "----------\n",
      "Train loss 0.04945588224956805 accuracy 0.9893742621015348\n",
      "Val loss 2.2536405536754858 accuracy 0.7032967032967034\n",
      "\n",
      "Epoch: 31/50\n",
      "----------\n",
      "Train loss 0.03927550526837739 accuracy 0.9893742621015348\n",
      "Val loss 2.3085614531285144 accuracy 0.6978021978021979\n",
      "\n",
      "Epoch: 32/50\n",
      "----------\n",
      "Train loss 0.014812170951837237 accuracy 0.9952774498229043\n",
      "Val loss 2.3356018109603296 accuracy 0.7087912087912088\n",
      "\n",
      "Epoch: 33/50\n",
      "----------\n",
      "Train loss 0.034233314624149025 accuracy 0.9929161747343564\n",
      "Val loss 2.2956200620724503 accuracy 0.7032967032967034\n",
      "\n",
      "Epoch: 34/50\n",
      "----------\n",
      "Train loss 0.012564572326980097 accuracy 0.9976387249114521\n",
      "Val loss 2.2386556878475896 accuracy 0.7197802197802199\n",
      "\n",
      "Epoch: 35/50\n",
      "----------\n",
      "Train loss 0.0003024563636742796 accuracy 1.0\n",
      "Val loss 2.3791917017798645 accuracy 0.7197802197802199\n",
      "\n",
      "Epoch: 36/50\n",
      "----------\n",
      "Train loss 0.00039359897912292135 accuracy 1.0\n",
      "Val loss 2.5948018809198716 accuracy 0.7142857142857143\n",
      "\n",
      "Epoch: 37/50\n",
      "----------\n",
      "Train loss 0.013085348530265311 accuracy 0.9964580873671782\n",
      "Val loss 2.477909509671957 accuracy 0.7307692307692308\n",
      "\n",
      "Epoch: 38/50\n",
      "----------\n",
      "Train loss 0.0001749573501619348 accuracy 1.0\n",
      "Val loss 2.500801933262467 accuracy 0.7307692307692308\n",
      "\n",
      "Epoch: 39/50\n",
      "----------\n",
      "Train loss 0.00015583025064840495 accuracy 1.0\n",
      "Val loss 2.5451256406620657 accuracy 0.7197802197802199\n",
      "\n",
      "Epoch: 40/50\n",
      "----------\n",
      "Train loss 0.00014167016739383194 accuracy 1.0\n",
      "Val loss 2.571607323566122 accuracy 0.7197802197802199\n",
      "\n",
      "Epoch: 41/50\n",
      "----------\n",
      "Train loss 0.00012754662622923343 accuracy 1.0\n",
      "Val loss 2.6011640788524146 accuracy 0.7197802197802199\n",
      "\n",
      "Epoch: 42/50\n",
      "----------\n",
      "Train loss 0.00011710356358100467 accuracy 1.0\n",
      "Val loss 2.621635960192773 accuracy 0.7197802197802199\n",
      "\n",
      "Epoch: 43/50\n",
      "----------\n",
      "Train loss 0.00010977514861190016 accuracy 1.0\n",
      "Val loss 2.6329862761676455 accuracy 0.7197802197802199\n",
      "\n",
      "Epoch: 44/50\n",
      "----------\n",
      "Train loss 0.00010386578520959822 accuracy 1.0\n",
      "Val loss 2.6445087292347087 accuracy 0.7197802197802199\n",
      "\n",
      "Epoch: 45/50\n",
      "----------\n",
      "Train loss 9.543792640335664e-05 accuracy 1.0\n",
      "Val loss 2.6547342133803995 accuracy 0.7252747252747254\n",
      "\n",
      "Epoch: 46/50\n",
      "----------\n",
      "Train loss 8.970621549348646e-05 accuracy 1.0\n",
      "Val loss 2.7000992141688385 accuracy 0.7197802197802199\n",
      "\n",
      "Epoch: 47/50\n",
      "----------\n",
      "Train loss 8.51492147530563e-05 accuracy 1.0\n",
      "Val loss 2.707248392391905 accuracy 0.7197802197802199\n",
      "\n",
      "Epoch: 48/50\n",
      "----------\n",
      "Train loss 8.796187815295405e-05 accuracy 1.0\n",
      "Val loss 2.6729617298219437 accuracy 0.7252747252747254\n",
      "\n",
      "Epoch: 49/50\n",
      "----------\n",
      "Train loss 0.00795593167944355 accuracy 0.998819362455726\n",
      "Val loss 2.7263665341703494 accuracy 0.7197802197802199\n",
      "\n",
      "Epoch: 50/50\n",
      "----------\n",
      "Train loss 7.956681660083254e-05 accuracy 1.0\n",
      "Val loss 2.727932501724749 accuracy 0.7197802197802199\n",
      "\n"
     ]
    }
   ],
   "source": [
    "# to store training and validation losses and accuracies\n",
    "# 50 min to run on the training data\n",
    "\n",
    "history = defaultdict(list)\n",
    "best_accuracy = 0\n",
    "\n",
    "for e in range(epochs):\n",
    "    print(f'Epoch: {e + 1}/{epochs}')\n",
    "    print('-'*10)\n",
    "\n",
    "    train_acc, train_loss = train_epoch(model, train_data_loader, loss_fn, optimizer, device, scheduler, len(data_train))\n",
    "    print(f'Train loss {train_loss} accuracy {train_acc}')\n",
    "\n",
    "    val_acc, val_loss = eval_model(model, val_data_loader, loss_fn, device, len(data_val))\n",
    "    print(f'Val loss {val_loss} accuracy {val_acc}')\n",
    "    print()\n",
    "\n",
    "    history['train_acc'].append(train_acc)\n",
    "    history['train_loss'].append(train_loss)\n",
    "    history['val_acc'].append(val_acc)\n",
    "    history['val_loss'].append(val_loss)\n",
    "\n",
    "    if val_acc > best_accuracy: # Starting w 0, so we save the first model by default\n",
    "        torch.save(model.bert.state_dict(), 'best_model_state.bin')\n",
    "        model.bert.config.to_json_file('best_model_config.json')\n",
    "        tokenizer.save_vocabulary('./')\n",
    "        best_accuracy = val_acc"
   ]
  },
  {
   "cell_type": "code",
   "execution_count": null,
   "metadata": {},
   "outputs": [],
   "source": [
    "train_hist_acc = []\n",
    "for line in history['train_acc']:\n",
    "    train_hist_acc.append(line.item())\n",
    "train_hist_acc"
   ]
  },
  {
   "cell_type": "code",
   "execution_count": null,
   "metadata": {},
   "outputs": [],
   "source": [
    "val_hist_acc = []\n",
    "for line in history['val_acc']:\n",
    "    val_hist_acc.append(line.item())\n",
    "val_hist_acc"
   ]
  },
  {
   "cell_type": "code",
   "execution_count": 62,
   "metadata": {},
   "outputs": [
    {
     "data": {
      "image/png": "[encoded data removed]",
      "text/plain": [
       "<Figure size 432x288 with 1 Axes>"
      ]
     },
     "metadata": {},
     "output_type": "display_data"
    }
   ],
   "source": [
    "plt.plot(train_hist_acc, label='train accuracy')\n",
    "plt.plot(val_hist_acc, label='validation accuracy')\n",
    "\n",
    "plt.title('Training history')\n",
    "plt.ylabel('Accuracy')\n",
    "plt.xlabel('Epoch')\n",
    "plt.legend()\n",
    "plt.ylim([0, 1]);"
   ]
  },
  {
   "cell_type": "code",
   "execution_count": null,
   "metadata": {},
   "outputs": [],
   "source": []
  },
  {
   "cell_type": "markdown",
   "metadata": {},
   "source": [
    "# ---------- BOOKMARK ------------\n",
    "https://www.youtube.com/watch?v=8N-nM3QW7O0 (24:07)"
   ]
  },
  {
   "cell_type": "markdown",
   "metadata": {},
   "source": [
    "To anyone who is doing this tutorial on the latest version of transformers/huggingbox, you need to change the line\n",
    "* self.bert = BertModel.from_pretrained('bert-base-cased')\n",
    "to\n",
    "* self.bert = BertModel.from_pretrained('bert-base-cased', return_dict=False)\n",
    "\n",
    "\n",
    "the latest version of  transformers library, the bert_model outputs an object and not a tuple, so had to google and fix that like this to run the notebook.\n",
    "\n",
    "output = bert_model(\n",
    "  input_ids=data['input_ids'], \n",
    "  attention_mask=data['attention_mask']\n",
    ")\n",
    "\n",
    "output.last_hidden_state\n",
    "output.pooler_output\n",
    "\n",
    "\n",
    "N.B. in the text tutorial, I had to replace F.softmax with nn.functional.softmax."
   ]
  },
  {
   "cell_type": "markdown",
   "metadata": {},
   "source": [
    "# NOTES\n",
    "1. The top layer of BERT can be modified to add the pooled layer output for text tokens which might improve classification performance.\n",
    "2. The top layer of BERT can be modified to add numerical extra features to further improve classification performance;\n",
    "3. Overfitting poses the most difficult challenge in this experiment, reducing its generalizability.\n"
   ]
  }
 ],
 "metadata": {
  "interpreter": {
   "hash": "2522cab69aef9135531abc74cfe3f2456cb406a72442e0865122b8d4f66eb9dc"
  },
  "kernelspec": {
   "display_name": "Python 3.9.12 ('base')",
   "language": "python",
   "name": "python3"
  },
  "language_info": {
   "codemirror_mode": {
    "name": "ipython",
    "version": 3
   },
   "file_extension": ".py",
   "mimetype": "text/x-python",
   "name": "python",
   "nbconvert_exporter": "python",
   "pygments_lexer": "ipython3",
   "version": "3.9.12"
  },
  "orig_nbformat": 4
 },
 "nbformat": 4,
 "nbformat_minor": 2
}
