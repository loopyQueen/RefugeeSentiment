{
 "cells": [
  {
   "cell_type": "code",
   "execution_count": 16,
   "metadata": {},
   "outputs": [],
   "source": [
    "import pandas as pd\n",
    "import numpy as np\n",
    "import re\n",
    "from nlpUtils import aardvark as aa \n",
    "from numpy import random as rand\n",
    "\n",
    "import seaborn as sns\n",
    "import matplotlib.pyplot as plt\n",
    "\n",
    "import torch\n",
    "# from transformers import BertForSequenceClassification\n",
    "# from transformers import BertTokenizer\n",
    "\n",
    "#from transformers import AutoTokenizer, AutoModelForSequenceClassification  # Check that these are the models I want\n",
    "from transformers import DistilBertModel\n",
    "from transformers import DistilBertForSequenceClassification\n",
    "from transformers import DistilBertTokenizer\n",
    "from transformers import logging\n",
    "logging.set_verbosity_error()  # Turns off the warning when you load the model without training\n",
    "\n",
    "from sklearn.metrics import f1_score, roc_curve, auc\n"
   ]
  },
  {
   "cell_type": "code",
   "execution_count": null,
   "metadata": {},
   "outputs": [],
   "source": [
    "#pip install wandb"
   ]
  },
  {
   "cell_type": "markdown",
   "metadata": {},
   "source": [
    "# Load the dataset"
   ]
  },
  {
   "cell_type": "code",
   "execution_count": 17,
   "metadata": {},
   "outputs": [
    {
     "name": "stdout",
     "output_type": "stream",
     "text": [
      "(390, 15)\n",
      "(125, 15)\n",
      "(390, 2)\n",
      "(125, 2)\n"
     ]
    },
    {
     "data": {
      "text/html": [
       "<div>\n",
       "<style scoped>\n",
       "    .dataframe tbody tr th:only-of-type {\n",
       "        vertical-align: middle;\n",
       "    }\n",
       "\n",
       "    .dataframe tbody tr th {\n",
       "        vertical-align: top;\n",
       "    }\n",
       "\n",
       "    .dataframe thead th {\n",
       "        text-align: right;\n",
       "    }\n",
       "</style>\n",
       "<table border=\"1\" class=\"dataframe\">\n",
       "  <thead>\n",
       "    <tr style=\"text-align: right;\">\n",
       "      <th></th>\n",
       "      <th>id_stable</th>\n",
       "      <th>Date</th>\n",
       "      <th>Content</th>\n",
       "      <th>ContentClean</th>\n",
       "      <th>n_CapLetters</th>\n",
       "      <th>CapsRatio</th>\n",
       "      <th>AllCapWords</th>\n",
       "      <th>https</th>\n",
       "      <th>Mentions</th>\n",
       "      <th>Location</th>\n",
       "      <th>ReplyCount</th>\n",
       "      <th>RetweetCount</th>\n",
       "      <th>LikeCount</th>\n",
       "      <th>QuoteCount</th>\n",
       "      <th>Hashtags</th>\n",
       "    </tr>\n",
       "  </thead>\n",
       "  <tbody>\n",
       "    <tr>\n",
       "      <th>395</th>\n",
       "      <td>31194</td>\n",
       "      <td>2021-12-25 19:33:12+00:00</td>\n",
       "      <td>Afghan citizens resettlement scheme to open in...</td>\n",
       "      <td>Afghan citizens resettlement scheme to open in...</td>\n",
       "      <td>9</td>\n",
       "      <td>0.060403</td>\n",
       "      <td>(ACRS)</td>\n",
       "      <td>NaN</td>\n",
       "      <td>NaN</td>\n",
       "      <td>England, United Kingdom</td>\n",
       "      <td>0</td>\n",
       "      <td>0</td>\n",
       "      <td>1</td>\n",
       "      <td>0</td>\n",
       "      <td>No hashtags</td>\n",
       "    </tr>\n",
       "    <tr>\n",
       "      <th>295</th>\n",
       "      <td>38187</td>\n",
       "      <td>2021-12-02 13:00:00+00:00</td>\n",
       "      <td>According to the U.N. refugee agency (UNHCR), ...</td>\n",
       "      <td>According to the U.N. refugee agency (UNHCR), ...</td>\n",
       "      <td>10</td>\n",
       "      <td>0.060976</td>\n",
       "      <td>U.N., (UNHCR),</td>\n",
       "      <td>https://t.co/wSuWG2yAjL</td>\n",
       "      <td>NaN</td>\n",
       "      <td>English-speaking</td>\n",
       "      <td>24</td>\n",
       "      <td>189</td>\n",
       "      <td>2221</td>\n",
       "      <td>4</td>\n",
       "      <td>No hashtags</td>\n",
       "    </tr>\n",
       "    <tr>\n",
       "      <th>248</th>\n",
       "      <td>95575</td>\n",
       "      <td>2021-09-01 19:02:05+00:00</td>\n",
       "      <td>INDIANAPOLIS — An estimated 5,000 Afghan evacu...</td>\n",
       "      <td>INDIANAPOLIS — An estimated 5,000 Afghan evacu...</td>\n",
       "      <td>23</td>\n",
       "      <td>0.103604</td>\n",
       "      <td>INDIANAPOLIS —, COVID</td>\n",
       "      <td>https://t.co/IwV9dqmV9J</td>\n",
       "      <td>NaN</td>\n",
       "      <td>Anderson, Indiana.</td>\n",
       "      <td>0</td>\n",
       "      <td>0</td>\n",
       "      <td>1</td>\n",
       "      <td>0</td>\n",
       "      <td>No hashtags</td>\n",
       "    </tr>\n",
       "    <tr>\n",
       "      <th>119</th>\n",
       "      <td>31287</td>\n",
       "      <td>2021-12-24 21:57:28+00:00</td>\n",
       "      <td>All Afghan refugees at Quantico have been rese...</td>\n",
       "      <td>All Afghan refugees at Quantico have been rese...</td>\n",
       "      <td>3</td>\n",
       "      <td>0.050847</td>\n",
       "      <td>NaN</td>\n",
       "      <td>https://t.co/O6cRFlmMcZ</td>\n",
       "      <td>@newsintheburg</td>\n",
       "      <td>Stafford, VA</td>\n",
       "      <td>0</td>\n",
       "      <td>0</td>\n",
       "      <td>0</td>\n",
       "      <td>0</td>\n",
       "      <td>No hashtags</td>\n",
       "    </tr>\n",
       "    <tr>\n",
       "      <th>174</th>\n",
       "      <td>109598</td>\n",
       "      <td>2021-08-27 13:11:06+00:00</td>\n",
       "      <td>20,000 #Afghan #refugees will be coming to #Ca...</td>\n",
       "      <td>20,000 #Afghan #refugees will be coming to #Ca...</td>\n",
       "      <td>11</td>\n",
       "      <td>0.052885</td>\n",
       "      <td>NaN</td>\n",
       "      <td>https://t.co/MI6gM1wZFD</td>\n",
       "      <td>NaN</td>\n",
       "      <td>Canada</td>\n",
       "      <td>0</td>\n",
       "      <td>2</td>\n",
       "      <td>2</td>\n",
       "      <td>0</td>\n",
       "      <td>['Afghan', 'refugees', 'Canada', 'Brampton', '...</td>\n",
       "    </tr>\n",
       "  </tbody>\n",
       "</table>\n",
       "</div>"
      ],
      "text/plain": [
       "     id_stable                       Date  \\\n",
       "395      31194  2021-12-25 19:33:12+00:00   \n",
       "295      38187  2021-12-02 13:00:00+00:00   \n",
       "248      95575  2021-09-01 19:02:05+00:00   \n",
       "119      31287  2021-12-24 21:57:28+00:00   \n",
       "174     109598  2021-08-27 13:11:06+00:00   \n",
       "\n",
       "                                               Content  \\\n",
       "395  Afghan citizens resettlement scheme to open in...   \n",
       "295  According to the U.N. refugee agency (UNHCR), ...   \n",
       "248  INDIANAPOLIS — An estimated 5,000 Afghan evacu...   \n",
       "119  All Afghan refugees at Quantico have been rese...   \n",
       "174  20,000 #Afghan #refugees will be coming to #Ca...   \n",
       "\n",
       "                                          ContentClean  n_CapLetters  \\\n",
       "395  Afghan citizens resettlement scheme to open in...             9   \n",
       "295  According to the U.N. refugee agency (UNHCR), ...            10   \n",
       "248  INDIANAPOLIS — An estimated 5,000 Afghan evacu...            23   \n",
       "119  All Afghan refugees at Quantico have been rese...             3   \n",
       "174  20,000 #Afghan #refugees will be coming to #Ca...            11   \n",
       "\n",
       "     CapsRatio            AllCapWords                    https  \\\n",
       "395   0.060403                 (ACRS)                      NaN   \n",
       "295   0.060976         U.N., (UNHCR),  https://t.co/wSuWG2yAjL   \n",
       "248   0.103604  INDIANAPOLIS —, COVID  https://t.co/IwV9dqmV9J   \n",
       "119   0.050847                    NaN  https://t.co/O6cRFlmMcZ   \n",
       "174   0.052885                    NaN  https://t.co/MI6gM1wZFD   \n",
       "\n",
       "           Mentions                 Location  ReplyCount  RetweetCount  \\\n",
       "395             NaN  England, United Kingdom           0             0   \n",
       "295             NaN         English-speaking          24           189   \n",
       "248             NaN       Anderson, Indiana.           0             0   \n",
       "119  @newsintheburg             Stafford, VA           0             0   \n",
       "174             NaN                   Canada           0             2   \n",
       "\n",
       "     LikeCount  QuoteCount                                           Hashtags  \n",
       "395          1           0                                        No hashtags  \n",
       "295       2221           4                                        No hashtags  \n",
       "248          1           0                                        No hashtags  \n",
       "119          0           0                                        No hashtags  \n",
       "174          2           0  ['Afghan', 'refugees', 'Canada', 'Brampton', '...  "
      ]
     },
     "execution_count": 17,
     "metadata": {},
     "output_type": "execute_result"
    }
   ],
   "source": [
    "x_train = pd.read_csv(\"x_train.csv\", header=0, index_col=0)\n",
    "x_val = pd.read_csv(\"x_val.csv\", header=0, index_col=0)\n",
    "y_train_sent = pd.read_csv(\"y_train_sent.csv\", header=0, index_col=0)\n",
    "y_val_sent = pd.read_csv(\"y_val_sent.csv\", header=0, index_col=0)\n",
    "\n",
    "print(x_train.shape)\n",
    "print(x_val.shape)\n",
    "print(y_train_sent.shape)\n",
    "print(y_val_sent.shape)\n",
    "x_train.tail()"
   ]
  },
  {
   "cell_type": "code",
   "execution_count": 18,
   "metadata": {},
   "outputs": [
    {
     "data": {
      "text/html": [
       "<div>\n",
       "<style scoped>\n",
       "    .dataframe tbody tr th:only-of-type {\n",
       "        vertical-align: middle;\n",
       "    }\n",
       "\n",
       "    .dataframe tbody tr th {\n",
       "        vertical-align: top;\n",
       "    }\n",
       "\n",
       "    .dataframe thead th {\n",
       "        text-align: right;\n",
       "    }\n",
       "</style>\n",
       "<table border=\"1\" class=\"dataframe\">\n",
       "  <thead>\n",
       "    <tr style=\"text-align: right;\">\n",
       "      <th></th>\n",
       "      <th>id_stable</th>\n",
       "      <th>y_sent</th>\n",
       "    </tr>\n",
       "  </thead>\n",
       "  <tbody>\n",
       "    <tr>\n",
       "      <th>395</th>\n",
       "      <td>31194</td>\n",
       "      <td>3</td>\n",
       "    </tr>\n",
       "    <tr>\n",
       "      <th>295</th>\n",
       "      <td>38187</td>\n",
       "      <td>0</td>\n",
       "    </tr>\n",
       "    <tr>\n",
       "      <th>248</th>\n",
       "      <td>95575</td>\n",
       "      <td>0</td>\n",
       "    </tr>\n",
       "    <tr>\n",
       "      <th>119</th>\n",
       "      <td>31287</td>\n",
       "      <td>0</td>\n",
       "    </tr>\n",
       "    <tr>\n",
       "      <th>174</th>\n",
       "      <td>109598</td>\n",
       "      <td>3</td>\n",
       "    </tr>\n",
       "  </tbody>\n",
       "</table>\n",
       "</div>"
      ],
      "text/plain": [
       "     id_stable  y_sent\n",
       "395      31194       3\n",
       "295      38187       0\n",
       "248      95575       0\n",
       "119      31287       0\n",
       "174     109598       3"
      ]
     },
     "execution_count": 18,
     "metadata": {},
     "output_type": "execute_result"
    }
   ],
   "source": [
    "y_train_sent.tail()"
   ]
  },
  {
   "cell_type": "markdown",
   "metadata": {},
   "source": [
    "# Setup for BERT\n",
    "Thanks to: https://medium.com/mlearning-ai/twitter-sentiment-analysis-with-deep-learning-using-bert-and-hugging-face-830005bcdbbf, https://www.youtube.com/watch?v=szczpgOEdXs\n",
    "\n",
    "Using the distilbert-base-uncased version.\n",
    "\n",
    "Setup\n",
    "1. get just the columns we will use\n",
    "2. add some new columns we will need"
   ]
  },
  {
   "cell_type": "code",
   "execution_count": 19,
   "metadata": {},
   "outputs": [
    {
     "name": "stdout",
     "output_type": "stream",
     "text": [
      "(390, 4)\n",
      "(125, 4)\n",
      "(390, 2)\n",
      "(125, 2)\n"
     ]
    },
    {
     "data": {
      "text/html": [
       "<div>\n",
       "<style scoped>\n",
       "    .dataframe tbody tr th:only-of-type {\n",
       "        vertical-align: middle;\n",
       "    }\n",
       "\n",
       "    .dataframe tbody tr th {\n",
       "        vertical-align: top;\n",
       "    }\n",
       "\n",
       "    .dataframe thead th {\n",
       "        text-align: right;\n",
       "    }\n",
       "</style>\n",
       "<table border=\"1\" class=\"dataframe\">\n",
       "  <thead>\n",
       "    <tr style=\"text-align: right;\">\n",
       "      <th></th>\n",
       "      <th>id_stable</th>\n",
       "      <th>ContentClean</th>\n",
       "      <th>tokenIDs</th>\n",
       "      <th>mask</th>\n",
       "    </tr>\n",
       "  </thead>\n",
       "  <tbody>\n",
       "    <tr>\n",
       "      <th>395</th>\n",
       "      <td>31194</td>\n",
       "      <td>Afghan citizens resettlement scheme to open in...</td>\n",
       "      <td></td>\n",
       "      <td></td>\n",
       "    </tr>\n",
       "    <tr>\n",
       "      <th>295</th>\n",
       "      <td>38187</td>\n",
       "      <td>According to the U.N. refugee agency (UNHCR), ...</td>\n",
       "      <td></td>\n",
       "      <td></td>\n",
       "    </tr>\n",
       "    <tr>\n",
       "      <th>248</th>\n",
       "      <td>95575</td>\n",
       "      <td>INDIANAPOLIS — An estimated 5,000 Afghan evacu...</td>\n",
       "      <td></td>\n",
       "      <td></td>\n",
       "    </tr>\n",
       "    <tr>\n",
       "      <th>119</th>\n",
       "      <td>31287</td>\n",
       "      <td>All Afghan refugees at Quantico have been rese...</td>\n",
       "      <td></td>\n",
       "      <td></td>\n",
       "    </tr>\n",
       "    <tr>\n",
       "      <th>174</th>\n",
       "      <td>109598</td>\n",
       "      <td>20,000 #Afghan #refugees will be coming to #Ca...</td>\n",
       "      <td></td>\n",
       "      <td></td>\n",
       "    </tr>\n",
       "  </tbody>\n",
       "</table>\n",
       "</div>"
      ],
      "text/plain": [
       "     id_stable                                       ContentClean tokenIDs  \\\n",
       "395      31194  Afghan citizens resettlement scheme to open in...            \n",
       "295      38187  According to the U.N. refugee agency (UNHCR), ...            \n",
       "248      95575  INDIANAPOLIS — An estimated 5,000 Afghan evacu...            \n",
       "119      31287  All Afghan refugees at Quantico have been rese...            \n",
       "174     109598  20,000 #Afghan #refugees will be coming to #Ca...            \n",
       "\n",
       "    mask  \n",
       "395       \n",
       "295       \n",
       "248       \n",
       "119       \n",
       "174       "
      ]
     },
     "execution_count": 19,
     "metadata": {},
     "output_type": "execute_result"
    }
   ],
   "source": [
    "x_cols = [\"id_stable\", \"ContentClean\"]\n",
    "x_train = x_train[x_cols]\n",
    "x_val = x_val[x_cols]\n",
    "\n",
    "x_train[\"tokenIDs\"] = \"\"\n",
    "x_val[\"tokenIDs\"] = \"\"\n",
    "\n",
    "x_train[\"mask\"] = \"\"\n",
    "x_val[\"mask\"] = \"\"\n",
    "\n",
    "print(x_train.shape)\n",
    "print(x_val.shape)\n",
    "print(y_train_sent.shape)\n",
    "print(y_val_sent.shape)\n",
    "x_train.tail()"
   ]
  },
  {
   "cell_type": "markdown",
   "metadata": {},
   "source": [
    "### Look at tweet length\n",
    "Because BERT requires equal length sentences and we need to know where we want to cut/pad to."
   ]
  },
  {
   "cell_type": "code",
   "execution_count": 20,
   "metadata": {},
   "outputs": [
    {
     "data": {
      "image/png": "[encoded data removed]",
      "text/plain": [
       "<Figure size 720x360 with 1 Axes>"
      ]
     },
     "metadata": {},
     "output_type": "display_data"
    }
   ],
   "source": [
    "plt.figure(figsize=(10, 5))\n",
    "sns.histplot([len(s) for s in x_train[\"ContentClean\"]], bins=25)\n",
    "plt.title('Sentence Length')\n",
    "plt.figtext(.2, .8, \"Max content length: {}\".format(max([len(s) for s in x_train[\"ContentClean\"]])))\n",
    "plt.style.use('ggplot') \n",
    "#plt.style.use('Solarize_Light2') \n",
    "plt.style.use('seaborn-white') \n",
    "plt.show()"
   ]
  },
  {
   "cell_type": "code",
   "execution_count": 21,
   "metadata": {},
   "outputs": [
    {
     "data": {
      "text/plain": [
       "280"
      ]
     },
     "execution_count": 21,
     "metadata": {},
     "output_type": "execute_result"
    }
   ],
   "source": [
    "max_tweet_len = max([len(s) for s in x_train[\"ContentClean\"]])\n",
    "max_tweet_len"
   ]
  },
  {
   "cell_type": "markdown",
   "metadata": {},
   "source": [
    "So there are a lot of tweets that run long. I think I will pad to the max tweet length: 280."
   ]
  },
  {
   "cell_type": "markdown",
   "metadata": {},
   "source": [
    "# Setup the BERT Tokenizer and Model\n"
   ]
  },
  {
   "cell_type": "code",
   "execution_count": 22,
   "metadata": {},
   "outputs": [],
   "source": [
    "#tokenizer = AutoTokenizer.from_pretrained('nlptown/bert-base-multilingual-uncased-sentiment')\n",
    "\n",
    "# tokenizer = AutoTokenizer.from_pretrained('distilbert-base-uncased')\n",
    "# model = BertModel.from_pretrained(\"distilbert-base-uncased\", output_hidden_states = True)\n",
    "\n",
    "#model = BertForSequenceClassification.from_pretrained('bert-base-uncased')\n",
    "\n",
    "model = DistilBertForSequenceClassification.from_pretrained('distilbert-base-uncased')\n",
    "tokenizer = DistilBertTokenizer.from_pretrained('distilbert-base-uncased')\n",
    "\n",
    "# model = AutoModelForSequenceClassification.from_pretrained('bert-base-multilingual-uncased')\n",
    "\n",
    "# tokenizer = BertTokenizer.from_pretrained('bert-base-uncased')\n",
    "# model = BertModel.from_pretrained(\"bert-base-uncased\", output_hidden_states = True)\n",
    "\n",
    "# tokenizer = torch.hub.load('huggingface/pytorch-transformers', 'tokenizer', 'bert-base-uncased')    # Download vocabulary from S3 and cache.\n",
    "# model = torch.hub.load('huggingface/pytorch-transformers', 'model', 'bert-base-uncased')    # Download model and configuration from S3 and cache.\n",
    "\n",
    "# tokenizer = None\n",
    "# model = None\n"
   ]
  },
  {
   "cell_type": "code",
   "execution_count": 13,
   "metadata": {},
   "outputs": [
    {
     "name": "stderr",
     "output_type": "stream",
     "text": [
      "Some weights of the model checkpoint at distilbert-base-uncased were not used when initializing DistilBertModel: ['vocab_projector.weight', 'vocab_transform.weight', 'vocab_transform.bias', 'vocab_projector.bias', 'vocab_layer_norm.weight', 'vocab_layer_norm.bias']\n",
      "- This IS expected if you are initializing DistilBertModel from the checkpoint of a model trained on another task or with another architecture (e.g. initializing a BertForSequenceClassification model from a BertForPreTraining model).\n",
      "- This IS NOT expected if you are initializing DistilBertModel from the checkpoint of a model that you expect to be exactly identical (initializing a BertForSequenceClassification model from a BertForSequenceClassification model).\n"
     ]
    },
    {
     "name": "stdout",
     "output_type": "stream",
     "text": [
      "{'input_ids': tensor([[  101,  7592,  1010,  2026,  3899,  2003, 10140,   102,     0,     0],\n",
      "        [  101,  7592,  1012,  2293,  2009,  1012,  6077,  2024,  2307,   102]]), 'attention_mask': tensor([[1, 1, 1, 1, 1, 1, 1, 1, 0, 0],\n",
      "        [1, 1, 1, 1, 1, 1, 1, 1, 1, 1]])}\n"
     ]
    },
    {
     "name": "stderr",
     "output_type": "stream",
     "text": [
      "c:\\Users\\r_noc\\anaconda3\\lib\\site-packages\\transformers\\tokenization_utils_base.py:2279: UserWarning: `max_length` is ignored when `padding`=`True` and there is no truncation strategy. To pad to max length, use `padding='max_length'`.\n",
      "  warnings.warn(\n"
     ]
    }
   ],
   "source": [
    "from transformers import DistilBertTokenizer, DistilBertModel\n",
    "import torch\n",
    "\n",
    "tokenizer = DistilBertTokenizer.from_pretrained(\"distilbert-base-uncased\")\n",
    "model = DistilBertModel.from_pretrained(\"distilbert-base-uncased\")\n",
    "\n",
    "inputs = tokenizer([\"Hello, my dog is cute\", \"Hello. Love it. Dogs are great\"], padding=True, max_length=75, return_tensors=\"pt\")\n",
    "outputs = model(**inputs)\n",
    "\n",
    "last_hidden_states = outputs.last_hidden_state\n",
    "\n",
    "print(inputs)"
   ]
  },
  {
   "cell_type": "markdown",
   "metadata": {},
   "source": [
    "# BERT-specific preprocessing\n",
    "For the training data:\n",
    "1. Tokenize the sentence\n",
    "2. Add special tokens and pad\n",
    "3. Create the attention mask and token ids\n",
    "4. Convert the attention mask and token ids to tensors"
   ]
  },
  {
   "cell_type": "code",
   "execution_count": 23,
   "metadata": {},
   "outputs": [
    {
     "data": {
      "text/html": [
       "<div>\n",
       "<style scoped>\n",
       "    .dataframe tbody tr th:only-of-type {\n",
       "        vertical-align: middle;\n",
       "    }\n",
       "\n",
       "    .dataframe tbody tr th {\n",
       "        vertical-align: top;\n",
       "    }\n",
       "\n",
       "    .dataframe thead th {\n",
       "        text-align: right;\n",
       "    }\n",
       "</style>\n",
       "<table border=\"1\" class=\"dataframe\">\n",
       "  <thead>\n",
       "    <tr style=\"text-align: right;\">\n",
       "      <th></th>\n",
       "      <th>id_stable</th>\n",
       "      <th>ContentClean</th>\n",
       "      <th>tokenIDs</th>\n",
       "      <th>mask</th>\n",
       "    </tr>\n",
       "  </thead>\n",
       "  <tbody>\n",
       "    <tr>\n",
       "      <th>60</th>\n",
       "      <td>140615</td>\n",
       "      <td>Tragic news: Boy who died falling from hotel w...</td>\n",
       "      <td></td>\n",
       "      <td></td>\n",
       "    </tr>\n",
       "    <tr>\n",
       "      <th>26</th>\n",
       "      <td>26440</td>\n",
       "      <td>Sorry that may not be clear. Many of our allie...</td>\n",
       "      <td></td>\n",
       "      <td></td>\n",
       "    </tr>\n",
       "    <tr>\n",
       "      <th>378</th>\n",
       "      <td>91190</td>\n",
       "      <td>State Department Official Makes Shocking Admis...</td>\n",
       "      <td></td>\n",
       "      <td></td>\n",
       "    </tr>\n",
       "  </tbody>\n",
       "</table>\n",
       "</div>"
      ],
      "text/plain": [
       "     id_stable                                       ContentClean tokenIDs  \\\n",
       "60      140615  Tragic news: Boy who died falling from hotel w...            \n",
       "26       26440  Sorry that may not be clear. Many of our allie...            \n",
       "378      91190  State Department Official Makes Shocking Admis...            \n",
       "\n",
       "    mask  \n",
       "60        \n",
       "26        \n",
       "378       "
      ]
     },
     "execution_count": 23,
     "metadata": {},
     "output_type": "execute_result"
    }
   ],
   "source": [
    "# for testing, take a smaller df\n",
    "my_df = x_val[0:3]\n",
    "my_df"
   ]
  },
  {
   "cell_type": "markdown",
   "metadata": {},
   "source": [
    "# ___________ BOOKMARK - START HERE ___________"
   ]
  },
  {
   "cell_type": "code",
   "execution_count": 24,
   "metadata": {},
   "outputs": [
    {
     "name": "stdout",
     "output_type": "stream",
     "text": [
      "{'input_ids': tensor([[  101, 13800,  2739,  1024,  2879,  2040,  2351,  4634,  2013,  3309,\n",
      "          3332,  1999,  8533,  2001, 12632, 13141,  1010,  4311,  2360,   102]]), 'attention_mask': tensor([[1, 1, 1, 1, 1, 1, 1, 1, 1, 1, 1, 1, 1, 1, 1, 1, 1, 1, 1, 1]])}\n",
      "{'input_ids': tensor([[  101,  3374,  2008,  2089,  2025,  2022,  3154,  1012,  2116,  1997,\n",
      "          2256,  6956,  2024,  1999,  9275,  1999,  4501,  1998,  2634,  1998,\n",
      "          1045,  2228,  2060,  2353,  3032,  2421, 12577,  1998, 23538,  1012,\n",
      "          2035, 15497,  1996,  2345, 17397,  2000,  4875,  2000,  1996,  2866,\n",
      "          1012,  2057,  1005,  2310,  2170,  2256,  3169,  2000, 25141,  9286,\n",
      "         12632,  2015,  1999,  1996,  2866,  1000,  3169,  4010,  6160,  1000,\n",
      "           102]]), 'attention_mask': tensor([[1, 1, 1, 1, 1, 1, 1, 1, 1, 1, 1, 1, 1, 1, 1, 1, 1, 1, 1, 1, 1, 1, 1, 1,\n",
      "         1, 1, 1, 1, 1, 1, 1, 1, 1, 1, 1, 1, 1, 1, 1, 1, 1, 1, 1, 1, 1, 1, 1, 1,\n",
      "         1, 1, 1, 1, 1, 1, 1, 1, 1, 1, 1, 1, 1]])}\n",
      "{'input_ids': tensor([[  101,  2110,  2533,  2880,  3084, 16880,  9634,  1011,  1037,  2110,\n",
      "          2533,  2880,  2038,  3555,  2008,  1037,  3484,  1997,  1996,  2569,\n",
      "         11560,  9425, 17362,  2020,  2187,  2369,  1999,  7041,  1012,  3081,\n",
      "           102]]), 'attention_mask': tensor([[1, 1, 1, 1, 1, 1, 1, 1, 1, 1, 1, 1, 1, 1, 1, 1, 1, 1, 1, 1, 1, 1, 1, 1,\n",
      "         1, 1, 1, 1, 1, 1, 1]])}\n"
     ]
    },
    {
     "name": "stderr",
     "output_type": "stream",
     "text": [
      "c:\\Users\\r_noc\\anaconda3\\lib\\site-packages\\transformers\\tokenization_utils_base.py:2279: UserWarning: `max_length` is ignored when `padding`=`True` and there is no truncation strategy. To pad to max length, use `padding='max_length'`.\n",
      "  warnings.warn(\n"
     ]
    }
   ],
   "source": [
    "def bert_preprocess(df, text_col=\"ContentClean\", tokenID_col=\"tokenIDs\", mask_col=\"mask\"):\n",
    "    # Define: how long we want the final vectors to be, based on max (pad only), the end punctuation that we want to seperate at.\n",
    "    goal_len = max([len(i) for i in df[text_col]])\n",
    "    end_punct = \".!?\"\n",
    "\n",
    "    # Create two lists to hold the token ids and masks that will eventually become columns\n",
    "    tokenID_list = []\n",
    "    mask_list = []\n",
    "\n",
    "    for row_idx, text in zip(df.index, df[text_col]):\n",
    "        # tokenize the basic sentence\n",
    "        tokens = tokenizer(text, padding=True, max_length=goal_len, return_tensors=\"pt\") #, return_tensors='pt'\n",
    "        print(tokens)\n",
    "\n",
    "    #     # Add the CLS token to signify the beginning of the text\n",
    "    #     finished_tokens = [\"[CLS]\"] + tokens\n",
    "    #     # Add the SEP token in place of end punctuation to indicate seperations in the text\n",
    "    #     for i, t in enumerate(finished_tokens):\n",
    "    #         if t in end_punct:\n",
    "    #             finished_tokens[i] = \"[SEP]\"\n",
    "    #     # Make sure the final SEP token is in place\n",
    "    #     if finished_tokens[-1] != \"[SEP]\":\n",
    "    #         finished_tokens.append(\"[SEP]\")\n",
    "    #     # Find out how many PAD tokens we need to make all texts the desired length, and add them.\n",
    "    #     pad_num = goal_len - len(finished_tokens)\n",
    "    #     finished_tokens = finished_tokens + (pad_num * [\"[PAD]\"])\n",
    "\n",
    "    #     # Create the attnetion mask, making sure PAD tokens are not given attention.\n",
    "    #     attention_mask = [1 if i!= '[PAD]' else 0 for i in finished_tokens]\n",
    "    #     token_ids = tokenizer.convert_tokens_to_ids(finished_tokens)\n",
    "\n",
    "    #     # Converts token_id and attention mask to tensors\n",
    "    #     token_ids = torch.tensor(token_ids).unsqueeze(0)\n",
    "    #     attention_mask = torch.tensor(attention_mask).unsqueeze(0)\n",
    "\n",
    "    #     # Add token_id and attention mask to appropriate columns\n",
    "    #     # tokenID_list.append(token_ids)\n",
    "    #     # mask_list.append(attention_mask)\n",
    "    #     tokenID_list.append([row_idx, token_ids])\n",
    "    #     mask_list.append([row_idx, attention_mask])\n",
    "\n",
    "    # ########### START HERE ###########\n",
    "    # # I need to figure out what exactly should be appended from the list to the df. \n",
    "    # # It should be something that looks kina like:\n",
    "    #     # tensor([[ 101, 7078, 1996, 5409,  102, 5223, 2009,  102,    0,    0,    0]])\n",
    "    #     # tensor([[1, 1, 1, 1, 1, 1, 1, 1, 0, 0, 0]])\n",
    "    # print(tokenID_list[0][1])\n",
    "    # #print(mask_list[1][1])\n",
    "    # # take the lists and add them as columns to the df\n",
    "    # df[tokenID_col] = tokenID_list[1][1]\n",
    "    # df[mask_col] = mask_list[1][1]\n",
    "\n",
    "    # return \"Yay!\"\n",
    "\n",
    "bert_preprocess(my_df, text_col=\"ContentClean\", tokenID_col=\"tokenIDs\", mask_col=\"mask\")\n",
    "# Thanks to \"Getting Started with Google BERT\""
   ]
  },
  {
   "cell_type": "code",
   "execution_count": 66,
   "metadata": {},
   "outputs": [
    {
     "data": {
      "text/html": [
       "<div>\n",
       "<style scoped>\n",
       "    .dataframe tbody tr th:only-of-type {\n",
       "        vertical-align: middle;\n",
       "    }\n",
       "\n",
       "    .dataframe tbody tr th {\n",
       "        vertical-align: top;\n",
       "    }\n",
       "\n",
       "    .dataframe thead th {\n",
       "        text-align: right;\n",
       "    }\n",
       "</style>\n",
       "<table border=\"1\" class=\"dataframe\">\n",
       "  <thead>\n",
       "    <tr style=\"text-align: right;\">\n",
       "      <th></th>\n",
       "      <th>id_stable</th>\n",
       "      <th>ContentClean</th>\n",
       "      <th>tokenIDs</th>\n",
       "      <th>mask</th>\n",
       "    </tr>\n",
       "  </thead>\n",
       "  <tbody>\n",
       "    <tr>\n",
       "      <th>60</th>\n",
       "      <td>140615</td>\n",
       "      <td>Tragic news: Boy who died falling from hotel w...</td>\n",
       "      <td>[[tensor(101), tensor(13800), tensor(2739), te...</td>\n",
       "      <td>[[tensor(1), tensor(1), tensor(1), tensor(1), ...</td>\n",
       "    </tr>\n",
       "    <tr>\n",
       "      <th>26</th>\n",
       "      <td>26440</td>\n",
       "      <td>Sorry that may not be clear. Many of our allie...</td>\n",
       "      <td>[[tensor(101), tensor(3374), tensor(2008), ten...</td>\n",
       "      <td>[[tensor(1), tensor(1), tensor(1), tensor(1), ...</td>\n",
       "    </tr>\n",
       "    <tr>\n",
       "      <th>378</th>\n",
       "      <td>91190</td>\n",
       "      <td>State Department Official Makes Shocking Admis...</td>\n",
       "      <td>[[tensor(101), tensor(2110), tensor(2533), ten...</td>\n",
       "      <td>[[tensor(1), tensor(1), tensor(1), tensor(1), ...</td>\n",
       "    </tr>\n",
       "  </tbody>\n",
       "</table>\n",
       "</div>"
      ],
      "text/plain": [
       "     id_stable                                       ContentClean  \\\n",
       "60      140615  Tragic news: Boy who died falling from hotel w...   \n",
       "26       26440  Sorry that may not be clear. Many of our allie...   \n",
       "378      91190  State Department Official Makes Shocking Admis...   \n",
       "\n",
       "                                              tokenIDs  \\\n",
       "60   [[tensor(101), tensor(13800), tensor(2739), te...   \n",
       "26   [[tensor(101), tensor(3374), tensor(2008), ten...   \n",
       "378  [[tensor(101), tensor(2110), tensor(2533), ten...   \n",
       "\n",
       "                                                  mask  \n",
       "60   [[tensor(1), tensor(1), tensor(1), tensor(1), ...  \n",
       "26   [[tensor(1), tensor(1), tensor(1), tensor(1), ...  \n",
       "378  [[tensor(1), tensor(1), tensor(1), tensor(1), ...  "
      ]
     },
     "execution_count": 66,
     "metadata": {},
     "output_type": "execute_result"
    }
   ],
   "source": [
    "my_df"
   ]
  },
  {
   "cell_type": "code",
   "execution_count": 68,
   "metadata": {},
   "outputs": [
    {
     "name": "stdout",
     "output_type": "stream",
     "text": [
      "['absolutely', 'the', 'worst', '.', 'hate', 'it']\n",
      "['[CLS]', 'absolutely', 'the', 'worst', '[SEP]', 'hate', 'it', '[SEP]', '[PAD]', '[PAD]', '[PAD]']\n",
      "[1, 1, 1, 1, 1, 1, 1, 1, 0, 0, 0]\n",
      "[101, 7078, 1996, 5409, 102, 5223, 2009, 102, 0, 0, 0]\n",
      "\n",
      "tensor([[ 101, 7078, 1996, 5409,  102, 5223, 2009,  102,    0,    0,    0]])\n",
      "tensor([[1, 1, 1, 1, 1, 1, 1, 1, 0, 0, 0]])\n"
     ]
    }
   ],
   "source": [
    "# Define a text, how long we want the evential padded token list to be, and what are end punctuation that we want to seperate at.\n",
    "text = \"Absolutely the worst. Hate it\"\n",
    "goal_len = 11\n",
    "end_punct = \".!?\"\n",
    "\n",
    "# tokenize the basic sentence\n",
    "tokens = tokenizer.tokenize(text) #, return_tensors='pt'\n",
    "\n",
    "# Add the CLS token to signify the beginning of the text\n",
    "finished_tokens = [\"[CLS]\"] + tokens\n",
    "# Add the SEP token in place of end punctuation to indicate seperations in the text\n",
    "for i, t in enumerate(finished_tokens):\n",
    "    if t in end_punct:\n",
    "        finished_tokens[i] = \"[SEP]\"\n",
    "# Make sure the final SEP token is in place\n",
    "if finished_tokens[-1] != \"[SEP]\":\n",
    "    finished_tokens.append(\"[SEP]\")\n",
    "# Find out how many PAD tokens we need to make all texts the desired length, and add them.\n",
    "pad_num = goal_len - len(finished_tokens)\n",
    "finished_tokens = finished_tokens + (pad_num * [\"[PAD]\"])\n",
    "\n",
    "# Create the attnetion mask, making sure PAD tokens are not given attention.\n",
    "attention_mask = [1 if i!= '[PAD]' else 0 for i in finished_tokens]\n",
    "token_ids = tokenizer.convert_tokens_to_ids(finished_tokens)\n",
    "\n",
    "print(tokens)\n",
    "print(finished_tokens)\n",
    "print(attention_mask)\n",
    "print(token_ids)\n",
    "\n",
    "# Converts token_id and attention mask to tensors\n",
    "token_ids = torch.tensor(token_ids).unsqueeze(0)\n",
    "attention_mask = torch.tensor(attention_mask).unsqueeze(0)\n",
    "\n",
    "print()\n",
    "print(token_ids)\n",
    "print(attention_mask)\n",
    "\n",
    "# result = model(tokens)\n",
    "# result\n",
    "# Thanks to \"Getting Started with Google BERT\""
   ]
  },
  {
   "cell_type": "markdown",
   "metadata": {},
   "source": [
    "### Get the word/token embeddings\n",
    "NOTE: torch.Size([1, 7, 768]) indicates [batch_size, sequence_length, hidden_size], where 'hidden size' is the model-based representation size, 768 for BERT-base\n",
    "\n",
    "Note: \"instead of taking embeddings only from the final encoder layer (final hidden layer), we can also use embeddings from the other encoder layers,\" which may give better results (eg. concatenating the last four hidden). -\"Getting Started with Google BERT\n"
   ]
  },
  {
   "cell_type": "code",
   "execution_count": 50,
   "metadata": {},
   "outputs": [],
   "source": [
    "# FOR output_hidden_states = False\n",
    "# hidden_rep, cls_head = model(token_ids, attention_mask = attention_mask)\n",
    "# print(hidden_rep.shape) \n",
    "\n",
    "# FOR output_hidden_states = True\n",
    "last_hidden_state, pooler_output, hidden_states = model(token_ids, attention_mask = attention_mask)\n",
    "# returns: [last_hidden_state, pooler_output, hidden_states]\n",
    "#   last_hidden_state[0][n]: returns the representation of the nth token in the final encoder layer\n",
    "#   pooler_output: the representation of the [CLS] token, which holds the aggregate representation of the sentence.\n",
    "#   hidden_states: a tuple containing 13 values holding the representation of all encoder layers (hidden layers), from the input embedding layer  to the final encoder layer \n",
    "#      hidden_states[n]: representations of all tokens from the nth encoder layer\n"
   ]
  },
  {
   "cell_type": "code",
   "execution_count": 51,
   "metadata": {},
   "outputs": [
    {
     "data": {
      "text/plain": [
       "torch.Size([1, 768])"
      ]
     },
     "execution_count": 51,
     "metadata": {},
     "output_type": "execute_result"
    }
   ],
   "source": [
    "rCLS = pooler_output\n",
    "rCLS.shape"
   ]
  },
  {
   "cell_type": "code",
   "execution_count": null,
   "metadata": {},
   "outputs": [],
   "source": [
    "text = \"Replace me by any text you'd like.\"\n",
    "\n",
    "encoded_input = tokenizer(text, return_tensors='pt')\n",
    "\n",
    "output = model(**encoded_input)\n"
   ]
  }
 ],
 "metadata": {
  "interpreter": {
   "hash": "39c2229591b4ec9ca260d3f249b9b0f6eb23a8220ef0c3d318c236a623f78e8c"
  },
  "kernelspec": {
   "display_name": "Python 3.8.13 ('base')",
   "language": "python",
   "name": "python3"
  },
  "language_info": {
   "codemirror_mode": {
    "name": "ipython",
    "version": 3
   },
   "file_extension": ".py",
   "mimetype": "text/x-python",
   "name": "python",
   "nbconvert_exporter": "python",
   "pygments_lexer": "ipython3",
   "version": "3.8.13"
  },
  "orig_nbformat": 4
 },
 "nbformat": 4,
 "nbformat_minor": 2
}
