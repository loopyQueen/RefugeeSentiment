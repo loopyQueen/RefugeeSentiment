{
 "cells": [
  {
   "cell_type": "markdown",
   "metadata": {},
   "source": [
    "Copyright (c) <2022>, <Regina Nockerts>\n",
    "All rights reserved.\n",
    "\n",
    "This source code is licensed under the BSD-style license found in the\n",
    "LICENSE file in the root directory of this source tree. \n"
   ]
  },
  {
   "cell_type": "code",
   "execution_count": null,
   "metadata": {},
   "outputs": [],
   "source": [
    "import pandas as pd\n",
    "import numpy as np\n",
    "import re\n",
    "from nlpUtils import aardvark as aa \n",
    "from numpy import random as rand\n",
    "from sklearn.utils import resample\n",
    "from sklearn.model_selection import train_test_split\n",
    "\n",
    "import matplotlib.pyplot as plt\n",
    "%matplotlib inline\n",
    "plt.style.use('fivethirtyeight')\n",
    "import seaborn as sns\n",
    "\n",
    "# from nltk.tokenize import sent_tokenize  # Creates a list of sentences\n",
    "# from nltk.tokenize import word_tokenize  # tokenizes a text\n",
    "# from nltk.tokenize import TweetTokenizer  # Prefered: tokenizes a text, with extra controls\n",
    "# from nltk.probability import FreqDist"
   ]
  },
  {
   "cell_type": "code",
   "execution_count": null,
   "metadata": {},
   "outputs": [],
   "source": [
    "import emoji  # https://pypi.org/project/emoji/\n",
    "print(emoji.emojize('Python is :thumbs_up:'))\n",
    "print(emoji.demojize('Python is 👍'))\n",
    "print(emoji.is_emoji(\"👍\"))"
   ]
  },
  {
   "cell_type": "markdown",
   "metadata": {},
   "source": [
    "# Dealing with Imbalanced Data\n",
    "So, there are a LOT fewer positive tweets in our set than negative tweets. We will need to deal with that before using machine learning algorithms, or the models will simply learn to predict the majority class. \n",
    "\n",
    "IN ADDITION: remember that our evaluation metric will be F1 and AUC. Create a confusion matrix.\n",
    "\n",
    "### Sentiment: Downsample negative sentiment tweets in the Training Data\n",
    "\n",
    "**QUESTION: Can I put the unused rows back in the validation data?** ________\n",
    "\n",
    "I don't think so: the validation set should resemble the distribution of test data/new data coming in."
   ]
  },
  {
   "cell_type": "code",
   "execution_count": null,
   "metadata": {},
   "outputs": [],
   "source": [
    "## Generator.permutation: which should be used for new code ##\n",
    "\n",
    "# Make a list of the stable ids of rows that are of sentiment label 1 (negative)\n",
    "# Shuffle that list and divide it in half. We can now use this as a random selection of rows to remove from the dominant class.\n",
    "\n",
    "my_index = []\n",
    "for i, label in zip(y_train_sent.id_stable, y_train_sent.y_sent):\n",
    "    if label == 1:\n",
    "        my_index.append(i)\n",
    "print(\"Initial index length:\", len(my_index))\n",
    "\n",
    "rand.seed(10)\n",
    "del_index = np.random.permutation(my_index) \n",
    "\n",
    "del_index = del_index[0:len(del_index)//2]\n",
    "print(\"Random half length:\", len(del_index))\n",
    "\n",
    "del_index"
   ]
  },
  {
   "cell_type": "code",
   "execution_count": null,
   "metadata": {},
   "outputs": [],
   "source": [
    "print(\"Sentiment, BEFORE row drop\")\n",
    "print(\"y_train:\", y_train_sent.shape)\n",
    "print(\"x_train:\", x_train.shape)\n",
    "\n",
    "for idx, stable in zip(x_train.index, x_train[\"id_stable\"]):\n",
    "    if stable in del_index:\n",
    "        y_train_sent.drop(idx, axis=0, inplace=True)\n",
    "        x_train.drop(idx, axis=0, inplace=True)\n",
    "\n",
    "print()\n",
    "print(\"Sentiment, AFTER row drop\")\n",
    "print(\"y_train:\", y_train_sent.shape)\n",
    "print(\"x_train:\", x_train.shape)\n",
    "\n",
    "# x_train = x_train.copy()\n",
    "# y_train_sent = y_train_sent.copy()\n"
   ]
  },
  {
   "cell_type": "code",
   "execution_count": null,
   "metadata": {},
   "outputs": [],
   "source": [
    "#plot class distribution\n",
    "plt.figure(figsize=(10, 5))\n",
    "sns.countplot(x=y_train_sent[\"y_sent\"], palette='Spectral')\n",
    "plt.xlabel('Classes')\n",
    "plt.title('Class Distribution in Training Data, Sentiment');"
   ]
  },
  {
   "cell_type": "markdown",
   "metadata": {},
   "source": [
    "# Save the Results\n",
    "\n",
    "NOTE: Can continue to vader notebook or Jump to bert notebook, run the models on these datasets:\n"
   ]
  },
  {
   "cell_type": "code",
   "execution_count": null,
   "metadata": {},
   "outputs": [],
   "source": [
    "x_train.to_csv(\"x_train.csv\")\n",
    "x_val.to_csv(\"x_val.csv\")\n",
    "y_train_sent.to_csv(\"y_train_sent.csv\")\n",
    "y_val_sent.to_csv(\"y_val_sent.csv\")"
   ]
  }
 ],
 "metadata": {
  "language_info": {
   "name": "python"
  },
  "orig_nbformat": 4
 },
 "nbformat": 4,
 "nbformat_minor": 2
}
